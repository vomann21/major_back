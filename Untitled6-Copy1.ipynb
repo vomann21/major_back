{
 "cells": [
  {
   "cell_type": "code",
   "execution_count": 4,
   "id": "8f583a81-0e72-4b1e-b950-ba417fc2f6b8",
   "metadata": {},
   "outputs": [],
   "source": [
    "from flask import Flask, jsonify\n",
    "from sklearn.metrics.pairwise import cosine_similarity\n",
    "from gensim.models import Word2Vec\n",
    "import pandas as pd\n",
    "from nltk.stem.porter import PorterStemmer\n",
    "from flask_cors import CORS\n",
    "\n"
   ]
  },
  {
   "cell_type": "code",
   "execution_count": 5,
   "id": "90852f2e-9666-4d15-9d0d-948b376f994a",
   "metadata": {},
   "outputs": [],
   "source": [
    "laptop_df = pd.read_csv('amaz_laptops.csv')\n",
    "phone_df = pd.read_csv('amaz_phones.csv')\n",
    "fridge_df = pd.read_csv('amaz_fridges.csv')\n",
    "tv_df = pd.read_csv('amaz_tv.csv')\n",
    "ac_df = pd.read_csv('amaz_ac.csv')\n",
    "laptopf_df = pd.read_csv('flip_laptop.csv')\n",
    "phonef_df = pd.read_csv('flip_phones.csv')\n",
    "fridgef_df = pd.read_csv('flip_fridgess.csv')\n",
    "tvf_df = pd.read_csv('flip_tv.csv')\n",
    "acf_df = pd.read_csv('flip_ac.csv')\n",
    "combined_df = pd.concat([laptop_df, laptopf_df, phone_df, ac_df, phonef_df, fridge_df, acf_df, tv_df, fridgef_df, tvf_df], axis=0, ignore_index=True)"
   ]
  },
  {
   "cell_type": "code",
   "execution_count": 6,
   "id": "7aa55a45-9bb2-4ce8-b2d6-5c41261c1b2b",
   "metadata": {},
   "outputs": [],
   "source": [
    "combined_df['price'].fillna('33999', inplace=True)\n",
    "combined_df['price'] = combined_df['price'].astype(str)"
   ]
  },
  {
   "cell_type": "code",
   "execution_count": 7,
   "id": "d67e518a-6922-457e-92b6-17ec0fb79507",
   "metadata": {},
   "outputs": [],
   "source": [
    "# Concatenate data\n",
    "new_df = pd.concat([laptop_df, phone_df, fridge_df, tv_df, ac_df, laptopf_df, phonef_df, fridgef_df, tvf_df, acf_df], axis=0, ignore_index=True)\n",
    "new_df['price'] = new_df['price'].astype(str)\n",
    "new_df['description'] = new_df['description'].astype(str)\n"
   ]
  },
  {
   "cell_type": "code",
   "execution_count": 8,
   "id": "46b2892b-6f5f-48d9-9f97-f7cc387b51a2",
   "metadata": {},
   "outputs": [],
   "source": [
    "def remove_special_characters(text):\n",
    "    import re\n",
    "    # Replace all non-alphabetic characters and spaces with an empty string\n",
    "    return re.sub(r'[^a-zA-Z0-9\\s]', '', text)"
   ]
  },
  {
   "cell_type": "code",
   "execution_count": 9,
   "id": "6614cb50-75df-4331-9cdd-955d78c1574f",
   "metadata": {},
   "outputs": [],
   "source": [
    "new_df['price'] = new_df['price'].apply(remove_special_characters)\n",
    "new_df['description'] = new_df['description'].apply(remove_special_characters)\n",
    "new_df['brand'] = new_df['brand'].apply(remove_special_characters)\n",
    "new_df['platform'] = new_df['platform'].apply(remove_special_characters)\n",
    "new_df['type'] = new_df['type'].apply(remove_special_characters)\n"
   ]
  },
  {
   "cell_type": "code",
   "execution_count": 10,
   "id": "bbee2b46-dfee-49cf-8bc6-61f997c0c041",
   "metadata": {},
   "outputs": [],
   "source": [
    "new_df['tags'] = new_df['title'] + new_df['price'] + new_df['description'] + new_df['brand'] + new_df['type']\n"
   ]
  },
  {
   "cell_type": "code",
   "execution_count": 11,
   "id": "7dfd4604-aacb-4250-b198-28ef817d0858",
   "metadata": {},
   "outputs": [],
   "source": [
    "ps = PorterStemmer()\n",
    "new_df['tags'] = new_df['tags'].apply(lambda x: ' '.join([ps.stem(word.lower()) for word in x.split()]))"
   ]
  },
  {
   "cell_type": "code",
   "execution_count": 12,
   "id": "d81c08ad-ab7c-4a1f-ad37-02314fa23527",
   "metadata": {},
   "outputs": [],
   "source": [
    "sentences = [tag.split() for tag in new_df['tags']]\n",
    "model = Word2Vec(sentences, sg=1, window=5, min_count=1, workers=4)\n",
    "word_vectors = model.wv"
   ]
  },
  {
   "cell_type": "code",
   "execution_count": 13,
   "id": "b7f22e83-d5f5-4eaf-84dd-c6fad3ad7310",
   "metadata": {},
   "outputs": [],
   "source": [
    "# app = Flask(__name__)\n",
    "# CORS(app)\n",
    "\n",
    "# @app.route('/recommend/<string:title>')\n",
    "# def recommend(title):\n",
    "#     top_n = 20\n",
    "#     product_index = new_df[new_df['title'] == title].index[0]\n",
    "#     similar_products = model.wv.most_similar(positive=[new_df.iloc[product_index]['tags']], topn=top_n)\n",
    "    \n",
    "#     result = []\n",
    "#     for prod, score in similar_products:\n",
    "#         similar_product = new_df.iloc[prod]\n",
    "#         temp = {\n",
    "#             \"title\": similar_product['title'],\n",
    "#             \"price\": combined_df.iloc[prod]['price'],\n",
    "#             \"image\": combined_df.iloc[prod]['image'],\n",
    "#             \"product_link\": combined_df.iloc[prod]['product_link'],\n",
    "#             \"brand\": similar_product['brand'],\n",
    "#             \"platform\": similar_product['platform'],\n",
    "#             \"description\": similar_product['description']\n",
    "#         }\n",
    "#         result.append(temp)\n",
    "\n",
    "#     ans = {\"recommended_products\": result}\n",
    "#     print(ans)"
   ]
  },
  {
   "cell_type": "code",
   "execution_count": 14,
   "id": "7ed1e868-b8b6-47e9-b4d0-40130d048038",
   "metadata": {},
   "outputs": [
    {
     "ename": "IndexError",
     "evalue": "index 0 is out of bounds for axis 0 with size 0",
     "output_type": "error",
     "traceback": [
      "\u001b[1;31m---------------------------------------------------------------------------\u001b[0m",
      "\u001b[1;31mIndexError\u001b[0m                                Traceback (most recent call last)",
      "Cell \u001b[1;32mIn[14], line 1\u001b[0m\n\u001b[1;32m----> 1\u001b[0m \u001b[43mrecommend\u001b[49m\u001b[43m(\u001b[49m\u001b[38;5;124;43m\"\u001b[39;49m\u001b[38;5;124;43mApple iphone 13 (128GB)\u001b[39;49m\u001b[38;5;124;43m\"\u001b[39;49m\u001b[43m)\u001b[49m\n",
      "Cell \u001b[1;32mIn[13], line 7\u001b[0m, in \u001b[0;36mrecommend\u001b[1;34m(title)\u001b[0m\n\u001b[0;32m      4\u001b[0m \u001b[38;5;129m@app\u001b[39m\u001b[38;5;241m.\u001b[39mroute(\u001b[38;5;124m'\u001b[39m\u001b[38;5;124m/recommend/<string:title>\u001b[39m\u001b[38;5;124m'\u001b[39m)\n\u001b[0;32m      5\u001b[0m \u001b[38;5;28;01mdef\u001b[39;00m \u001b[38;5;21mrecommend\u001b[39m(title):\n\u001b[0;32m      6\u001b[0m     top_n \u001b[38;5;241m=\u001b[39m \u001b[38;5;241m20\u001b[39m\n\u001b[1;32m----> 7\u001b[0m     product_index \u001b[38;5;241m=\u001b[39m \u001b[43mnew_df\u001b[49m\u001b[43m[\u001b[49m\u001b[43mnew_df\u001b[49m\u001b[43m[\u001b[49m\u001b[38;5;124;43m'\u001b[39;49m\u001b[38;5;124;43mtitle\u001b[39;49m\u001b[38;5;124;43m'\u001b[39;49m\u001b[43m]\u001b[49m\u001b[43m \u001b[49m\u001b[38;5;241;43m==\u001b[39;49m\u001b[43m \u001b[49m\u001b[43mtitle\u001b[49m\u001b[43m]\u001b[49m\u001b[38;5;241;43m.\u001b[39;49m\u001b[43mindex\u001b[49m\u001b[43m[\u001b[49m\u001b[38;5;241;43m0\u001b[39;49m\u001b[43m]\u001b[49m\n\u001b[0;32m      8\u001b[0m     similar_products \u001b[38;5;241m=\u001b[39m model\u001b[38;5;241m.\u001b[39mwv\u001b[38;5;241m.\u001b[39mmost_similar(positive\u001b[38;5;241m=\u001b[39m[new_df\u001b[38;5;241m.\u001b[39miloc[product_index][\u001b[38;5;124m'\u001b[39m\u001b[38;5;124mtags\u001b[39m\u001b[38;5;124m'\u001b[39m]], topn\u001b[38;5;241m=\u001b[39mtop_n)\n\u001b[0;32m     10\u001b[0m     result \u001b[38;5;241m=\u001b[39m []\n",
      "File \u001b[1;32m~\\AppData\\Local\\Programs\\Python\\Python311\\Lib\\site-packages\\pandas\\core\\indexes\\base.py:5365\u001b[0m, in \u001b[0;36mIndex.__getitem__\u001b[1;34m(self, key)\u001b[0m\n\u001b[0;32m   5362\u001b[0m \u001b[38;5;28;01mif\u001b[39;00m is_integer(key) \u001b[38;5;129;01mor\u001b[39;00m is_float(key):\n\u001b[0;32m   5363\u001b[0m     \u001b[38;5;66;03m# GH#44051 exclude bool, which would return a 2d ndarray\u001b[39;00m\n\u001b[0;32m   5364\u001b[0m     key \u001b[38;5;241m=\u001b[39m com\u001b[38;5;241m.\u001b[39mcast_scalar_indexer(key)\n\u001b[1;32m-> 5365\u001b[0m     \u001b[38;5;28;01mreturn\u001b[39;00m \u001b[43mgetitem\u001b[49m\u001b[43m(\u001b[49m\u001b[43mkey\u001b[49m\u001b[43m)\u001b[49m\n\u001b[0;32m   5367\u001b[0m \u001b[38;5;28;01mif\u001b[39;00m \u001b[38;5;28misinstance\u001b[39m(key, \u001b[38;5;28mslice\u001b[39m):\n\u001b[0;32m   5368\u001b[0m     \u001b[38;5;66;03m# This case is separated from the conditional above to avoid\u001b[39;00m\n\u001b[0;32m   5369\u001b[0m     \u001b[38;5;66;03m# pessimization com.is_bool_indexer and ndim checks.\u001b[39;00m\n\u001b[0;32m   5370\u001b[0m     \u001b[38;5;28;01mreturn\u001b[39;00m \u001b[38;5;28mself\u001b[39m\u001b[38;5;241m.\u001b[39m_getitem_slice(key)\n",
      "\u001b[1;31mIndexError\u001b[0m: index 0 is out of bounds for axis 0 with size 0"
     ]
    }
   ],
   "source": [
    "# recommend(\"Apple iphone 13 (128GB)\")"
   ]
  },
  {
   "cell_type": "code",
   "execution_count": null,
   "id": "f295d7fe-926a-406f-a75f-763df8597bfc",
   "metadata": {},
   "outputs": [],
   "source": [
    "combined_df"
   ]
  },
  {
   "cell_type": "code",
   "execution_count": null,
   "id": "ebfa5c21-880c-447c-951d-62575667f545",
   "metadata": {},
   "outputs": [],
   "source": [
    "combined_df.info()"
   ]
  },
  {
   "cell_type": "code",
   "execution_count": null,
   "id": "8eb40416-546a-4cdb-b71e-1c2b1f424724",
   "metadata": {},
   "outputs": [],
   "source": [
    "combined_df.isnull().sum()"
   ]
  },
  {
   "cell_type": "code",
   "execution_count": null,
   "id": "9453420b-a88d-465d-8e9b-6886b7e9a872",
   "metadata": {},
   "outputs": [],
   "source": [
    "combined_df['price'].fillna('33999', inplace=True)\n",
    "combined_df['price'] = combined_df['price'].astype(str)"
   ]
  },
  {
   "cell_type": "code",
   "execution_count": null,
   "id": "fd0c9199-aa50-470d-a963-89d181557373",
   "metadata": {},
   "outputs": [],
   "source": [
    "combined_df.to_csv('combined_df.csv')"
   ]
  },
  {
   "cell_type": "code",
   "execution_count": null,
   "id": "a580dea1-807e-41d4-a60f-90f10dcedd4d",
   "metadata": {},
   "outputs": [],
   "source": [
    "new_df = pd.concat([laptop_df,phone_df,fridge_df,tv_df,ac_df,laptopf_df,phonef_df,fridgef_df,tvf_df,acf_df], axis=0, ignore_index=True)\n",
    "new_df.to_csv('new_flipkart_products.csv', index=False)\n",
    "new_df['price'] = new_df['price'].astype(str)\n",
    "new_df['description'] = new_df['description'].astype(str)"
   ]
  },
  {
   "cell_type": "code",
   "execution_count": null,
   "id": "513f3a4f-be35-4ae8-b3dd-82be2fa6411a",
   "metadata": {},
   "outputs": [],
   "source": [
    "new_df"
   ]
  },
  {
   "cell_type": "code",
   "execution_count": null,
   "id": "8bb66cec-ac5c-4fca-98ef-53d610daddf6",
   "metadata": {},
   "outputs": [],
   "source": [
    "def remove_special_characters(text):\n",
    "    import re\n",
    "    # Replace all non-alphabetic characters and spaces with an empty string\n",
    "    return re.sub(r'[^a-zA-Z0-9\\s]', '', text)\n",
    "new_df['price'] = new_df['price'].apply(remove_special_characters)\n",
    "new_df['description'] = new_df['description'].apply(remove_special_characters)\n",
    "new_df['brand'] = new_df['brand'].apply(remove_special_characters)\n",
    "new_df['platform'] = new_df['platform'].apply(remove_special_characters)\n",
    "new_df['type'] = new_df['type'].apply(remove_special_characters)"
   ]
  },
  {
   "cell_type": "code",
   "execution_count": null,
   "id": "af5b772e-e3bb-4ddf-b425-3596e867aeff",
   "metadata": {},
   "outputs": [],
   "source": [
    "new_df"
   ]
  },
  {
   "cell_type": "code",
   "execution_count": null,
   "id": "3a29c251-0aa9-480b-8e27-e451d8b11b86",
   "metadata": {},
   "outputs": [],
   "source": [
    "new_df['tags'] = new_df['type']+new_df['brand']+new_df['title']+new_df['description']\n",
    "new_df.head()\n",
    "new_df['platform']"
   ]
  },
  {
   "cell_type": "code",
   "execution_count": null,
   "id": "d4a828d5-3107-4484-af7a-d7d108e9ef70",
   "metadata": {},
   "outputs": [],
   "source": [
    "new_df = new_df[['title','description','brand','platform','type','tags']]"
   ]
  },
  {
   "cell_type": "code",
   "execution_count": null,
   "id": "92f2933c-f450-47a0-bafb-e72b59e1cff4",
   "metadata": {},
   "outputs": [],
   "source": [
    "import nltk\n",
    "from nltk.stem.porter import PorterStemmer\n",
    "ps = PorterStemmer()"
   ]
  },
  {
   "cell_type": "code",
   "execution_count": null,
   "id": "01d5ccb7-5eb8-45aa-9da8-30d0eb439af8",
   "metadata": {},
   "outputs": [],
   "source": [
    "def stem(text):\n",
    "    y = []\n",
    "    for i in text.split():\n",
    "        y.append(ps.stem(i))\n",
    "    return \" \".join(y)"
   ]
  },
  {
   "cell_type": "code",
   "execution_count": null,
   "id": "78a15337-29be-4228-a1de-def6f38e192c",
   "metadata": {},
   "outputs": [],
   "source": [
    "new_df['tags']=new_df['tags'].apply(stem)"
   ]
  },
  {
   "cell_type": "code",
   "execution_count": null,
   "id": "abd73e98-8af2-4b00-98f4-0ce08d93a3d0",
   "metadata": {},
   "outputs": [],
   "source": [
    "new_df['tags']=new_df['tags'].apply(lambda x:x.lower()) "
   ]
  },
  {
   "cell_type": "code",
   "execution_count": null,
   "id": "010f0c83-0c2a-4808-b522-027e1b08b502",
   "metadata": {},
   "outputs": [],
   "source": [
    "new_df['tags']"
   ]
  },
  {
   "cell_type": "code",
   "execution_count": null,
   "id": "de6bab6a-168d-4089-a939-3a05ca84e3d0",
   "metadata": {},
   "outputs": [],
   "source": [
    "# # from sklearn.feature_extraction.text import CountVectorizer\n",
    "# # cv = CountVectorizer(max_features=5000,stop_words='english')         ##word count\n",
    "\n",
    "# ###SKIP GRAM MODEL\n",
    "# from gensim.models import Word2Vec\n",
    "# from sklearn.feature_extraction.text import CountVectorizer\n",
    "\n",
    "# # Assuming new_df['tags'] contains your text data\n",
    "# cv = CountVectorizer(max_features=5000, stop_words='english')\n",
    "# vectors = cv.fit_transform(new_df['tags']).toarray()\n",
    "# word_list = cv.get_feature_names_out()\n",
    "\n",
    "# # Convert vectors into list of sentences where each sentence represents a document\n",
    "# sentences = [[word_list[idx] for idx, val in enumerate(row) if val > 0] for row in vectors]\n",
    "\n",
    "# # Train the Word2Vec model\n",
    "# model = Word2Vec(sentences, sg=1)  # sg=1 for skip-gram, sg=0 for CBOW\n",
    "\n",
    "# # Now you can use the trained Word2Vec model to get word embeddings\n",
    "# word_embeddings = model.wv\n",
    "# print(word_embeddings)\n",
    "from sklearn.feature_extraction.text import TfidfVectorizer\n",
    "\n",
    "# Assuming df is your DataFrame and 'tag' is the column with the text\n",
    "vectorizer = TfidfVectorizer()\n",
    "X = vectorizer.fit_transform(new_df['tags'])"
   ]
  },
  {
   "cell_type": "code",
   "execution_count": null,
   "id": "2b98b0b7-6222-48dc-8e15-6413f92a4eea",
   "metadata": {},
   "outputs": [],
   "source": [
    "X\n",
    "# vectors = cv.fit_transform(new_df['tags']).toarray()"
   ]
  },
  {
   "cell_type": "code",
   "execution_count": null,
   "id": "6cb62bba-c328-4ee0-aab0-57594798380e",
   "metadata": {},
   "outputs": [],
   "source": [
    "# vectors"
   ]
  },
  {
   "cell_type": "code",
   "execution_count": null,
   "id": "2dd79e65-c93a-468d-b2d6-f8358eb9cec3",
   "metadata": {},
   "outputs": [],
   "source": [
    "cv.get_feature_names_out()"
   ]
  },
  {
   "cell_type": "code",
   "execution_count": null,
   "id": "6322698e-a257-4e6f-9b6f-98012dfa615d",
   "metadata": {},
   "outputs": [],
   "source": []
  },
  {
   "cell_type": "code",
   "execution_count": null,
   "id": "a88c7200-5f7d-4d36-b87e-0fd954bb9950",
   "metadata": {},
   "outputs": [],
   "source": [
    "from sklearn.metrics.pairwise import cosine_similarity"
   ]
  },
  {
   "cell_type": "code",
   "execution_count": null,
   "id": "f66b171d-73a1-4c1c-a2d3-90da19d90321",
   "metadata": {},
   "outputs": [],
   "source": [
    "cosine_similarity(vectors).shape"
   ]
  },
  {
   "cell_type": "code",
   "execution_count": null,
   "id": "4415071c-6a91-4640-bd71-f2d1b9ff1a9e",
   "metadata": {},
   "outputs": [],
   "source": [
    "similarity = cosine_similarity(vectors)"
   ]
  },
  {
   "cell_type": "code",
   "execution_count": null,
   "id": "9911d18b-16d4-40a3-9a70-2f036eb7ddb9",
   "metadata": {},
   "outputs": [],
   "source": [
    "def recommend(title):\n",
    "    top_n = 20\n",
    "    product_index = new_df[new_df['title'] == title].index[0]\n",
    "    distances = similarity[product_index]\n",
    "    product_list = sorted(list(enumerate(distances)), reverse=True, key=lambda x: x[1])[1:90]\n",
    "\n",
    "    result = []\n",
    "    unique_products = set()\n",
    "    count = 0\n",
    "\n",
    "    for i in product_list:\n",
    "        if count >= top_n:\n",
    "            break\n",
    "\n",
    "        product_details = combined_df.iloc[i[0]].description\n",
    "\n",
    "        # Check if the product details are not already in the set\n",
    "        if product_details not in unique_products:\n",
    "            product_details = combined_df.iloc[i[0]].description\n",
    "            # Add the product details to the set to ensure uniqueness\n",
    "            unique_products.add(product_details)\n",
    "            count += 1\n",
    "            temp = {\n",
    "                \"index\" : i[0],\n",
    "                \"title\" : new_df.iloc[i[0]].title,\n",
    "                \"price\" : combined_df.iloc[i[0]].price,\n",
    "                \"image\" : combined_df.iloc[i[0]].image,\n",
    "                \"product_link\": combined_df.iloc[i[0]].product_link,\n",
    "                \"brand\" : new_df.iloc[i[0]].brand,\n",
    "                \"platform\" : new_df.iloc[i[0]].platform,\n",
    "                \"description\" : new_df.iloc[i[0]].description\n",
    "            }\n",
    "            result.append(temp)\n",
    "\n",
    "    ans = {\n",
    "        \"recommended_products\": result\n",
    "    }        \n",
    "    print(ans)"
   ]
  },
  {
   "cell_type": "code",
   "execution_count": null,
   "id": "64d1337b-6901-471b-a119-8eb7cf6802bd",
   "metadata": {},
   "outputs": [],
   "source": [
    "recommend(\"Apple iPhone 13 (128GB)\")"
   ]
  },
  {
   "cell_type": "code",
   "execution_count": null,
   "id": "b3b931b8-e82c-4e08-a2b7-071d42f3a2a7",
   "metadata": {},
   "outputs": [],
   "source": []
  },
  {
   "cell_type": "code",
   "execution_count": null,
   "id": "2702e129-a9b2-4eb8-8446-b78c411dda2d",
   "metadata": {},
   "outputs": [],
   "source": []
  },
  {
   "cell_type": "code",
   "execution_count": null,
   "id": "597e11e0-3339-49bd-8ca3-bfd8be075f7d",
   "metadata": {},
   "outputs": [],
   "source": []
  },
  {
   "cell_type": "code",
   "execution_count": null,
   "id": "2a13e5ac-98c5-41fb-91cc-c1ebb912c6f5",
   "metadata": {},
   "outputs": [],
   "source": []
  }
 ],
 "metadata": {
  "kernelspec": {
   "display_name": "Python 3 (ipykernel)",
   "language": "python",
   "name": "python3"
  },
  "language_info": {
   "codemirror_mode": {
    "name": "ipython",
    "version": 3
   },
   "file_extension": ".py",
   "mimetype": "text/x-python",
   "name": "python",
   "nbconvert_exporter": "python",
   "pygments_lexer": "ipython3",
   "version": "3.11.5"
  }
 },
 "nbformat": 4,
 "nbformat_minor": 5
}
