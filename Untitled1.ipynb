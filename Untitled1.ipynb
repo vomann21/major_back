{
 "cells": [
  {
   "cell_type": "code",
   "execution_count": 1,
   "id": "0cb7e386-2a52-4196-a54d-13b8efeaee3d",
   "metadata": {},
   "outputs": [],
   "source": [
    "import numpy as np\n",
    "import pandas as pd"
   ]
  },
  {
   "cell_type": "code",
   "execution_count": 2,
   "id": "f4a9c652-4b28-45eb-b1b8-94b9c187368d",
   "metadata": {},
   "outputs": [
    {
     "data": {
      "text/html": [
       "<div>\n",
       "<style scoped>\n",
       "    .dataframe tbody tr th:only-of-type {\n",
       "        vertical-align: middle;\n",
       "    }\n",
       "\n",
       "    .dataframe tbody tr th {\n",
       "        vertical-align: top;\n",
       "    }\n",
       "\n",
       "    .dataframe thead th {\n",
       "        text-align: right;\n",
       "    }\n",
       "</style>\n",
       "<table border=\"1\" class=\"dataframe\">\n",
       "  <thead>\n",
       "    <tr style=\"text-align: right;\">\n",
       "      <th></th>\n",
       "      <th>uniq_id</th>\n",
       "      <th>crawl_timestamp</th>\n",
       "      <th>product_url</th>\n",
       "      <th>product_name</th>\n",
       "      <th>product_category_tree</th>\n",
       "      <th>pid</th>\n",
       "      <th>retail_price</th>\n",
       "      <th>discounted_price</th>\n",
       "      <th>image</th>\n",
       "      <th>is_FK_Advantage_product</th>\n",
       "      <th>description</th>\n",
       "      <th>product_rating</th>\n",
       "      <th>overall_rating</th>\n",
       "      <th>brand</th>\n",
       "      <th>product_specifications</th>\n",
       "    </tr>\n",
       "  </thead>\n",
       "  <tbody>\n",
       "    <tr>\n",
       "      <th>0</th>\n",
       "      <td>c2d766ca982eca8304150849735ffef9</td>\n",
       "      <td>2016-03-25 22:59:23 +0000</td>\n",
       "      <td>http://www.flipkart.com/alisha-solid-women-s-c...</td>\n",
       "      <td>Alisha Solid Women's Cycling Shorts</td>\n",
       "      <td>[\"Clothing &gt;&gt; Women's Clothing &gt;&gt; Lingerie, Sl...</td>\n",
       "      <td>SRTEH2FF9KEDEFGF</td>\n",
       "      <td>999.0</td>\n",
       "      <td>379.0</td>\n",
       "      <td>[\"http://img5a.flixcart.com/image/short/u/4/a/...</td>\n",
       "      <td>False</td>\n",
       "      <td>Key Features of Alisha Solid Women's Cycling S...</td>\n",
       "      <td>No rating available</td>\n",
       "      <td>No rating available</td>\n",
       "      <td>Alisha</td>\n",
       "      <td>{\"product_specification\"=&gt;[{\"key\"=&gt;\"Number of ...</td>\n",
       "    </tr>\n",
       "    <tr>\n",
       "      <th>1</th>\n",
       "      <td>7f7036a6d550aaa89d34c77bd39a5e48</td>\n",
       "      <td>2016-03-25 22:59:23 +0000</td>\n",
       "      <td>http://www.flipkart.com/fabhomedecor-fabric-do...</td>\n",
       "      <td>FabHomeDecor Fabric Double Sofa Bed</td>\n",
       "      <td>[\"Furniture &gt;&gt; Living Room Furniture &gt;&gt; Sofa B...</td>\n",
       "      <td>SBEEH3QGU7MFYJFY</td>\n",
       "      <td>32157.0</td>\n",
       "      <td>22646.0</td>\n",
       "      <td>[\"http://img6a.flixcart.com/image/sofa-bed/j/f...</td>\n",
       "      <td>False</td>\n",
       "      <td>FabHomeDecor Fabric Double Sofa Bed (Finish Co...</td>\n",
       "      <td>No rating available</td>\n",
       "      <td>No rating available</td>\n",
       "      <td>FabHomeDecor</td>\n",
       "      <td>{\"product_specification\"=&gt;[{\"key\"=&gt;\"Installati...</td>\n",
       "    </tr>\n",
       "    <tr>\n",
       "      <th>2</th>\n",
       "      <td>f449ec65dcbc041b6ae5e6a32717d01b</td>\n",
       "      <td>2016-03-25 22:59:23 +0000</td>\n",
       "      <td>http://www.flipkart.com/aw-bellies/p/itmeh4grg...</td>\n",
       "      <td>AW Bellies</td>\n",
       "      <td>[\"Footwear &gt;&gt; Women's Footwear &gt;&gt; Ballerinas &gt;...</td>\n",
       "      <td>SHOEH4GRSUBJGZXE</td>\n",
       "      <td>999.0</td>\n",
       "      <td>499.0</td>\n",
       "      <td>[\"http://img5a.flixcart.com/image/shoe/7/z/z/r...</td>\n",
       "      <td>False</td>\n",
       "      <td>Key Features of AW Bellies Sandals Wedges Heel...</td>\n",
       "      <td>No rating available</td>\n",
       "      <td>No rating available</td>\n",
       "      <td>AW</td>\n",
       "      <td>{\"product_specification\"=&gt;[{\"key\"=&gt;\"Ideal For\"...</td>\n",
       "    </tr>\n",
       "    <tr>\n",
       "      <th>3</th>\n",
       "      <td>0973b37acd0c664e3de26e97e5571454</td>\n",
       "      <td>2016-03-25 22:59:23 +0000</td>\n",
       "      <td>http://www.flipkart.com/alisha-solid-women-s-c...</td>\n",
       "      <td>Alisha Solid Women's Cycling Shorts</td>\n",
       "      <td>[\"Clothing &gt;&gt; Women's Clothing &gt;&gt; Lingerie, Sl...</td>\n",
       "      <td>SRTEH2F6HUZMQ6SJ</td>\n",
       "      <td>699.0</td>\n",
       "      <td>267.0</td>\n",
       "      <td>[\"http://img5a.flixcart.com/image/short/6/2/h/...</td>\n",
       "      <td>False</td>\n",
       "      <td>Key Features of Alisha Solid Women's Cycling S...</td>\n",
       "      <td>No rating available</td>\n",
       "      <td>No rating available</td>\n",
       "      <td>Alisha</td>\n",
       "      <td>{\"product_specification\"=&gt;[{\"key\"=&gt;\"Number of ...</td>\n",
       "    </tr>\n",
       "    <tr>\n",
       "      <th>4</th>\n",
       "      <td>bc940ea42ee6bef5ac7cea3fb5cfbee7</td>\n",
       "      <td>2016-03-25 22:59:23 +0000</td>\n",
       "      <td>http://www.flipkart.com/sicons-all-purpose-arn...</td>\n",
       "      <td>Sicons All Purpose Arnica Dog Shampoo</td>\n",
       "      <td>[\"Pet Supplies &gt;&gt; Grooming &gt;&gt; Skin &amp; Coat Care...</td>\n",
       "      <td>PSOEH3ZYDMSYARJ5</td>\n",
       "      <td>220.0</td>\n",
       "      <td>210.0</td>\n",
       "      <td>[\"http://img5a.flixcart.com/image/pet-shampoo/...</td>\n",
       "      <td>False</td>\n",
       "      <td>Specifications of Sicons All Purpose Arnica Do...</td>\n",
       "      <td>No rating available</td>\n",
       "      <td>No rating available</td>\n",
       "      <td>Sicons</td>\n",
       "      <td>{\"product_specification\"=&gt;[{\"key\"=&gt;\"Pet Type\",...</td>\n",
       "    </tr>\n",
       "  </tbody>\n",
       "</table>\n",
       "</div>"
      ],
      "text/plain": [
       "                            uniq_id            crawl_timestamp  \\\n",
       "0  c2d766ca982eca8304150849735ffef9  2016-03-25 22:59:23 +0000   \n",
       "1  7f7036a6d550aaa89d34c77bd39a5e48  2016-03-25 22:59:23 +0000   \n",
       "2  f449ec65dcbc041b6ae5e6a32717d01b  2016-03-25 22:59:23 +0000   \n",
       "3  0973b37acd0c664e3de26e97e5571454  2016-03-25 22:59:23 +0000   \n",
       "4  bc940ea42ee6bef5ac7cea3fb5cfbee7  2016-03-25 22:59:23 +0000   \n",
       "\n",
       "                                         product_url  \\\n",
       "0  http://www.flipkart.com/alisha-solid-women-s-c...   \n",
       "1  http://www.flipkart.com/fabhomedecor-fabric-do...   \n",
       "2  http://www.flipkart.com/aw-bellies/p/itmeh4grg...   \n",
       "3  http://www.flipkart.com/alisha-solid-women-s-c...   \n",
       "4  http://www.flipkart.com/sicons-all-purpose-arn...   \n",
       "\n",
       "                            product_name  \\\n",
       "0    Alisha Solid Women's Cycling Shorts   \n",
       "1    FabHomeDecor Fabric Double Sofa Bed   \n",
       "2                             AW Bellies   \n",
       "3    Alisha Solid Women's Cycling Shorts   \n",
       "4  Sicons All Purpose Arnica Dog Shampoo   \n",
       "\n",
       "                               product_category_tree               pid  \\\n",
       "0  [\"Clothing >> Women's Clothing >> Lingerie, Sl...  SRTEH2FF9KEDEFGF   \n",
       "1  [\"Furniture >> Living Room Furniture >> Sofa B...  SBEEH3QGU7MFYJFY   \n",
       "2  [\"Footwear >> Women's Footwear >> Ballerinas >...  SHOEH4GRSUBJGZXE   \n",
       "3  [\"Clothing >> Women's Clothing >> Lingerie, Sl...  SRTEH2F6HUZMQ6SJ   \n",
       "4  [\"Pet Supplies >> Grooming >> Skin & Coat Care...  PSOEH3ZYDMSYARJ5   \n",
       "\n",
       "   retail_price  discounted_price  \\\n",
       "0         999.0             379.0   \n",
       "1       32157.0           22646.0   \n",
       "2         999.0             499.0   \n",
       "3         699.0             267.0   \n",
       "4         220.0             210.0   \n",
       "\n",
       "                                               image  is_FK_Advantage_product  \\\n",
       "0  [\"http://img5a.flixcart.com/image/short/u/4/a/...                    False   \n",
       "1  [\"http://img6a.flixcart.com/image/sofa-bed/j/f...                    False   \n",
       "2  [\"http://img5a.flixcart.com/image/shoe/7/z/z/r...                    False   \n",
       "3  [\"http://img5a.flixcart.com/image/short/6/2/h/...                    False   \n",
       "4  [\"http://img5a.flixcart.com/image/pet-shampoo/...                    False   \n",
       "\n",
       "                                         description       product_rating  \\\n",
       "0  Key Features of Alisha Solid Women's Cycling S...  No rating available   \n",
       "1  FabHomeDecor Fabric Double Sofa Bed (Finish Co...  No rating available   \n",
       "2  Key Features of AW Bellies Sandals Wedges Heel...  No rating available   \n",
       "3  Key Features of Alisha Solid Women's Cycling S...  No rating available   \n",
       "4  Specifications of Sicons All Purpose Arnica Do...  No rating available   \n",
       "\n",
       "        overall_rating         brand  \\\n",
       "0  No rating available        Alisha   \n",
       "1  No rating available  FabHomeDecor   \n",
       "2  No rating available            AW   \n",
       "3  No rating available        Alisha   \n",
       "4  No rating available        Sicons   \n",
       "\n",
       "                              product_specifications  \n",
       "0  {\"product_specification\"=>[{\"key\"=>\"Number of ...  \n",
       "1  {\"product_specification\"=>[{\"key\"=>\"Installati...  \n",
       "2  {\"product_specification\"=>[{\"key\"=>\"Ideal For\"...  \n",
       "3  {\"product_specification\"=>[{\"key\"=>\"Number of ...  \n",
       "4  {\"product_specification\"=>[{\"key\"=>\"Pet Type\",...  "
      ]
     },
     "execution_count": 2,
     "metadata": {},
     "output_type": "execute_result"
    }
   ],
   "source": [
    "products = pd.read_csv('flipkart_com-ecommerce_sample.csv')\n",
    "products.head()"
   ]
  },
  {
   "cell_type": "code",
   "execution_count": 6,
   "id": "edee7492-4d70-416d-8608-44a8f8333193",
   "metadata": {},
   "outputs": [],
   "source": [
    "#productname\n",
    "#uniq_id\n",
    "#product_category_tree\n",
    "#retail_price\n",
    "#description\n",
    "#brand\n",
    "#product_specifications\n",
    "products=products[['uniq_id','product_name','product_category_tree','retail_price','description','brand','product_specifications']]"
   ]
  },
  {
   "cell_type": "code",
   "execution_count": 7,
   "id": "a245bea4-8f8d-4692-9c97-e0eb828b53cf",
   "metadata": {},
   "outputs": [
    {
     "name": "stdout",
     "output_type": "stream",
     "text": [
      "<class 'pandas.core.frame.DataFrame'>\n",
      "RangeIndex: 20000 entries, 0 to 19999\n",
      "Data columns (total 7 columns):\n",
      " #   Column                  Non-Null Count  Dtype  \n",
      "---  ------                  --------------  -----  \n",
      " 0   uniq_id                 20000 non-null  object \n",
      " 1   product_name            20000 non-null  object \n",
      " 2   product_category_tree   20000 non-null  object \n",
      " 3   retail_price            19922 non-null  float64\n",
      " 4   description             19998 non-null  object \n",
      " 5   brand                   14136 non-null  object \n",
      " 6   product_specifications  19986 non-null  object \n",
      "dtypes: float64(1), object(6)\n",
      "memory usage: 1.1+ MB\n"
     ]
    }
   ],
   "source": [
    "products.info()"
   ]
  },
  {
   "cell_type": "code",
   "execution_count": 31,
   "id": "eb8b9fcb-88ab-4884-9cd0-15735de13d58",
   "metadata": {},
   "outputs": [],
   "source": [
    "products.dropna(inplace=True)"
   ]
  },
  {
   "cell_type": "code",
   "execution_count": 32,
   "id": "0fdbc7a8-c5d9-4e81-ac15-6e3250b9bb0b",
   "metadata": {},
   "outputs": [
    {
     "data": {
      "text/plain": [
       "uniq_id                   0\n",
       "product_name              0\n",
       "product_category_tree     0\n",
       "retail_price              0\n",
       "description               0\n",
       "brand                     0\n",
       "product_specifications    0\n",
       "dtype: int64"
      ]
     },
     "execution_count": 32,
     "metadata": {},
     "output_type": "execute_result"
    }
   ],
   "source": [
    "products.isnull().sum()"
   ]
  },
  {
   "cell_type": "code",
   "execution_count": 33,
   "id": "1e9404ad-4fbb-4d0d-9ab5-7229ccdcba57",
   "metadata": {},
   "outputs": [
    {
     "data": {
      "text/html": [
       "<div>\n",
       "<style scoped>\n",
       "    .dataframe tbody tr th:only-of-type {\n",
       "        vertical-align: middle;\n",
       "    }\n",
       "\n",
       "    .dataframe tbody tr th {\n",
       "        vertical-align: top;\n",
       "    }\n",
       "\n",
       "    .dataframe thead th {\n",
       "        text-align: right;\n",
       "    }\n",
       "</style>\n",
       "<table border=\"1\" class=\"dataframe\">\n",
       "  <thead>\n",
       "    <tr style=\"text-align: right;\">\n",
       "      <th></th>\n",
       "      <th>uniq_id</th>\n",
       "      <th>product_name</th>\n",
       "      <th>product_category_tree</th>\n",
       "      <th>retail_price</th>\n",
       "      <th>description</th>\n",
       "      <th>brand</th>\n",
       "      <th>product_specifications</th>\n",
       "    </tr>\n",
       "  </thead>\n",
       "  <tbody>\n",
       "    <tr>\n",
       "      <th>0</th>\n",
       "      <td>c2d766ca982eca8304150849735ffef9</td>\n",
       "      <td>Alisha Solid Women's Cycling Shorts</td>\n",
       "      <td>Clothing   Women's Clothing   Lingerie, Sleep ...</td>\n",
       "      <td>999.0</td>\n",
       "      <td>Key Features of Alisha Solid Women's Cycling S...</td>\n",
       "      <td>Alisha</td>\n",
       "      <td>{\"product_specification\"=&gt;[{\"key\"=&gt;\"Number of ...</td>\n",
       "    </tr>\n",
       "    <tr>\n",
       "      <th>1</th>\n",
       "      <td>7f7036a6d550aaa89d34c77bd39a5e48</td>\n",
       "      <td>FabHomeDecor Fabric Double Sofa Bed</td>\n",
       "      <td>Furniture   Living Room Furniture   Sofa Beds ...</td>\n",
       "      <td>32157.0</td>\n",
       "      <td>FabHomeDecor Fabric Double Sofa Bed (Finish Co...</td>\n",
       "      <td>FabHomeDecor</td>\n",
       "      <td>{\"product_specification\"=&gt;[{\"key\"=&gt;\"Installati...</td>\n",
       "    </tr>\n",
       "    <tr>\n",
       "      <th>2</th>\n",
       "      <td>f449ec65dcbc041b6ae5e6a32717d01b</td>\n",
       "      <td>AW Bellies</td>\n",
       "      <td>Footwear   Women's Footwear   Ballerinas   AW ...</td>\n",
       "      <td>999.0</td>\n",
       "      <td>Key Features of AW Bellies Sandals Wedges Heel...</td>\n",
       "      <td>AW</td>\n",
       "      <td>{\"product_specification\"=&gt;[{\"key\"=&gt;\"Ideal For\"...</td>\n",
       "    </tr>\n",
       "    <tr>\n",
       "      <th>3</th>\n",
       "      <td>0973b37acd0c664e3de26e97e5571454</td>\n",
       "      <td>Alisha Solid Women's Cycling Shorts</td>\n",
       "      <td>Clothing   Women's Clothing   Lingerie, Sleep ...</td>\n",
       "      <td>699.0</td>\n",
       "      <td>Key Features of Alisha Solid Women's Cycling S...</td>\n",
       "      <td>Alisha</td>\n",
       "      <td>{\"product_specification\"=&gt;[{\"key\"=&gt;\"Number of ...</td>\n",
       "    </tr>\n",
       "    <tr>\n",
       "      <th>4</th>\n",
       "      <td>bc940ea42ee6bef5ac7cea3fb5cfbee7</td>\n",
       "      <td>Sicons All Purpose Arnica Dog Shampoo</td>\n",
       "      <td>Pet Supplies   Grooming   Skin &amp; Coat Care   S...</td>\n",
       "      <td>220.0</td>\n",
       "      <td>Specifications of Sicons All Purpose Arnica Do...</td>\n",
       "      <td>Sicons</td>\n",
       "      <td>{\"product_specification\"=&gt;[{\"key\"=&gt;\"Pet Type\",...</td>\n",
       "    </tr>\n",
       "    <tr>\n",
       "      <th>...</th>\n",
       "      <td>...</td>\n",
       "      <td>...</td>\n",
       "      <td>...</td>\n",
       "      <td>...</td>\n",
       "      <td>...</td>\n",
       "      <td>...</td>\n",
       "      <td>...</td>\n",
       "    </tr>\n",
       "    <tr>\n",
       "      <th>19995</th>\n",
       "      <td>7179d2f6c4ad50a17d014ca1d2815156</td>\n",
       "      <td>WallDesign Small Vinyl Sticker</td>\n",
       "      <td>Baby Care   Baby &amp; Kids Gifts   Stickers   Wal...</td>\n",
       "      <td>1500.0</td>\n",
       "      <td>Buy WallDesign Small Vinyl Sticker for Rs.730 ...</td>\n",
       "      <td>WallDesign</td>\n",
       "      <td>{\"product_specification\"=&gt;[{\"key\"=&gt;\"Number of ...</td>\n",
       "    </tr>\n",
       "    <tr>\n",
       "      <th>19996</th>\n",
       "      <td>71ac419198359d37b8fe5e3fffdfee09</td>\n",
       "      <td>Wallmantra Large Vinyl Stickers Sticker</td>\n",
       "      <td>Baby Care   Baby &amp; Kids Gifts   Stickers   Wal...</td>\n",
       "      <td>1429.0</td>\n",
       "      <td>Buy Wallmantra Large Vinyl Stickers Sticker fo...</td>\n",
       "      <td>Wallmantra</td>\n",
       "      <td>{\"product_specification\"=&gt;[{\"key\"=&gt;\"Number of ...</td>\n",
       "    </tr>\n",
       "    <tr>\n",
       "      <th>19997</th>\n",
       "      <td>93e9d343837400ce0d7980874ece471c</td>\n",
       "      <td>Elite Collection Medium Acrylic Sticker</td>\n",
       "      <td>Baby Care   Baby &amp; Kids Gifts   Stickers   Eli...</td>\n",
       "      <td>1299.0</td>\n",
       "      <td>Buy Elite Collection Medium Acrylic Sticker fo...</td>\n",
       "      <td>Elite Collection</td>\n",
       "      <td>{\"product_specification\"=&gt;[{\"key\"=&gt;\"Number of ...</td>\n",
       "    </tr>\n",
       "    <tr>\n",
       "      <th>19998</th>\n",
       "      <td>669e79b8fa5d9ae020841c0c97d5e935</td>\n",
       "      <td>Elite Collection Medium Acrylic Sticker</td>\n",
       "      <td>Baby Care   Baby &amp; Kids Gifts   Stickers   Eli...</td>\n",
       "      <td>1499.0</td>\n",
       "      <td>Buy Elite Collection Medium Acrylic Sticker fo...</td>\n",
       "      <td>Elite Collection</td>\n",
       "      <td>{\"product_specification\"=&gt;[{\"key\"=&gt;\"Number of ...</td>\n",
       "    </tr>\n",
       "    <tr>\n",
       "      <th>19999</th>\n",
       "      <td>cb4fa87a874f715fff567f7b7b3be79c</td>\n",
       "      <td>Elite Collection Medium Acrylic Sticker</td>\n",
       "      <td>Baby Care   Baby &amp; Kids Gifts   Stickers   Eli...</td>\n",
       "      <td>1499.0</td>\n",
       "      <td>Buy Elite Collection Medium Acrylic Sticker fo...</td>\n",
       "      <td>Elite Collection</td>\n",
       "      <td>{\"product_specification\"=&gt;[{\"key\"=&gt;\"Number of ...</td>\n",
       "    </tr>\n",
       "  </tbody>\n",
       "</table>\n",
       "<p>14058 rows × 7 columns</p>\n",
       "</div>"
      ],
      "text/plain": [
       "                                uniq_id  \\\n",
       "0      c2d766ca982eca8304150849735ffef9   \n",
       "1      7f7036a6d550aaa89d34c77bd39a5e48   \n",
       "2      f449ec65dcbc041b6ae5e6a32717d01b   \n",
       "3      0973b37acd0c664e3de26e97e5571454   \n",
       "4      bc940ea42ee6bef5ac7cea3fb5cfbee7   \n",
       "...                                 ...   \n",
       "19995  7179d2f6c4ad50a17d014ca1d2815156   \n",
       "19996  71ac419198359d37b8fe5e3fffdfee09   \n",
       "19997  93e9d343837400ce0d7980874ece471c   \n",
       "19998  669e79b8fa5d9ae020841c0c97d5e935   \n",
       "19999  cb4fa87a874f715fff567f7b7b3be79c   \n",
       "\n",
       "                                  product_name  \\\n",
       "0          Alisha Solid Women's Cycling Shorts   \n",
       "1          FabHomeDecor Fabric Double Sofa Bed   \n",
       "2                                   AW Bellies   \n",
       "3          Alisha Solid Women's Cycling Shorts   \n",
       "4        Sicons All Purpose Arnica Dog Shampoo   \n",
       "...                                        ...   \n",
       "19995           WallDesign Small Vinyl Sticker   \n",
       "19996  Wallmantra Large Vinyl Stickers Sticker   \n",
       "19997  Elite Collection Medium Acrylic Sticker   \n",
       "19998  Elite Collection Medium Acrylic Sticker   \n",
       "19999  Elite Collection Medium Acrylic Sticker   \n",
       "\n",
       "                                   product_category_tree  retail_price  \\\n",
       "0      Clothing   Women's Clothing   Lingerie, Sleep ...         999.0   \n",
       "1      Furniture   Living Room Furniture   Sofa Beds ...       32157.0   \n",
       "2      Footwear   Women's Footwear   Ballerinas   AW ...         999.0   \n",
       "3      Clothing   Women's Clothing   Lingerie, Sleep ...         699.0   \n",
       "4      Pet Supplies   Grooming   Skin & Coat Care   S...         220.0   \n",
       "...                                                  ...           ...   \n",
       "19995  Baby Care   Baby & Kids Gifts   Stickers   Wal...        1500.0   \n",
       "19996  Baby Care   Baby & Kids Gifts   Stickers   Wal...        1429.0   \n",
       "19997  Baby Care   Baby & Kids Gifts   Stickers   Eli...        1299.0   \n",
       "19998  Baby Care   Baby & Kids Gifts   Stickers   Eli...        1499.0   \n",
       "19999  Baby Care   Baby & Kids Gifts   Stickers   Eli...        1499.0   \n",
       "\n",
       "                                             description             brand  \\\n",
       "0      Key Features of Alisha Solid Women's Cycling S...            Alisha   \n",
       "1      FabHomeDecor Fabric Double Sofa Bed (Finish Co...      FabHomeDecor   \n",
       "2      Key Features of AW Bellies Sandals Wedges Heel...                AW   \n",
       "3      Key Features of Alisha Solid Women's Cycling S...            Alisha   \n",
       "4      Specifications of Sicons All Purpose Arnica Do...            Sicons   \n",
       "...                                                  ...               ...   \n",
       "19995  Buy WallDesign Small Vinyl Sticker for Rs.730 ...        WallDesign   \n",
       "19996  Buy Wallmantra Large Vinyl Stickers Sticker fo...        Wallmantra   \n",
       "19997  Buy Elite Collection Medium Acrylic Sticker fo...  Elite Collection   \n",
       "19998  Buy Elite Collection Medium Acrylic Sticker fo...  Elite Collection   \n",
       "19999  Buy Elite Collection Medium Acrylic Sticker fo...  Elite Collection   \n",
       "\n",
       "                                  product_specifications  \n",
       "0      {\"product_specification\"=>[{\"key\"=>\"Number of ...  \n",
       "1      {\"product_specification\"=>[{\"key\"=>\"Installati...  \n",
       "2      {\"product_specification\"=>[{\"key\"=>\"Ideal For\"...  \n",
       "3      {\"product_specification\"=>[{\"key\"=>\"Number of ...  \n",
       "4      {\"product_specification\"=>[{\"key\"=>\"Pet Type\",...  \n",
       "...                                                  ...  \n",
       "19995  {\"product_specification\"=>[{\"key\"=>\"Number of ...  \n",
       "19996  {\"product_specification\"=>[{\"key\"=>\"Number of ...  \n",
       "19997  {\"product_specification\"=>[{\"key\"=>\"Number of ...  \n",
       "19998  {\"product_specification\"=>[{\"key\"=>\"Number of ...  \n",
       "19999  {\"product_specification\"=>[{\"key\"=>\"Number of ...  \n",
       "\n",
       "[14058 rows x 7 columns]"
      ]
     },
     "execution_count": 33,
     "metadata": {},
     "output_type": "execute_result"
    }
   ],
   "source": [
    "products"
   ]
  },
  {
   "cell_type": "code",
   "execution_count": 36,
   "id": "b7b422c7-fe11-4b34-8155-092378585583",
   "metadata": {},
   "outputs": [],
   "source": [
    "products = products.drop('product_specifications',axis=1);"
   ]
  },
  {
   "cell_type": "code",
   "execution_count": 37,
   "id": "2832d203-d206-4fae-8a43-93f272acc53d",
   "metadata": {},
   "outputs": [
    {
     "data": {
      "text/html": [
       "<div>\n",
       "<style scoped>\n",
       "    .dataframe tbody tr th:only-of-type {\n",
       "        vertical-align: middle;\n",
       "    }\n",
       "\n",
       "    .dataframe tbody tr th {\n",
       "        vertical-align: top;\n",
       "    }\n",
       "\n",
       "    .dataframe thead th {\n",
       "        text-align: right;\n",
       "    }\n",
       "</style>\n",
       "<table border=\"1\" class=\"dataframe\">\n",
       "  <thead>\n",
       "    <tr style=\"text-align: right;\">\n",
       "      <th></th>\n",
       "      <th>uniq_id</th>\n",
       "      <th>product_name</th>\n",
       "      <th>product_category_tree</th>\n",
       "      <th>retail_price</th>\n",
       "      <th>description</th>\n",
       "      <th>brand</th>\n",
       "    </tr>\n",
       "  </thead>\n",
       "  <tbody>\n",
       "    <tr>\n",
       "      <th>0</th>\n",
       "      <td>c2d766ca982eca8304150849735ffef9</td>\n",
       "      <td>Alisha Solid Women's Cycling Shorts</td>\n",
       "      <td>Clothing   Women's Clothing   Lingerie, Sleep ...</td>\n",
       "      <td>999.0</td>\n",
       "      <td>Key Features of Alisha Solid Women's Cycling S...</td>\n",
       "      <td>Alisha</td>\n",
       "    </tr>\n",
       "    <tr>\n",
       "      <th>1</th>\n",
       "      <td>7f7036a6d550aaa89d34c77bd39a5e48</td>\n",
       "      <td>FabHomeDecor Fabric Double Sofa Bed</td>\n",
       "      <td>Furniture   Living Room Furniture   Sofa Beds ...</td>\n",
       "      <td>32157.0</td>\n",
       "      <td>FabHomeDecor Fabric Double Sofa Bed (Finish Co...</td>\n",
       "      <td>FabHomeDecor</td>\n",
       "    </tr>\n",
       "    <tr>\n",
       "      <th>2</th>\n",
       "      <td>f449ec65dcbc041b6ae5e6a32717d01b</td>\n",
       "      <td>AW Bellies</td>\n",
       "      <td>Footwear   Women's Footwear   Ballerinas   AW ...</td>\n",
       "      <td>999.0</td>\n",
       "      <td>Key Features of AW Bellies Sandals Wedges Heel...</td>\n",
       "      <td>AW</td>\n",
       "    </tr>\n",
       "    <tr>\n",
       "      <th>3</th>\n",
       "      <td>0973b37acd0c664e3de26e97e5571454</td>\n",
       "      <td>Alisha Solid Women's Cycling Shorts</td>\n",
       "      <td>Clothing   Women's Clothing   Lingerie, Sleep ...</td>\n",
       "      <td>699.0</td>\n",
       "      <td>Key Features of Alisha Solid Women's Cycling S...</td>\n",
       "      <td>Alisha</td>\n",
       "    </tr>\n",
       "    <tr>\n",
       "      <th>4</th>\n",
       "      <td>bc940ea42ee6bef5ac7cea3fb5cfbee7</td>\n",
       "      <td>Sicons All Purpose Arnica Dog Shampoo</td>\n",
       "      <td>Pet Supplies   Grooming   Skin &amp; Coat Care   S...</td>\n",
       "      <td>220.0</td>\n",
       "      <td>Specifications of Sicons All Purpose Arnica Do...</td>\n",
       "      <td>Sicons</td>\n",
       "    </tr>\n",
       "    <tr>\n",
       "      <th>...</th>\n",
       "      <td>...</td>\n",
       "      <td>...</td>\n",
       "      <td>...</td>\n",
       "      <td>...</td>\n",
       "      <td>...</td>\n",
       "      <td>...</td>\n",
       "    </tr>\n",
       "    <tr>\n",
       "      <th>19995</th>\n",
       "      <td>7179d2f6c4ad50a17d014ca1d2815156</td>\n",
       "      <td>WallDesign Small Vinyl Sticker</td>\n",
       "      <td>Baby Care   Baby &amp; Kids Gifts   Stickers   Wal...</td>\n",
       "      <td>1500.0</td>\n",
       "      <td>Buy WallDesign Small Vinyl Sticker for Rs.730 ...</td>\n",
       "      <td>WallDesign</td>\n",
       "    </tr>\n",
       "    <tr>\n",
       "      <th>19996</th>\n",
       "      <td>71ac419198359d37b8fe5e3fffdfee09</td>\n",
       "      <td>Wallmantra Large Vinyl Stickers Sticker</td>\n",
       "      <td>Baby Care   Baby &amp; Kids Gifts   Stickers   Wal...</td>\n",
       "      <td>1429.0</td>\n",
       "      <td>Buy Wallmantra Large Vinyl Stickers Sticker fo...</td>\n",
       "      <td>Wallmantra</td>\n",
       "    </tr>\n",
       "    <tr>\n",
       "      <th>19997</th>\n",
       "      <td>93e9d343837400ce0d7980874ece471c</td>\n",
       "      <td>Elite Collection Medium Acrylic Sticker</td>\n",
       "      <td>Baby Care   Baby &amp; Kids Gifts   Stickers   Eli...</td>\n",
       "      <td>1299.0</td>\n",
       "      <td>Buy Elite Collection Medium Acrylic Sticker fo...</td>\n",
       "      <td>Elite Collection</td>\n",
       "    </tr>\n",
       "    <tr>\n",
       "      <th>19998</th>\n",
       "      <td>669e79b8fa5d9ae020841c0c97d5e935</td>\n",
       "      <td>Elite Collection Medium Acrylic Sticker</td>\n",
       "      <td>Baby Care   Baby &amp; Kids Gifts   Stickers   Eli...</td>\n",
       "      <td>1499.0</td>\n",
       "      <td>Buy Elite Collection Medium Acrylic Sticker fo...</td>\n",
       "      <td>Elite Collection</td>\n",
       "    </tr>\n",
       "    <tr>\n",
       "      <th>19999</th>\n",
       "      <td>cb4fa87a874f715fff567f7b7b3be79c</td>\n",
       "      <td>Elite Collection Medium Acrylic Sticker</td>\n",
       "      <td>Baby Care   Baby &amp; Kids Gifts   Stickers   Eli...</td>\n",
       "      <td>1499.0</td>\n",
       "      <td>Buy Elite Collection Medium Acrylic Sticker fo...</td>\n",
       "      <td>Elite Collection</td>\n",
       "    </tr>\n",
       "  </tbody>\n",
       "</table>\n",
       "<p>14058 rows × 6 columns</p>\n",
       "</div>"
      ],
      "text/plain": [
       "                                uniq_id  \\\n",
       "0      c2d766ca982eca8304150849735ffef9   \n",
       "1      7f7036a6d550aaa89d34c77bd39a5e48   \n",
       "2      f449ec65dcbc041b6ae5e6a32717d01b   \n",
       "3      0973b37acd0c664e3de26e97e5571454   \n",
       "4      bc940ea42ee6bef5ac7cea3fb5cfbee7   \n",
       "...                                 ...   \n",
       "19995  7179d2f6c4ad50a17d014ca1d2815156   \n",
       "19996  71ac419198359d37b8fe5e3fffdfee09   \n",
       "19997  93e9d343837400ce0d7980874ece471c   \n",
       "19998  669e79b8fa5d9ae020841c0c97d5e935   \n",
       "19999  cb4fa87a874f715fff567f7b7b3be79c   \n",
       "\n",
       "                                  product_name  \\\n",
       "0          Alisha Solid Women's Cycling Shorts   \n",
       "1          FabHomeDecor Fabric Double Sofa Bed   \n",
       "2                                   AW Bellies   \n",
       "3          Alisha Solid Women's Cycling Shorts   \n",
       "4        Sicons All Purpose Arnica Dog Shampoo   \n",
       "...                                        ...   \n",
       "19995           WallDesign Small Vinyl Sticker   \n",
       "19996  Wallmantra Large Vinyl Stickers Sticker   \n",
       "19997  Elite Collection Medium Acrylic Sticker   \n",
       "19998  Elite Collection Medium Acrylic Sticker   \n",
       "19999  Elite Collection Medium Acrylic Sticker   \n",
       "\n",
       "                                   product_category_tree  retail_price  \\\n",
       "0      Clothing   Women's Clothing   Lingerie, Sleep ...         999.0   \n",
       "1      Furniture   Living Room Furniture   Sofa Beds ...       32157.0   \n",
       "2      Footwear   Women's Footwear   Ballerinas   AW ...         999.0   \n",
       "3      Clothing   Women's Clothing   Lingerie, Sleep ...         699.0   \n",
       "4      Pet Supplies   Grooming   Skin & Coat Care   S...         220.0   \n",
       "...                                                  ...           ...   \n",
       "19995  Baby Care   Baby & Kids Gifts   Stickers   Wal...        1500.0   \n",
       "19996  Baby Care   Baby & Kids Gifts   Stickers   Wal...        1429.0   \n",
       "19997  Baby Care   Baby & Kids Gifts   Stickers   Eli...        1299.0   \n",
       "19998  Baby Care   Baby & Kids Gifts   Stickers   Eli...        1499.0   \n",
       "19999  Baby Care   Baby & Kids Gifts   Stickers   Eli...        1499.0   \n",
       "\n",
       "                                             description             brand  \n",
       "0      Key Features of Alisha Solid Women's Cycling S...            Alisha  \n",
       "1      FabHomeDecor Fabric Double Sofa Bed (Finish Co...      FabHomeDecor  \n",
       "2      Key Features of AW Bellies Sandals Wedges Heel...                AW  \n",
       "3      Key Features of Alisha Solid Women's Cycling S...            Alisha  \n",
       "4      Specifications of Sicons All Purpose Arnica Do...            Sicons  \n",
       "...                                                  ...               ...  \n",
       "19995  Buy WallDesign Small Vinyl Sticker for Rs.730 ...        WallDesign  \n",
       "19996  Buy Wallmantra Large Vinyl Stickers Sticker fo...        Wallmantra  \n",
       "19997  Buy Elite Collection Medium Acrylic Sticker fo...  Elite Collection  \n",
       "19998  Buy Elite Collection Medium Acrylic Sticker fo...  Elite Collection  \n",
       "19999  Buy Elite Collection Medium Acrylic Sticker fo...  Elite Collection  \n",
       "\n",
       "[14058 rows x 6 columns]"
      ]
     },
     "execution_count": 37,
     "metadata": {},
     "output_type": "execute_result"
    }
   ],
   "source": [
    "products"
   ]
  },
  {
   "cell_type": "code",
   "execution_count": 40,
   "id": "6e114e48-2baf-4ee2-adfc-ef32a199036d",
   "metadata": {},
   "outputs": [],
   "source": [
    "products['tags'] = products['product_name']+products['product_category_tree']+products['description']+products['brand']"
   ]
  },
  {
   "cell_type": "code",
   "execution_count": 41,
   "id": "c962d695-2bd2-4770-996b-072bbc10df38",
   "metadata": {},
   "outputs": [
    {
     "data": {
      "text/html": [
       "<div>\n",
       "<style scoped>\n",
       "    .dataframe tbody tr th:only-of-type {\n",
       "        vertical-align: middle;\n",
       "    }\n",
       "\n",
       "    .dataframe tbody tr th {\n",
       "        vertical-align: top;\n",
       "    }\n",
       "\n",
       "    .dataframe thead th {\n",
       "        text-align: right;\n",
       "    }\n",
       "</style>\n",
       "<table border=\"1\" class=\"dataframe\">\n",
       "  <thead>\n",
       "    <tr style=\"text-align: right;\">\n",
       "      <th></th>\n",
       "      <th>uniq_id</th>\n",
       "      <th>product_name</th>\n",
       "      <th>product_category_tree</th>\n",
       "      <th>retail_price</th>\n",
       "      <th>description</th>\n",
       "      <th>brand</th>\n",
       "      <th>tags</th>\n",
       "    </tr>\n",
       "  </thead>\n",
       "  <tbody>\n",
       "    <tr>\n",
       "      <th>0</th>\n",
       "      <td>c2d766ca982eca8304150849735ffef9</td>\n",
       "      <td>Alisha Solid Women's Cycling Shorts</td>\n",
       "      <td>Clothing   Women's Clothing   Lingerie, Sleep ...</td>\n",
       "      <td>999.0</td>\n",
       "      <td>Key Features of Alisha Solid Women's Cycling S...</td>\n",
       "      <td>Alisha</td>\n",
       "      <td>Alisha Solid Women's Cycling ShortsClothing   ...</td>\n",
       "    </tr>\n",
       "    <tr>\n",
       "      <th>1</th>\n",
       "      <td>7f7036a6d550aaa89d34c77bd39a5e48</td>\n",
       "      <td>FabHomeDecor Fabric Double Sofa Bed</td>\n",
       "      <td>Furniture   Living Room Furniture   Sofa Beds ...</td>\n",
       "      <td>32157.0</td>\n",
       "      <td>FabHomeDecor Fabric Double Sofa Bed (Finish Co...</td>\n",
       "      <td>FabHomeDecor</td>\n",
       "      <td>FabHomeDecor Fabric Double Sofa BedFurniture  ...</td>\n",
       "    </tr>\n",
       "    <tr>\n",
       "      <th>2</th>\n",
       "      <td>f449ec65dcbc041b6ae5e6a32717d01b</td>\n",
       "      <td>AW Bellies</td>\n",
       "      <td>Footwear   Women's Footwear   Ballerinas   AW ...</td>\n",
       "      <td>999.0</td>\n",
       "      <td>Key Features of AW Bellies Sandals Wedges Heel...</td>\n",
       "      <td>AW</td>\n",
       "      <td>AW BelliesFootwear   Women's Footwear   Baller...</td>\n",
       "    </tr>\n",
       "    <tr>\n",
       "      <th>3</th>\n",
       "      <td>0973b37acd0c664e3de26e97e5571454</td>\n",
       "      <td>Alisha Solid Women's Cycling Shorts</td>\n",
       "      <td>Clothing   Women's Clothing   Lingerie, Sleep ...</td>\n",
       "      <td>699.0</td>\n",
       "      <td>Key Features of Alisha Solid Women's Cycling S...</td>\n",
       "      <td>Alisha</td>\n",
       "      <td>Alisha Solid Women's Cycling ShortsClothing   ...</td>\n",
       "    </tr>\n",
       "    <tr>\n",
       "      <th>4</th>\n",
       "      <td>bc940ea42ee6bef5ac7cea3fb5cfbee7</td>\n",
       "      <td>Sicons All Purpose Arnica Dog Shampoo</td>\n",
       "      <td>Pet Supplies   Grooming   Skin &amp; Coat Care   S...</td>\n",
       "      <td>220.0</td>\n",
       "      <td>Specifications of Sicons All Purpose Arnica Do...</td>\n",
       "      <td>Sicons</td>\n",
       "      <td>Sicons All Purpose Arnica Dog ShampooPet Suppl...</td>\n",
       "    </tr>\n",
       "  </tbody>\n",
       "</table>\n",
       "</div>"
      ],
      "text/plain": [
       "                            uniq_id                           product_name  \\\n",
       "0  c2d766ca982eca8304150849735ffef9    Alisha Solid Women's Cycling Shorts   \n",
       "1  7f7036a6d550aaa89d34c77bd39a5e48    FabHomeDecor Fabric Double Sofa Bed   \n",
       "2  f449ec65dcbc041b6ae5e6a32717d01b                             AW Bellies   \n",
       "3  0973b37acd0c664e3de26e97e5571454    Alisha Solid Women's Cycling Shorts   \n",
       "4  bc940ea42ee6bef5ac7cea3fb5cfbee7  Sicons All Purpose Arnica Dog Shampoo   \n",
       "\n",
       "                               product_category_tree  retail_price  \\\n",
       "0  Clothing   Women's Clothing   Lingerie, Sleep ...         999.0   \n",
       "1  Furniture   Living Room Furniture   Sofa Beds ...       32157.0   \n",
       "2  Footwear   Women's Footwear   Ballerinas   AW ...         999.0   \n",
       "3  Clothing   Women's Clothing   Lingerie, Sleep ...         699.0   \n",
       "4  Pet Supplies   Grooming   Skin & Coat Care   S...         220.0   \n",
       "\n",
       "                                         description         brand  \\\n",
       "0  Key Features of Alisha Solid Women's Cycling S...        Alisha   \n",
       "1  FabHomeDecor Fabric Double Sofa Bed (Finish Co...  FabHomeDecor   \n",
       "2  Key Features of AW Bellies Sandals Wedges Heel...            AW   \n",
       "3  Key Features of Alisha Solid Women's Cycling S...        Alisha   \n",
       "4  Specifications of Sicons All Purpose Arnica Do...        Sicons   \n",
       "\n",
       "                                                tags  \n",
       "0  Alisha Solid Women's Cycling ShortsClothing   ...  \n",
       "1  FabHomeDecor Fabric Double Sofa BedFurniture  ...  \n",
       "2  AW BelliesFootwear   Women's Footwear   Baller...  \n",
       "3  Alisha Solid Women's Cycling ShortsClothing   ...  \n",
       "4  Sicons All Purpose Arnica Dog ShampooPet Suppl...  "
      ]
     },
     "execution_count": 41,
     "metadata": {},
     "output_type": "execute_result"
    }
   ],
   "source": [
    "products.head()"
   ]
  },
  {
   "cell_type": "code",
   "execution_count": 42,
   "id": "05957fce-de46-49bb-b2ac-3ac1cc54d858",
   "metadata": {},
   "outputs": [],
   "source": [
    "new_df = products[['uniq_id','product_name','tags']]"
   ]
  },
  {
   "cell_type": "code",
   "execution_count": 43,
   "id": "987ee755-384d-4593-b989-d88863d1d8e2",
   "metadata": {},
   "outputs": [
    {
     "data": {
      "text/html": [
       "<div>\n",
       "<style scoped>\n",
       "    .dataframe tbody tr th:only-of-type {\n",
       "        vertical-align: middle;\n",
       "    }\n",
       "\n",
       "    .dataframe tbody tr th {\n",
       "        vertical-align: top;\n",
       "    }\n",
       "\n",
       "    .dataframe thead th {\n",
       "        text-align: right;\n",
       "    }\n",
       "</style>\n",
       "<table border=\"1\" class=\"dataframe\">\n",
       "  <thead>\n",
       "    <tr style=\"text-align: right;\">\n",
       "      <th></th>\n",
       "      <th>uniq_id</th>\n",
       "      <th>product_name</th>\n",
       "      <th>tags</th>\n",
       "    </tr>\n",
       "  </thead>\n",
       "  <tbody>\n",
       "    <tr>\n",
       "      <th>0</th>\n",
       "      <td>c2d766ca982eca8304150849735ffef9</td>\n",
       "      <td>Alisha Solid Women's Cycling Shorts</td>\n",
       "      <td>Alisha Solid Women's Cycling ShortsClothing   ...</td>\n",
       "    </tr>\n",
       "    <tr>\n",
       "      <th>1</th>\n",
       "      <td>7f7036a6d550aaa89d34c77bd39a5e48</td>\n",
       "      <td>FabHomeDecor Fabric Double Sofa Bed</td>\n",
       "      <td>FabHomeDecor Fabric Double Sofa BedFurniture  ...</td>\n",
       "    </tr>\n",
       "    <tr>\n",
       "      <th>2</th>\n",
       "      <td>f449ec65dcbc041b6ae5e6a32717d01b</td>\n",
       "      <td>AW Bellies</td>\n",
       "      <td>AW BelliesFootwear   Women's Footwear   Baller...</td>\n",
       "    </tr>\n",
       "    <tr>\n",
       "      <th>3</th>\n",
       "      <td>0973b37acd0c664e3de26e97e5571454</td>\n",
       "      <td>Alisha Solid Women's Cycling Shorts</td>\n",
       "      <td>Alisha Solid Women's Cycling ShortsClothing   ...</td>\n",
       "    </tr>\n",
       "    <tr>\n",
       "      <th>4</th>\n",
       "      <td>bc940ea42ee6bef5ac7cea3fb5cfbee7</td>\n",
       "      <td>Sicons All Purpose Arnica Dog Shampoo</td>\n",
       "      <td>Sicons All Purpose Arnica Dog ShampooPet Suppl...</td>\n",
       "    </tr>\n",
       "    <tr>\n",
       "      <th>...</th>\n",
       "      <td>...</td>\n",
       "      <td>...</td>\n",
       "      <td>...</td>\n",
       "    </tr>\n",
       "    <tr>\n",
       "      <th>19995</th>\n",
       "      <td>7179d2f6c4ad50a17d014ca1d2815156</td>\n",
       "      <td>WallDesign Small Vinyl Sticker</td>\n",
       "      <td>WallDesign Small Vinyl StickerBaby Care   Baby...</td>\n",
       "    </tr>\n",
       "    <tr>\n",
       "      <th>19996</th>\n",
       "      <td>71ac419198359d37b8fe5e3fffdfee09</td>\n",
       "      <td>Wallmantra Large Vinyl Stickers Sticker</td>\n",
       "      <td>Wallmantra Large Vinyl Stickers StickerBaby Ca...</td>\n",
       "    </tr>\n",
       "    <tr>\n",
       "      <th>19997</th>\n",
       "      <td>93e9d343837400ce0d7980874ece471c</td>\n",
       "      <td>Elite Collection Medium Acrylic Sticker</td>\n",
       "      <td>Elite Collection Medium Acrylic StickerBaby Ca...</td>\n",
       "    </tr>\n",
       "    <tr>\n",
       "      <th>19998</th>\n",
       "      <td>669e79b8fa5d9ae020841c0c97d5e935</td>\n",
       "      <td>Elite Collection Medium Acrylic Sticker</td>\n",
       "      <td>Elite Collection Medium Acrylic StickerBaby Ca...</td>\n",
       "    </tr>\n",
       "    <tr>\n",
       "      <th>19999</th>\n",
       "      <td>cb4fa87a874f715fff567f7b7b3be79c</td>\n",
       "      <td>Elite Collection Medium Acrylic Sticker</td>\n",
       "      <td>Elite Collection Medium Acrylic StickerBaby Ca...</td>\n",
       "    </tr>\n",
       "  </tbody>\n",
       "</table>\n",
       "<p>14058 rows × 3 columns</p>\n",
       "</div>"
      ],
      "text/plain": [
       "                                uniq_id  \\\n",
       "0      c2d766ca982eca8304150849735ffef9   \n",
       "1      7f7036a6d550aaa89d34c77bd39a5e48   \n",
       "2      f449ec65dcbc041b6ae5e6a32717d01b   \n",
       "3      0973b37acd0c664e3de26e97e5571454   \n",
       "4      bc940ea42ee6bef5ac7cea3fb5cfbee7   \n",
       "...                                 ...   \n",
       "19995  7179d2f6c4ad50a17d014ca1d2815156   \n",
       "19996  71ac419198359d37b8fe5e3fffdfee09   \n",
       "19997  93e9d343837400ce0d7980874ece471c   \n",
       "19998  669e79b8fa5d9ae020841c0c97d5e935   \n",
       "19999  cb4fa87a874f715fff567f7b7b3be79c   \n",
       "\n",
       "                                  product_name  \\\n",
       "0          Alisha Solid Women's Cycling Shorts   \n",
       "1          FabHomeDecor Fabric Double Sofa Bed   \n",
       "2                                   AW Bellies   \n",
       "3          Alisha Solid Women's Cycling Shorts   \n",
       "4        Sicons All Purpose Arnica Dog Shampoo   \n",
       "...                                        ...   \n",
       "19995           WallDesign Small Vinyl Sticker   \n",
       "19996  Wallmantra Large Vinyl Stickers Sticker   \n",
       "19997  Elite Collection Medium Acrylic Sticker   \n",
       "19998  Elite Collection Medium Acrylic Sticker   \n",
       "19999  Elite Collection Medium Acrylic Sticker   \n",
       "\n",
       "                                                    tags  \n",
       "0      Alisha Solid Women's Cycling ShortsClothing   ...  \n",
       "1      FabHomeDecor Fabric Double Sofa BedFurniture  ...  \n",
       "2      AW BelliesFootwear   Women's Footwear   Baller...  \n",
       "3      Alisha Solid Women's Cycling ShortsClothing   ...  \n",
       "4      Sicons All Purpose Arnica Dog ShampooPet Suppl...  \n",
       "...                                                  ...  \n",
       "19995  WallDesign Small Vinyl StickerBaby Care   Baby...  \n",
       "19996  Wallmantra Large Vinyl Stickers StickerBaby Ca...  \n",
       "19997  Elite Collection Medium Acrylic StickerBaby Ca...  \n",
       "19998  Elite Collection Medium Acrylic StickerBaby Ca...  \n",
       "19999  Elite Collection Medium Acrylic StickerBaby Ca...  \n",
       "\n",
       "[14058 rows x 3 columns]"
      ]
     },
     "execution_count": 43,
     "metadata": {},
     "output_type": "execute_result"
    }
   ],
   "source": [
    "new_df"
   ]
  },
  {
   "cell_type": "code",
   "execution_count": 63,
   "id": "f05c71ce-84e9-4180-9bc2-cf5c5a9a6e30",
   "metadata": {},
   "outputs": [
    {
     "name": "stdout",
     "output_type": "stream",
     "text": [
      "Requirement already satisfied: nltk in c:\\users\\tvoma\\appdata\\local\\programs\\python\\python311\\lib\\site-packages (3.8.1)\n",
      "Requirement already satisfied: click in c:\\users\\tvoma\\appdata\\local\\programs\\python\\python311\\lib\\site-packages (from nltk) (8.1.7)\n",
      "Requirement already satisfied: joblib in c:\\users\\tvoma\\appdata\\local\\programs\\python\\python311\\lib\\site-packages (from nltk) (1.3.2)\n",
      "Requirement already satisfied: regex>=2021.8.3 in c:\\users\\tvoma\\appdata\\local\\programs\\python\\python311\\lib\\site-packages (from nltk) (2023.10.3)\n",
      "Requirement already satisfied: tqdm in c:\\users\\tvoma\\appdata\\local\\programs\\python\\python311\\lib\\site-packages (from nltk) (4.66.1)\n",
      "Requirement already satisfied: colorama in c:\\users\\tvoma\\appdata\\local\\programs\\python\\python311\\lib\\site-packages (from click->nltk) (0.4.6)\n"
     ]
    },
    {
     "name": "stderr",
     "output_type": "stream",
     "text": [
      "\n",
      "[notice] A new release of pip is available: 23.2.1 -> 23.3.2\n",
      "[notice] To update, run: python.exe -m pip install --upgrade pip\n"
     ]
    }
   ],
   "source": [
    "!pip install nltk"
   ]
  },
  {
   "cell_type": "code",
   "execution_count": 64,
   "id": "c7d8e27a-2f71-401b-ac01-d85f8ea9a0ab",
   "metadata": {},
   "outputs": [],
   "source": [
    "import nltk\n",
    "from nltk.stem.porter import PorterStemmer\n",
    "ps = PorterStemmer()"
   ]
  },
  {
   "cell_type": "code",
   "execution_count": 65,
   "id": "2d162410-564c-40a3-8e2a-f9978a2641ea",
   "metadata": {},
   "outputs": [],
   "source": [
    "def stem(text):\n",
    "    y = []\n",
    "    for i in text.split():\n",
    "        y.append(ps.stem(i))\n",
    "    return \" \".join(y)"
   ]
  },
  {
   "cell_type": "code",
   "execution_count": 67,
   "id": "d46917e0-7e97-429f-be9f-b4f129be5c93",
   "metadata": {},
   "outputs": [
    {
     "name": "stderr",
     "output_type": "stream",
     "text": [
      "C:\\Users\\tvoma\\AppData\\Local\\Temp\\ipykernel_9224\\3514595201.py:1: SettingWithCopyWarning: \n",
      "A value is trying to be set on a copy of a slice from a DataFrame.\n",
      "Try using .loc[row_indexer,col_indexer] = value instead\n",
      "\n",
      "See the caveats in the documentation: https://pandas.pydata.org/pandas-docs/stable/user_guide/indexing.html#returning-a-view-versus-a-copy\n",
      "  new_df['tags']=new_df['tags'].apply(stem)\n"
     ]
    }
   ],
   "source": [
    "new_df['tags']=new_df['tags'].apply(stem)"
   ]
  },
  {
   "cell_type": "code",
   "execution_count": 46,
   "id": "a828d4e1-9175-4a76-a4df-f497c8626b19",
   "metadata": {},
   "outputs": [
    {
     "name": "stderr",
     "output_type": "stream",
     "text": [
      "C:\\Users\\tvoma\\AppData\\Local\\Temp\\ipykernel_9224\\4224080999.py:1: SettingWithCopyWarning: \n",
      "A value is trying to be set on a copy of a slice from a DataFrame.\n",
      "Try using .loc[row_indexer,col_indexer] = value instead\n",
      "\n",
      "See the caveats in the documentation: https://pandas.pydata.org/pandas-docs/stable/user_guide/indexing.html#returning-a-view-versus-a-copy\n",
      "  new_df['tags']=new_df['tags'].apply(lambda x:x.lower())\n"
     ]
    }
   ],
   "source": [
    "new_df['tags']=new_df['tags'].apply(lambda x:x.lower()) "
   ]
  },
  {
   "cell_type": "code",
   "execution_count": null,
   "id": "7b0bd4f7-8099-49d0-99b0-3bdd25a99380",
   "metadata": {},
   "outputs": [],
   "source": []
  },
  {
   "cell_type": "code",
   "execution_count": 68,
   "id": "95ca9e2d-f052-4802-a34c-86a0eba31136",
   "metadata": {},
   "outputs": [
    {
     "data": {
      "text/plain": [
       "0        alisha solid women' cycl shortscloth women' cl...\n",
       "1        fabhomedecor fabric doubl sofa bedfurnitur liv...\n",
       "2        aw belliesfootwear women' footwear ballerina a...\n",
       "3        alisha solid women' cycl shortscloth women' cl...\n",
       "4        sicon all purpos arnica dog shampoopet suppli ...\n",
       "                               ...                        \n",
       "19995    walldesign small vinyl stickerbabi care babi &...\n",
       "19996    wallmantra larg vinyl sticker stickerbabi care...\n",
       "19997    elit collect medium acryl stickerbabi care bab...\n",
       "19998    elit collect medium acryl stickerbabi care bab...\n",
       "19999    elit collect medium acryl stickerbabi care bab...\n",
       "Name: tags, Length: 14058, dtype: object"
      ]
     },
     "execution_count": 68,
     "metadata": {},
     "output_type": "execute_result"
    }
   ],
   "source": [
    "new_df['tags']"
   ]
  },
  {
   "cell_type": "code",
   "execution_count": 69,
   "id": "a93066ca-847c-4f98-bee6-e0c42f2810ea",
   "metadata": {},
   "outputs": [
    {
     "data": {
      "text/html": [
       "<div>\n",
       "<style scoped>\n",
       "    .dataframe tbody tr th:only-of-type {\n",
       "        vertical-align: middle;\n",
       "    }\n",
       "\n",
       "    .dataframe tbody tr th {\n",
       "        vertical-align: top;\n",
       "    }\n",
       "\n",
       "    .dataframe thead th {\n",
       "        text-align: right;\n",
       "    }\n",
       "</style>\n",
       "<table border=\"1\" class=\"dataframe\">\n",
       "  <thead>\n",
       "    <tr style=\"text-align: right;\">\n",
       "      <th></th>\n",
       "      <th>uniq_id</th>\n",
       "      <th>product_name</th>\n",
       "      <th>tags</th>\n",
       "    </tr>\n",
       "  </thead>\n",
       "  <tbody>\n",
       "    <tr>\n",
       "      <th>0</th>\n",
       "      <td>c2d766ca982eca8304150849735ffef9</td>\n",
       "      <td>Alisha Solid Women's Cycling Shorts</td>\n",
       "      <td>alisha solid women' cycl shortscloth women' cl...</td>\n",
       "    </tr>\n",
       "    <tr>\n",
       "      <th>1</th>\n",
       "      <td>7f7036a6d550aaa89d34c77bd39a5e48</td>\n",
       "      <td>FabHomeDecor Fabric Double Sofa Bed</td>\n",
       "      <td>fabhomedecor fabric doubl sofa bedfurnitur liv...</td>\n",
       "    </tr>\n",
       "    <tr>\n",
       "      <th>2</th>\n",
       "      <td>f449ec65dcbc041b6ae5e6a32717d01b</td>\n",
       "      <td>AW Bellies</td>\n",
       "      <td>aw belliesfootwear women' footwear ballerina a...</td>\n",
       "    </tr>\n",
       "    <tr>\n",
       "      <th>3</th>\n",
       "      <td>0973b37acd0c664e3de26e97e5571454</td>\n",
       "      <td>Alisha Solid Women's Cycling Shorts</td>\n",
       "      <td>alisha solid women' cycl shortscloth women' cl...</td>\n",
       "    </tr>\n",
       "    <tr>\n",
       "      <th>4</th>\n",
       "      <td>bc940ea42ee6bef5ac7cea3fb5cfbee7</td>\n",
       "      <td>Sicons All Purpose Arnica Dog Shampoo</td>\n",
       "      <td>sicon all purpos arnica dog shampoopet suppli ...</td>\n",
       "    </tr>\n",
       "  </tbody>\n",
       "</table>\n",
       "</div>"
      ],
      "text/plain": [
       "                            uniq_id                           product_name  \\\n",
       "0  c2d766ca982eca8304150849735ffef9    Alisha Solid Women's Cycling Shorts   \n",
       "1  7f7036a6d550aaa89d34c77bd39a5e48    FabHomeDecor Fabric Double Sofa Bed   \n",
       "2  f449ec65dcbc041b6ae5e6a32717d01b                             AW Bellies   \n",
       "3  0973b37acd0c664e3de26e97e5571454    Alisha Solid Women's Cycling Shorts   \n",
       "4  bc940ea42ee6bef5ac7cea3fb5cfbee7  Sicons All Purpose Arnica Dog Shampoo   \n",
       "\n",
       "                                                tags  \n",
       "0  alisha solid women' cycl shortscloth women' cl...  \n",
       "1  fabhomedecor fabric doubl sofa bedfurnitur liv...  \n",
       "2  aw belliesfootwear women' footwear ballerina a...  \n",
       "3  alisha solid women' cycl shortscloth women' cl...  \n",
       "4  sicon all purpos arnica dog shampoopet suppli ...  "
      ]
     },
     "execution_count": 69,
     "metadata": {},
     "output_type": "execute_result"
    }
   ],
   "source": [
    "new_df.head()"
   ]
  },
  {
   "cell_type": "code",
   "execution_count": 70,
   "id": "8c8c4620-605d-4fa3-854e-1f8fae5f7b66",
   "metadata": {},
   "outputs": [],
   "source": [
    "from sklearn.feature_extraction.text import CountVectorizer\n",
    "cv = CountVectorizer(max_features=5000,stop_words='english')"
   ]
  },
  {
   "cell_type": "code",
   "execution_count": 71,
   "id": "86739212-1bb1-43e3-9535-56dbaa7a85da",
   "metadata": {},
   "outputs": [],
   "source": [
    "vectors = cv.fit_transform(products['tags']).toarray()"
   ]
  },
  {
   "cell_type": "code",
   "execution_count": 72,
   "id": "1f904039-53f5-480d-b530-034b23770789",
   "metadata": {},
   "outputs": [
    {
     "data": {
      "text/plain": [
       "array([[0, 0, 0, ..., 0, 0, 0],\n",
       "       [0, 0, 0, ..., 0, 0, 0],\n",
       "       [0, 0, 0, ..., 0, 0, 0],\n",
       "       ...,\n",
       "       [0, 0, 0, ..., 0, 0, 0],\n",
       "       [0, 0, 0, ..., 0, 0, 0],\n",
       "       [0, 0, 0, ..., 0, 0, 0]], dtype=int64)"
      ]
     },
     "execution_count": 72,
     "metadata": {},
     "output_type": "execute_result"
    }
   ],
   "source": [
    "vectors"
   ]
  },
  {
   "cell_type": "code",
   "execution_count": 73,
   "id": "92969b5b-8547-4c15-a761-f45df8394e7e",
   "metadata": {},
   "outputs": [
    {
     "data": {
      "text/plain": [
       "array([0, 0, 0, ..., 0, 0, 0], dtype=int64)"
      ]
     },
     "execution_count": 73,
     "metadata": {},
     "output_type": "execute_result"
    }
   ],
   "source": [
    "vectors[0]"
   ]
  },
  {
   "cell_type": "code",
   "execution_count": 74,
   "id": "004a4fc4-7e6e-4d6a-9135-ec639731ce4c",
   "metadata": {},
   "outputs": [
    {
     "data": {
      "text/plain": [
       "array(['00', '000', '001', ..., 'zoom', 'zosign', 'zyxel'], dtype=object)"
      ]
     },
     "execution_count": 74,
     "metadata": {},
     "output_type": "execute_result"
    }
   ],
   "source": [
    "cv.get_feature_names_out()"
   ]
  },
  {
   "cell_type": "code",
   "execution_count": 75,
   "id": "e311ebd3-6ee0-405d-9260-1d05a6b6ed51",
   "metadata": {},
   "outputs": [],
   "source": [
    "from sklearn.metrics.pairwise import cosine_similarity"
   ]
  },
  {
   "cell_type": "code",
   "execution_count": null,
   "id": "4cd079dc-b25c-4035-a8ca-71d1a935adab",
   "metadata": {},
   "outputs": [],
   "source": []
  },
  {
   "cell_type": "code",
   "execution_count": 76,
   "id": "b128cc62-8bce-4974-8db8-9536f0279d32",
   "metadata": {},
   "outputs": [
    {
     "data": {
      "text/plain": [
       "(14058, 14058)"
      ]
     },
     "execution_count": 76,
     "metadata": {},
     "output_type": "execute_result"
    }
   ],
   "source": [
    "cosine_similarity(vectors).shape"
   ]
  },
  {
   "cell_type": "code",
   "execution_count": 77,
   "id": "786a17ce-7ed3-4f6a-873b-5864f1568521",
   "metadata": {},
   "outputs": [],
   "source": [
    "similarity = cosine_similarity(vectors)"
   ]
  },
  {
   "cell_type": "code",
   "execution_count": 88,
   "id": "da02c38f-a4c0-474a-848e-b297cf16579b",
   "metadata": {},
   "outputs": [
    {
     "data": {
      "text/plain": [
       "[(6, 0.9884368902134378),\n",
       " (3, 0.9874965848043481),\n",
       " (9, 0.9776705037036391),\n",
       " (12, 0.9751243781094525),\n",
       " (14, 0.9751243781094525)]"
      ]
     },
     "execution_count": 88,
     "metadata": {},
     "output_type": "execute_result"
    }
   ],
   "source": [
    "sorted(list(enumerate(similarity[0])),reverse=True,key=lambda x:x[1])[1:6]"
   ]
  },
  {
   "cell_type": "code",
   "execution_count": 103,
   "id": "552f89ff-8ada-43b0-b8bd-3382b67389d3",
   "metadata": {},
   "outputs": [],
   "source": [
    "def recommend(product):\n",
    "    product_index = new_df[new_df['product_name'] == product].index[0]\n",
    "    distances = similarity[product_index]\n",
    "    products_list = sorted(list(enumerate(distances)),reverse=True,key=lambda x:x[1])[1:6]\n",
    "    for i in products_list:\n",
    "        print(new_df.iloc[i[0]].product_name)"
   ]
  },
  {
   "cell_type": "code",
   "execution_count": 79,
   "id": "85d4168f-5bcf-47af-8497-1fccad0d8778",
   "metadata": {},
   "outputs": [
    {
     "data": {
      "text/plain": [
       "2"
      ]
     },
     "execution_count": 79,
     "metadata": {},
     "output_type": "execute_result"
    }
   ],
   "source": [
    "new_df[new_df['product_name'] == 'AW Bellies'].index[0]"
   ]
  },
  {
   "cell_type": "code",
   "execution_count": 104,
   "id": "948031f6-49ba-4881-8bc5-dd370772c8cd",
   "metadata": {},
   "outputs": [
    {
     "name": "stdout",
     "output_type": "stream",
     "text": [
      "Footrendz Casual Bellies\n",
      "Mobiroy Bellies\n",
      "Mobiroy Bellies\n",
      "Kanvas Bellies\n",
      "femitaly Women Bellies\n"
     ]
    }
   ],
   "source": [
    "recommend('AW Bellies')"
   ]
  },
  {
   "cell_type": "code",
   "execution_count": 98,
   "id": "85ed847c-1bd2-4a73-b0a7-e08378bf14a7",
   "metadata": {},
   "outputs": [
    {
     "data": {
      "text/plain": [
       "uniq_id                          ce5a6818f7707e2cb61fdcdbba61f5ad\n",
       "product_name                  Alisha Solid Women's Cycling Shorts\n",
       "tags            alisha solid women' cycl shortscloth women' cl...\n",
       "Name: 6, dtype: object"
      ]
     },
     "execution_count": 98,
     "metadata": {},
     "output_type": "execute_result"
    }
   ],
   "source": [
    "new_df.iloc[6]"
   ]
  },
  {
   "cell_type": "code",
   "execution_count": null,
   "id": "52cd7c26-a769-4974-a50c-832409b4ee43",
   "metadata": {},
   "outputs": [],
   "source": []
  }
 ],
 "metadata": {
  "kernelspec": {
   "display_name": "Python 3 (ipykernel)",
   "language": "python",
   "name": "python3"
  },
  "language_info": {
   "codemirror_mode": {
    "name": "ipython",
    "version": 3
   },
   "file_extension": ".py",
   "mimetype": "text/x-python",
   "name": "python",
   "nbconvert_exporter": "python",
   "pygments_lexer": "ipython3",
   "version": "3.11.5"
  }
 },
 "nbformat": 4,
 "nbformat_minor": 5
}
