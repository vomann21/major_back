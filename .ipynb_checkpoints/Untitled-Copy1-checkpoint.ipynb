{
 "cells": [
  {
   "cell_type": "code",
   "execution_count": 1,
   "id": "648f9f63-7b7c-4370-bdec-e9601377c6d4",
   "metadata": {},
   "outputs": [],
   "source": [
    "import numpy as np\n",
    "import pandas as pd"
   ]
  },
  {
   "cell_type": "code",
   "execution_count": 2,
   "id": "2d068431-9860-4425-bc19-2e5d67fecda3",
   "metadata": {},
   "outputs": [],
   "source": [
    "laptop_df = pd.read_csv('flip_laptop.csv')\n",
    "phone_df = pd.read_csv('flip_phones.csv')\n",
    "fridge_df = pd.read_csv('flip_fridgess.csv')\n",
    "tv_df = pd.read_csv('flip_Tv.csv')\n",
    "ac_df = pd.read_csv('flip_ac.csv')\n",
    "\n",
    "combined_df = pd.concat([laptop_df,phone_df,fridge_df,tv_df,ac_df], axis=0, ignore_index=True)\n",
    "combined_df.to_csv('combined_flipkart_products.csv', index=False)"
   ]
  },
  {
   "cell_type": "code",
   "execution_count": 3,
   "id": "0dd21804-fe12-4373-8f08-00ebcac1f457",
   "metadata": {},
   "outputs": [
    {
     "name": "stdout",
     "output_type": "stream",
     "text": [
      "40080\n"
     ]
    }
   ],
   "source": [
    "num_rows_unique = combined_df.shape[0]\n",
    "print(num_rows_unique)"
   ]
  },
  {
   "cell_type": "code",
   "execution_count": 4,
   "id": "35502862-1ad2-42e3-913b-2db67659da2e",
   "metadata": {},
   "outputs": [
    {
     "data": {
      "text/html": [
       "<div>\n",
       "<style scoped>\n",
       "    .dataframe tbody tr th:only-of-type {\n",
       "        vertical-align: middle;\n",
       "    }\n",
       "\n",
       "    .dataframe tbody tr th {\n",
       "        vertical-align: top;\n",
       "    }\n",
       "\n",
       "    .dataframe thead th {\n",
       "        text-align: right;\n",
       "    }\n",
       "</style>\n",
       "<table border=\"1\" class=\"dataframe\">\n",
       "  <thead>\n",
       "    <tr style=\"text-align: right;\">\n",
       "      <th></th>\n",
       "      <th>title</th>\n",
       "      <th>image</th>\n",
       "      <th>price</th>\n",
       "      <th>description</th>\n",
       "      <th>brand</th>\n",
       "      <th>platform</th>\n",
       "      <th>type</th>\n",
       "    </tr>\n",
       "  </thead>\n",
       "  <tbody>\n",
       "    <tr>\n",
       "      <th>0</th>\n",
       "      <td>WINGS Nuvobook V1 Aluminium Alloy Metal Body I...</td>\n",
       "      <td>https://rukminim2.flixcart.com/image/312/312/x...</td>\n",
       "      <td>₹27,990</td>\n",
       "      <td>[\"Intel Core i5 Processor (11th Gen)\",\"8 GB DD...</td>\n",
       "      <td>WINGS</td>\n",
       "      <td>Flipkart</td>\n",
       "      <td>Laptop</td>\n",
       "    </tr>\n",
       "    <tr>\n",
       "      <th>1</th>\n",
       "      <td>ASUS ROG Strix G15 AMD Ryzen 7 Octa Core 6800H...</td>\n",
       "      <td>https://rukminim2.flixcart.com/image/312/312/x...</td>\n",
       "      <td>₹77,990</td>\n",
       "      <td>[\"Intel Core i5 Processor (11th Gen)\",\"8 GB DD...</td>\n",
       "      <td>ASUS</td>\n",
       "      <td>Flipkart</td>\n",
       "      <td>Laptop</td>\n",
       "    </tr>\n",
       "    <tr>\n",
       "      <th>2</th>\n",
       "      <td>Apple 2020 Macbook Air Apple M1 - (8 GB/256 GB...</td>\n",
       "      <td>https://rukminim2.flixcart.com/image/312/312/k...</td>\n",
       "      <td>₹83,990</td>\n",
       "      <td>[\"Intel Core i5 Processor (11th Gen)\",\"8 GB DD...</td>\n",
       "      <td>Apple</td>\n",
       "      <td>Flipkart</td>\n",
       "      <td>Laptop</td>\n",
       "    </tr>\n",
       "    <tr>\n",
       "      <th>3</th>\n",
       "      <td>Lenovo Yoga Slim 6 Intel Evo Intel Core i5 12t...</td>\n",
       "      <td>https://rukminim2.flixcart.com/image/312/312/x...</td>\n",
       "      <td>₹64,990</td>\n",
       "      <td>[\"Intel Core i5 Processor (11th Gen)\",\"8 GB DD...</td>\n",
       "      <td>Lenovo</td>\n",
       "      <td>Flipkart</td>\n",
       "      <td>Laptop</td>\n",
       "    </tr>\n",
       "    <tr>\n",
       "      <th>4</th>\n",
       "      <td>Apple 2020 Macbook Air Apple M1 - (8 GB/256 GB...</td>\n",
       "      <td>https://rukminim2.flixcart.com/image/312/312/k...</td>\n",
       "      <td>₹83,990</td>\n",
       "      <td>[\"Intel Core i5 Processor (11th Gen)\",\"8 GB DD...</td>\n",
       "      <td>Apple</td>\n",
       "      <td>Flipkart</td>\n",
       "      <td>Laptop</td>\n",
       "    </tr>\n",
       "    <tr>\n",
       "      <th>...</th>\n",
       "      <td>...</td>\n",
       "      <td>...</td>\n",
       "      <td>...</td>\n",
       "      <td>...</td>\n",
       "      <td>...</td>\n",
       "      <td>...</td>\n",
       "      <td>...</td>\n",
       "    </tr>\n",
       "    <tr>\n",
       "      <th>40075</th>\n",
       "      <td>Voltas 1.5 Ton 3 Star Window AC  - White</td>\n",
       "      <td>https://rukminim2.flixcart.com/image/312/312/x...</td>\n",
       "      <td>₹27,990</td>\n",
       "      <td>Annual Power Usage: 1201.27 kWh Room Size: 151...</td>\n",
       "      <td>Voltas</td>\n",
       "      <td>Flipkart</td>\n",
       "      <td>AC</td>\n",
       "    </tr>\n",
       "    <tr>\n",
       "      <th>40076</th>\n",
       "      <td>realme TechLife 2023 Range 1 Ton 4 Star Split ...</td>\n",
       "      <td>https://rukminim2.flixcart.com/image/312/312/x...</td>\n",
       "      <td>₹26,999</td>\n",
       "      <td>Annual Power Usage: 1201.27 kWh Room Size: 151...</td>\n",
       "      <td>realme</td>\n",
       "      <td>Flipkart</td>\n",
       "      <td>AC</td>\n",
       "    </tr>\n",
       "    <tr>\n",
       "      <th>40077</th>\n",
       "      <td>Godrej 1.5 Ton 3 Star Split Inverter AC  - White</td>\n",
       "      <td>https://rukminim2.flixcart.com/image/312/312/x...</td>\n",
       "      <td>₹32,499</td>\n",
       "      <td>Annual Power Usage: 1201.27 kWh Room Size: 151...</td>\n",
       "      <td>Godrej</td>\n",
       "      <td>Flipkart</td>\n",
       "      <td>AC</td>\n",
       "    </tr>\n",
       "    <tr>\n",
       "      <th>40078</th>\n",
       "      <td>Godrej 5-In-1 Convertible Cooling 2023 Model 1...</td>\n",
       "      <td>https://rukminim2.flixcart.com/image/312/312/x...</td>\n",
       "      <td>₹30,990</td>\n",
       "      <td>Annual Power Usage: 1201.27 kWh Room Size: 151...</td>\n",
       "      <td>Godrej</td>\n",
       "      <td>Flipkart</td>\n",
       "      <td>AC</td>\n",
       "    </tr>\n",
       "    <tr>\n",
       "      <th>40079</th>\n",
       "      <td>Godrej 5-in-1 Convertible Cooling 2023 Model 1...</td>\n",
       "      <td>https://rukminim2.flixcart.com/image/312/312/x...</td>\n",
       "      <td>₹42,900</td>\n",
       "      <td>Annual Power Usage: 1201.27 kWh Room Size: 151...</td>\n",
       "      <td>Godrej</td>\n",
       "      <td>Flipkart</td>\n",
       "      <td>AC</td>\n",
       "    </tr>\n",
       "  </tbody>\n",
       "</table>\n",
       "<p>40080 rows × 7 columns</p>\n",
       "</div>"
      ],
      "text/plain": [
       "                                                   title  \\\n",
       "0      WINGS Nuvobook V1 Aluminium Alloy Metal Body I...   \n",
       "1      ASUS ROG Strix G15 AMD Ryzen 7 Octa Core 6800H...   \n",
       "2      Apple 2020 Macbook Air Apple M1 - (8 GB/256 GB...   \n",
       "3      Lenovo Yoga Slim 6 Intel Evo Intel Core i5 12t...   \n",
       "4      Apple 2020 Macbook Air Apple M1 - (8 GB/256 GB...   \n",
       "...                                                  ...   \n",
       "40075           Voltas 1.5 Ton 3 Star Window AC  - White   \n",
       "40076  realme TechLife 2023 Range 1 Ton 4 Star Split ...   \n",
       "40077   Godrej 1.5 Ton 3 Star Split Inverter AC  - White   \n",
       "40078  Godrej 5-In-1 Convertible Cooling 2023 Model 1...   \n",
       "40079  Godrej 5-in-1 Convertible Cooling 2023 Model 1...   \n",
       "\n",
       "                                                   image    price  \\\n",
       "0      https://rukminim2.flixcart.com/image/312/312/x...  ₹27,990   \n",
       "1      https://rukminim2.flixcart.com/image/312/312/x...  ₹77,990   \n",
       "2      https://rukminim2.flixcart.com/image/312/312/k...  ₹83,990   \n",
       "3      https://rukminim2.flixcart.com/image/312/312/x...  ₹64,990   \n",
       "4      https://rukminim2.flixcart.com/image/312/312/k...  ₹83,990   \n",
       "...                                                  ...      ...   \n",
       "40075  https://rukminim2.flixcart.com/image/312/312/x...  ₹27,990   \n",
       "40076  https://rukminim2.flixcart.com/image/312/312/x...  ₹26,999   \n",
       "40077  https://rukminim2.flixcart.com/image/312/312/x...  ₹32,499   \n",
       "40078  https://rukminim2.flixcart.com/image/312/312/x...  ₹30,990   \n",
       "40079  https://rukminim2.flixcart.com/image/312/312/x...  ₹42,900   \n",
       "\n",
       "                                             description   brand  platform  \\\n",
       "0      [\"Intel Core i5 Processor (11th Gen)\",\"8 GB DD...   WINGS  Flipkart   \n",
       "1      [\"Intel Core i5 Processor (11th Gen)\",\"8 GB DD...    ASUS  Flipkart   \n",
       "2      [\"Intel Core i5 Processor (11th Gen)\",\"8 GB DD...   Apple  Flipkart   \n",
       "3      [\"Intel Core i5 Processor (11th Gen)\",\"8 GB DD...  Lenovo  Flipkart   \n",
       "4      [\"Intel Core i5 Processor (11th Gen)\",\"8 GB DD...   Apple  Flipkart   \n",
       "...                                                  ...     ...       ...   \n",
       "40075  Annual Power Usage: 1201.27 kWh Room Size: 151...  Voltas  Flipkart   \n",
       "40076  Annual Power Usage: 1201.27 kWh Room Size: 151...  realme  Flipkart   \n",
       "40077  Annual Power Usage: 1201.27 kWh Room Size: 151...  Godrej  Flipkart   \n",
       "40078  Annual Power Usage: 1201.27 kWh Room Size: 151...  Godrej  Flipkart   \n",
       "40079  Annual Power Usage: 1201.27 kWh Room Size: 151...  Godrej  Flipkart   \n",
       "\n",
       "         type  \n",
       "0      Laptop  \n",
       "1      Laptop  \n",
       "2      Laptop  \n",
       "3      Laptop  \n",
       "4      Laptop  \n",
       "...       ...  \n",
       "40075      AC  \n",
       "40076      AC  \n",
       "40077      AC  \n",
       "40078      AC  \n",
       "40079      AC  \n",
       "\n",
       "[40080 rows x 7 columns]"
      ]
     },
     "execution_count": 4,
     "metadata": {},
     "output_type": "execute_result"
    }
   ],
   "source": [
    "combined_df"
   ]
  },
  {
   "cell_type": "code",
   "execution_count": 5,
   "id": "58519b34-4e1e-47f7-9c94-b3dd1eb2a023",
   "metadata": {},
   "outputs": [
    {
     "name": "stdout",
     "output_type": "stream",
     "text": [
      "<class 'pandas.core.frame.DataFrame'>\n",
      "RangeIndex: 40080 entries, 0 to 40079\n",
      "Data columns (total 7 columns):\n",
      " #   Column       Non-Null Count  Dtype \n",
      "---  ------       --------------  ----- \n",
      " 0   title        40080 non-null  object\n",
      " 1   image        40080 non-null  object\n",
      " 2   price        40080 non-null  object\n",
      " 3   description  40080 non-null  object\n",
      " 4   brand        40080 non-null  object\n",
      " 5   platform     40080 non-null  object\n",
      " 6   type         40080 non-null  object\n",
      "dtypes: object(7)\n",
      "memory usage: 2.1+ MB\n"
     ]
    }
   ],
   "source": [
    "combined_df.info()"
   ]
  },
  {
   "cell_type": "code",
   "execution_count": 6,
   "id": "c25dbdb6-e5d3-4efa-bf42-39f0dc601725",
   "metadata": {},
   "outputs": [
    {
     "data": {
      "text/plain": [
       "title          0\n",
       "image          0\n",
       "price          0\n",
       "description    0\n",
       "brand          0\n",
       "platform       0\n",
       "type           0\n",
       "dtype: int64"
      ]
     },
     "execution_count": 6,
     "metadata": {},
     "output_type": "execute_result"
    }
   ],
   "source": [
    "combined_df.isnull().sum()"
   ]
  },
  {
   "cell_type": "code",
   "execution_count": 7,
   "id": "da4b5924-68be-4fa3-9102-721fc67234f4",
   "metadata": {},
   "outputs": [],
   "source": [
    "new_df = pd.concat([laptop_df,phone_df,fridge_df,tv_df,ac_df], axis=0, ignore_index=True)\n",
    "new_df.to_csv('combined_flipkart_products.csv', index=False)"
   ]
  },
  {
   "cell_type": "code",
   "execution_count": 8,
   "id": "2a423d8d-ee0a-4363-9ff9-07a09671d170",
   "metadata": {},
   "outputs": [],
   "source": [
    "def remove_special_characters(text):\n",
    "    import re\n",
    "    # Replace all non-alphabetic characters and spaces with an empty string\n",
    "    return re.sub(r'[^a-zA-Z0-9\\s]', '', text)\n",
    "new_df['title'] = new_df['title'].apply(remove_special_characters)\n",
    "new_df['price'] = new_df['price'].apply(remove_special_characters)\n",
    "new_df['description'] = new_df['description'].apply(remove_special_characters)\n",
    "new_df['brand'] = new_df['brand'].apply(remove_special_characters)\n",
    "new_df['platform'] = new_df['platform'].apply(remove_special_characters)\n",
    "new_df['type'] = new_df['type'].apply(remove_special_characters)"
   ]
  },
  {
   "cell_type": "code",
   "execution_count": 9,
   "id": "0e56f46f-8882-454f-80dc-f00e67221b70",
   "metadata": {},
   "outputs": [
    {
     "data": {
      "text/html": [
       "<div>\n",
       "<style scoped>\n",
       "    .dataframe tbody tr th:only-of-type {\n",
       "        vertical-align: middle;\n",
       "    }\n",
       "\n",
       "    .dataframe tbody tr th {\n",
       "        vertical-align: top;\n",
       "    }\n",
       "\n",
       "    .dataframe thead th {\n",
       "        text-align: right;\n",
       "    }\n",
       "</style>\n",
       "<table border=\"1\" class=\"dataframe\">\n",
       "  <thead>\n",
       "    <tr style=\"text-align: right;\">\n",
       "      <th></th>\n",
       "      <th>title</th>\n",
       "      <th>image</th>\n",
       "      <th>price</th>\n",
       "      <th>description</th>\n",
       "      <th>brand</th>\n",
       "      <th>platform</th>\n",
       "      <th>type</th>\n",
       "    </tr>\n",
       "  </thead>\n",
       "  <tbody>\n",
       "    <tr>\n",
       "      <th>0</th>\n",
       "      <td>WINGS Nuvobook V1 Aluminium Alloy Metal Body I...</td>\n",
       "      <td>https://rukminim2.flixcart.com/image/312/312/x...</td>\n",
       "      <td>27990</td>\n",
       "      <td>Intel Core i5 Processor 11th Gen8 GB DDR4 RAMW...</td>\n",
       "      <td>WINGS</td>\n",
       "      <td>Flipkart</td>\n",
       "      <td>Laptop</td>\n",
       "    </tr>\n",
       "    <tr>\n",
       "      <th>1</th>\n",
       "      <td>ASUS ROG Strix G15 AMD Ryzen 7 Octa Core 6800H...</td>\n",
       "      <td>https://rukminim2.flixcart.com/image/312/312/x...</td>\n",
       "      <td>77990</td>\n",
       "      <td>Intel Core i5 Processor 11th Gen8 GB DDR4 RAMW...</td>\n",
       "      <td>ASUS</td>\n",
       "      <td>Flipkart</td>\n",
       "      <td>Laptop</td>\n",
       "    </tr>\n",
       "    <tr>\n",
       "      <th>2</th>\n",
       "      <td>Apple 2020 Macbook Air Apple M1  8 GB256 GB SS...</td>\n",
       "      <td>https://rukminim2.flixcart.com/image/312/312/k...</td>\n",
       "      <td>83990</td>\n",
       "      <td>Intel Core i5 Processor 11th Gen8 GB DDR4 RAMW...</td>\n",
       "      <td>Apple</td>\n",
       "      <td>Flipkart</td>\n",
       "      <td>Laptop</td>\n",
       "    </tr>\n",
       "    <tr>\n",
       "      <th>3</th>\n",
       "      <td>Lenovo Yoga Slim 6 Intel Evo Intel Core i5 12t...</td>\n",
       "      <td>https://rukminim2.flixcart.com/image/312/312/x...</td>\n",
       "      <td>64990</td>\n",
       "      <td>Intel Core i5 Processor 11th Gen8 GB DDR4 RAMW...</td>\n",
       "      <td>Lenovo</td>\n",
       "      <td>Flipkart</td>\n",
       "      <td>Laptop</td>\n",
       "    </tr>\n",
       "    <tr>\n",
       "      <th>4</th>\n",
       "      <td>Apple 2020 Macbook Air Apple M1  8 GB256 GB SS...</td>\n",
       "      <td>https://rukminim2.flixcart.com/image/312/312/k...</td>\n",
       "      <td>83990</td>\n",
       "      <td>Intel Core i5 Processor 11th Gen8 GB DDR4 RAMW...</td>\n",
       "      <td>Apple</td>\n",
       "      <td>Flipkart</td>\n",
       "      <td>Laptop</td>\n",
       "    </tr>\n",
       "  </tbody>\n",
       "</table>\n",
       "</div>"
      ],
      "text/plain": [
       "                                               title  \\\n",
       "0  WINGS Nuvobook V1 Aluminium Alloy Metal Body I...   \n",
       "1  ASUS ROG Strix G15 AMD Ryzen 7 Octa Core 6800H...   \n",
       "2  Apple 2020 Macbook Air Apple M1  8 GB256 GB SS...   \n",
       "3  Lenovo Yoga Slim 6 Intel Evo Intel Core i5 12t...   \n",
       "4  Apple 2020 Macbook Air Apple M1  8 GB256 GB SS...   \n",
       "\n",
       "                                               image  price  \\\n",
       "0  https://rukminim2.flixcart.com/image/312/312/x...  27990   \n",
       "1  https://rukminim2.flixcart.com/image/312/312/x...  77990   \n",
       "2  https://rukminim2.flixcart.com/image/312/312/k...  83990   \n",
       "3  https://rukminim2.flixcart.com/image/312/312/x...  64990   \n",
       "4  https://rukminim2.flixcart.com/image/312/312/k...  83990   \n",
       "\n",
       "                                         description   brand  platform    type  \n",
       "0  Intel Core i5 Processor 11th Gen8 GB DDR4 RAMW...   WINGS  Flipkart  Laptop  \n",
       "1  Intel Core i5 Processor 11th Gen8 GB DDR4 RAMW...    ASUS  Flipkart  Laptop  \n",
       "2  Intel Core i5 Processor 11th Gen8 GB DDR4 RAMW...   Apple  Flipkart  Laptop  \n",
       "3  Intel Core i5 Processor 11th Gen8 GB DDR4 RAMW...  Lenovo  Flipkart  Laptop  \n",
       "4  Intel Core i5 Processor 11th Gen8 GB DDR4 RAMW...   Apple  Flipkart  Laptop  "
      ]
     },
     "execution_count": 9,
     "metadata": {},
     "output_type": "execute_result"
    }
   ],
   "source": [
    "new_df.head()"
   ]
  },
  {
   "cell_type": "code",
   "execution_count": 10,
   "id": "b61b0c2c-236e-4dcb-96bd-c603eb5275a2",
   "metadata": {},
   "outputs": [
    {
     "data": {
      "text/html": [
       "<div>\n",
       "<style scoped>\n",
       "    .dataframe tbody tr th:only-of-type {\n",
       "        vertical-align: middle;\n",
       "    }\n",
       "\n",
       "    .dataframe tbody tr th {\n",
       "        vertical-align: top;\n",
       "    }\n",
       "\n",
       "    .dataframe thead th {\n",
       "        text-align: right;\n",
       "    }\n",
       "</style>\n",
       "<table border=\"1\" class=\"dataframe\">\n",
       "  <thead>\n",
       "    <tr style=\"text-align: right;\">\n",
       "      <th></th>\n",
       "      <th>title</th>\n",
       "      <th>image</th>\n",
       "      <th>price</th>\n",
       "      <th>description</th>\n",
       "      <th>brand</th>\n",
       "      <th>platform</th>\n",
       "      <th>type</th>\n",
       "      <th>tags</th>\n",
       "    </tr>\n",
       "  </thead>\n",
       "  <tbody>\n",
       "    <tr>\n",
       "      <th>0</th>\n",
       "      <td>WINGS Nuvobook V1 Aluminium Alloy Metal Body I...</td>\n",
       "      <td>https://rukminim2.flixcart.com/image/312/312/x...</td>\n",
       "      <td>27990</td>\n",
       "      <td>Intel Core i5 Processor 11th Gen8 GB DDR4 RAMW...</td>\n",
       "      <td>WINGS</td>\n",
       "      <td>Flipkart</td>\n",
       "      <td>Laptop</td>\n",
       "      <td>WINGS Nuvobook V1 Aluminium Alloy Metal Body I...</td>\n",
       "    </tr>\n",
       "    <tr>\n",
       "      <th>1</th>\n",
       "      <td>ASUS ROG Strix G15 AMD Ryzen 7 Octa Core 6800H...</td>\n",
       "      <td>https://rukminim2.flixcart.com/image/312/312/x...</td>\n",
       "      <td>77990</td>\n",
       "      <td>Intel Core i5 Processor 11th Gen8 GB DDR4 RAMW...</td>\n",
       "      <td>ASUS</td>\n",
       "      <td>Flipkart</td>\n",
       "      <td>Laptop</td>\n",
       "      <td>ASUS ROG Strix G15 AMD Ryzen 7 Octa Core 6800H...</td>\n",
       "    </tr>\n",
       "    <tr>\n",
       "      <th>2</th>\n",
       "      <td>Apple 2020 Macbook Air Apple M1  8 GB256 GB SS...</td>\n",
       "      <td>https://rukminim2.flixcart.com/image/312/312/k...</td>\n",
       "      <td>83990</td>\n",
       "      <td>Intel Core i5 Processor 11th Gen8 GB DDR4 RAMW...</td>\n",
       "      <td>Apple</td>\n",
       "      <td>Flipkart</td>\n",
       "      <td>Laptop</td>\n",
       "      <td>Apple 2020 Macbook Air Apple M1  8 GB256 GB SS...</td>\n",
       "    </tr>\n",
       "    <tr>\n",
       "      <th>3</th>\n",
       "      <td>Lenovo Yoga Slim 6 Intel Evo Intel Core i5 12t...</td>\n",
       "      <td>https://rukminim2.flixcart.com/image/312/312/x...</td>\n",
       "      <td>64990</td>\n",
       "      <td>Intel Core i5 Processor 11th Gen8 GB DDR4 RAMW...</td>\n",
       "      <td>Lenovo</td>\n",
       "      <td>Flipkart</td>\n",
       "      <td>Laptop</td>\n",
       "      <td>Lenovo Yoga Slim 6 Intel Evo Intel Core i5 12t...</td>\n",
       "    </tr>\n",
       "    <tr>\n",
       "      <th>4</th>\n",
       "      <td>Apple 2020 Macbook Air Apple M1  8 GB256 GB SS...</td>\n",
       "      <td>https://rukminim2.flixcart.com/image/312/312/k...</td>\n",
       "      <td>83990</td>\n",
       "      <td>Intel Core i5 Processor 11th Gen8 GB DDR4 RAMW...</td>\n",
       "      <td>Apple</td>\n",
       "      <td>Flipkart</td>\n",
       "      <td>Laptop</td>\n",
       "      <td>Apple 2020 Macbook Air Apple M1  8 GB256 GB SS...</td>\n",
       "    </tr>\n",
       "  </tbody>\n",
       "</table>\n",
       "</div>"
      ],
      "text/plain": [
       "                                               title  \\\n",
       "0  WINGS Nuvobook V1 Aluminium Alloy Metal Body I...   \n",
       "1  ASUS ROG Strix G15 AMD Ryzen 7 Octa Core 6800H...   \n",
       "2  Apple 2020 Macbook Air Apple M1  8 GB256 GB SS...   \n",
       "3  Lenovo Yoga Slim 6 Intel Evo Intel Core i5 12t...   \n",
       "4  Apple 2020 Macbook Air Apple M1  8 GB256 GB SS...   \n",
       "\n",
       "                                               image  price  \\\n",
       "0  https://rukminim2.flixcart.com/image/312/312/x...  27990   \n",
       "1  https://rukminim2.flixcart.com/image/312/312/x...  77990   \n",
       "2  https://rukminim2.flixcart.com/image/312/312/k...  83990   \n",
       "3  https://rukminim2.flixcart.com/image/312/312/x...  64990   \n",
       "4  https://rukminim2.flixcart.com/image/312/312/k...  83990   \n",
       "\n",
       "                                         description   brand  platform  \\\n",
       "0  Intel Core i5 Processor 11th Gen8 GB DDR4 RAMW...   WINGS  Flipkart   \n",
       "1  Intel Core i5 Processor 11th Gen8 GB DDR4 RAMW...    ASUS  Flipkart   \n",
       "2  Intel Core i5 Processor 11th Gen8 GB DDR4 RAMW...   Apple  Flipkart   \n",
       "3  Intel Core i5 Processor 11th Gen8 GB DDR4 RAMW...  Lenovo  Flipkart   \n",
       "4  Intel Core i5 Processor 11th Gen8 GB DDR4 RAMW...   Apple  Flipkart   \n",
       "\n",
       "     type                                               tags  \n",
       "0  Laptop  WINGS Nuvobook V1 Aluminium Alloy Metal Body I...  \n",
       "1  Laptop  ASUS ROG Strix G15 AMD Ryzen 7 Octa Core 6800H...  \n",
       "2  Laptop  Apple 2020 Macbook Air Apple M1  8 GB256 GB SS...  \n",
       "3  Laptop  Lenovo Yoga Slim 6 Intel Evo Intel Core i5 12t...  \n",
       "4  Laptop  Apple 2020 Macbook Air Apple M1  8 GB256 GB SS...  "
      ]
     },
     "execution_count": 10,
     "metadata": {},
     "output_type": "execute_result"
    }
   ],
   "source": [
    "new_df['tags'] = new_df['title']+new_df['price']+new_df['description']+new_df['brand']+new_df['platform']+new_df['type']\n",
    "new_df.head()"
   ]
  },
  {
   "cell_type": "code",
   "execution_count": 11,
   "id": "fdf4f495-c3b2-4013-8935-e85ad98bb10e",
   "metadata": {},
   "outputs": [],
   "source": [
    "new_df = new_df[['title','description','brand','platform','type','tags']]"
   ]
  },
  {
   "cell_type": "code",
   "execution_count": 12,
   "id": "de0eb50d-a23d-41c3-8707-2dd62dc43eb7",
   "metadata": {},
   "outputs": [
    {
     "data": {
      "text/html": [
       "<div>\n",
       "<style scoped>\n",
       "    .dataframe tbody tr th:only-of-type {\n",
       "        vertical-align: middle;\n",
       "    }\n",
       "\n",
       "    .dataframe tbody tr th {\n",
       "        vertical-align: top;\n",
       "    }\n",
       "\n",
       "    .dataframe thead th {\n",
       "        text-align: right;\n",
       "    }\n",
       "</style>\n",
       "<table border=\"1\" class=\"dataframe\">\n",
       "  <thead>\n",
       "    <tr style=\"text-align: right;\">\n",
       "      <th></th>\n",
       "      <th>title</th>\n",
       "      <th>description</th>\n",
       "      <th>brand</th>\n",
       "      <th>platform</th>\n",
       "      <th>type</th>\n",
       "      <th>tags</th>\n",
       "    </tr>\n",
       "  </thead>\n",
       "  <tbody>\n",
       "    <tr>\n",
       "      <th>0</th>\n",
       "      <td>WINGS Nuvobook V1 Aluminium Alloy Metal Body I...</td>\n",
       "      <td>Intel Core i5 Processor 11th Gen8 GB DDR4 RAMW...</td>\n",
       "      <td>WINGS</td>\n",
       "      <td>Flipkart</td>\n",
       "      <td>Laptop</td>\n",
       "      <td>WINGS Nuvobook V1 Aluminium Alloy Metal Body I...</td>\n",
       "    </tr>\n",
       "    <tr>\n",
       "      <th>1</th>\n",
       "      <td>ASUS ROG Strix G15 AMD Ryzen 7 Octa Core 6800H...</td>\n",
       "      <td>Intel Core i5 Processor 11th Gen8 GB DDR4 RAMW...</td>\n",
       "      <td>ASUS</td>\n",
       "      <td>Flipkart</td>\n",
       "      <td>Laptop</td>\n",
       "      <td>ASUS ROG Strix G15 AMD Ryzen 7 Octa Core 6800H...</td>\n",
       "    </tr>\n",
       "    <tr>\n",
       "      <th>2</th>\n",
       "      <td>Apple 2020 Macbook Air Apple M1  8 GB256 GB SS...</td>\n",
       "      <td>Intel Core i5 Processor 11th Gen8 GB DDR4 RAMW...</td>\n",
       "      <td>Apple</td>\n",
       "      <td>Flipkart</td>\n",
       "      <td>Laptop</td>\n",
       "      <td>Apple 2020 Macbook Air Apple M1  8 GB256 GB SS...</td>\n",
       "    </tr>\n",
       "    <tr>\n",
       "      <th>3</th>\n",
       "      <td>Lenovo Yoga Slim 6 Intel Evo Intel Core i5 12t...</td>\n",
       "      <td>Intel Core i5 Processor 11th Gen8 GB DDR4 RAMW...</td>\n",
       "      <td>Lenovo</td>\n",
       "      <td>Flipkart</td>\n",
       "      <td>Laptop</td>\n",
       "      <td>Lenovo Yoga Slim 6 Intel Evo Intel Core i5 12t...</td>\n",
       "    </tr>\n",
       "    <tr>\n",
       "      <th>4</th>\n",
       "      <td>Apple 2020 Macbook Air Apple M1  8 GB256 GB SS...</td>\n",
       "      <td>Intel Core i5 Processor 11th Gen8 GB DDR4 RAMW...</td>\n",
       "      <td>Apple</td>\n",
       "      <td>Flipkart</td>\n",
       "      <td>Laptop</td>\n",
       "      <td>Apple 2020 Macbook Air Apple M1  8 GB256 GB SS...</td>\n",
       "    </tr>\n",
       "    <tr>\n",
       "      <th>...</th>\n",
       "      <td>...</td>\n",
       "      <td>...</td>\n",
       "      <td>...</td>\n",
       "      <td>...</td>\n",
       "      <td>...</td>\n",
       "      <td>...</td>\n",
       "    </tr>\n",
       "    <tr>\n",
       "      <th>40075</th>\n",
       "      <td>Voltas 15 Ton 3 Star Window AC   White</td>\n",
       "      <td>Annual Power Usage 120127 kWh Room Size 151  2...</td>\n",
       "      <td>Voltas</td>\n",
       "      <td>Flipkart</td>\n",
       "      <td>AC</td>\n",
       "      <td>Voltas 15 Ton 3 Star Window AC   White27990Ann...</td>\n",
       "    </tr>\n",
       "    <tr>\n",
       "      <th>40076</th>\n",
       "      <td>realme TechLife 2023 Range 1 Ton 4 Star Split ...</td>\n",
       "      <td>Annual Power Usage 120127 kWh Room Size 151  2...</td>\n",
       "      <td>realme</td>\n",
       "      <td>Flipkart</td>\n",
       "      <td>AC</td>\n",
       "      <td>realme TechLife 2023 Range 1 Ton 4 Star Split ...</td>\n",
       "    </tr>\n",
       "    <tr>\n",
       "      <th>40077</th>\n",
       "      <td>Godrej 15 Ton 3 Star Split Inverter AC   White</td>\n",
       "      <td>Annual Power Usage 120127 kWh Room Size 151  2...</td>\n",
       "      <td>Godrej</td>\n",
       "      <td>Flipkart</td>\n",
       "      <td>AC</td>\n",
       "      <td>Godrej 15 Ton 3 Star Split Inverter AC   White...</td>\n",
       "    </tr>\n",
       "    <tr>\n",
       "      <th>40078</th>\n",
       "      <td>Godrej 5In1 Convertible Cooling 2023 Model 15 ...</td>\n",
       "      <td>Annual Power Usage 120127 kWh Room Size 151  2...</td>\n",
       "      <td>Godrej</td>\n",
       "      <td>Flipkart</td>\n",
       "      <td>AC</td>\n",
       "      <td>Godrej 5In1 Convertible Cooling 2023 Model 15 ...</td>\n",
       "    </tr>\n",
       "    <tr>\n",
       "      <th>40079</th>\n",
       "      <td>Godrej 5in1 Convertible Cooling 2023 Model 1 T...</td>\n",
       "      <td>Annual Power Usage 120127 kWh Room Size 151  2...</td>\n",
       "      <td>Godrej</td>\n",
       "      <td>Flipkart</td>\n",
       "      <td>AC</td>\n",
       "      <td>Godrej 5in1 Convertible Cooling 2023 Model 1 T...</td>\n",
       "    </tr>\n",
       "  </tbody>\n",
       "</table>\n",
       "<p>40080 rows × 6 columns</p>\n",
       "</div>"
      ],
      "text/plain": [
       "                                                   title  \\\n",
       "0      WINGS Nuvobook V1 Aluminium Alloy Metal Body I...   \n",
       "1      ASUS ROG Strix G15 AMD Ryzen 7 Octa Core 6800H...   \n",
       "2      Apple 2020 Macbook Air Apple M1  8 GB256 GB SS...   \n",
       "3      Lenovo Yoga Slim 6 Intel Evo Intel Core i5 12t...   \n",
       "4      Apple 2020 Macbook Air Apple M1  8 GB256 GB SS...   \n",
       "...                                                  ...   \n",
       "40075             Voltas 15 Ton 3 Star Window AC   White   \n",
       "40076  realme TechLife 2023 Range 1 Ton 4 Star Split ...   \n",
       "40077     Godrej 15 Ton 3 Star Split Inverter AC   White   \n",
       "40078  Godrej 5In1 Convertible Cooling 2023 Model 15 ...   \n",
       "40079  Godrej 5in1 Convertible Cooling 2023 Model 1 T...   \n",
       "\n",
       "                                             description   brand  platform  \\\n",
       "0      Intel Core i5 Processor 11th Gen8 GB DDR4 RAMW...   WINGS  Flipkart   \n",
       "1      Intel Core i5 Processor 11th Gen8 GB DDR4 RAMW...    ASUS  Flipkart   \n",
       "2      Intel Core i5 Processor 11th Gen8 GB DDR4 RAMW...   Apple  Flipkart   \n",
       "3      Intel Core i5 Processor 11th Gen8 GB DDR4 RAMW...  Lenovo  Flipkart   \n",
       "4      Intel Core i5 Processor 11th Gen8 GB DDR4 RAMW...   Apple  Flipkart   \n",
       "...                                                  ...     ...       ...   \n",
       "40075  Annual Power Usage 120127 kWh Room Size 151  2...  Voltas  Flipkart   \n",
       "40076  Annual Power Usage 120127 kWh Room Size 151  2...  realme  Flipkart   \n",
       "40077  Annual Power Usage 120127 kWh Room Size 151  2...  Godrej  Flipkart   \n",
       "40078  Annual Power Usage 120127 kWh Room Size 151  2...  Godrej  Flipkart   \n",
       "40079  Annual Power Usage 120127 kWh Room Size 151  2...  Godrej  Flipkart   \n",
       "\n",
       "         type                                               tags  \n",
       "0      Laptop  WINGS Nuvobook V1 Aluminium Alloy Metal Body I...  \n",
       "1      Laptop  ASUS ROG Strix G15 AMD Ryzen 7 Octa Core 6800H...  \n",
       "2      Laptop  Apple 2020 Macbook Air Apple M1  8 GB256 GB SS...  \n",
       "3      Laptop  Lenovo Yoga Slim 6 Intel Evo Intel Core i5 12t...  \n",
       "4      Laptop  Apple 2020 Macbook Air Apple M1  8 GB256 GB SS...  \n",
       "...       ...                                                ...  \n",
       "40075      AC  Voltas 15 Ton 3 Star Window AC   White27990Ann...  \n",
       "40076      AC  realme TechLife 2023 Range 1 Ton 4 Star Split ...  \n",
       "40077      AC  Godrej 15 Ton 3 Star Split Inverter AC   White...  \n",
       "40078      AC  Godrej 5In1 Convertible Cooling 2023 Model 15 ...  \n",
       "40079      AC  Godrej 5in1 Convertible Cooling 2023 Model 1 T...  \n",
       "\n",
       "[40080 rows x 6 columns]"
      ]
     },
     "execution_count": 12,
     "metadata": {},
     "output_type": "execute_result"
    }
   ],
   "source": [
    "new_df"
   ]
  },
  {
   "cell_type": "code",
   "execution_count": 13,
   "id": "ccbabb0f-eb89-4874-9990-39f233548bdf",
   "metadata": {},
   "outputs": [],
   "source": [
    "import nltk\n",
    "from nltk.stem.porter import PorterStemmer\n",
    "ps = PorterStemmer()"
   ]
  },
  {
   "cell_type": "code",
   "execution_count": 14,
   "id": "10e05716-791b-42b0-8476-6af8e7e84a70",
   "metadata": {},
   "outputs": [],
   "source": [
    "def stem(text):\n",
    "    y = []\n",
    "    for i in text.split():\n",
    "        y.append(ps.stem(i))\n",
    "    return \" \".join(y)"
   ]
  },
  {
   "cell_type": "code",
   "execution_count": 15,
   "id": "9ead5f72-4de3-444a-9984-55a6828f3f59",
   "metadata": {},
   "outputs": [],
   "source": [
    "new_df['tags']=new_df['tags'].apply(stem)"
   ]
  },
  {
   "cell_type": "code",
   "execution_count": 16,
   "id": "0fa2de7c-0fa5-400d-aac9-2b0503371d8f",
   "metadata": {},
   "outputs": [],
   "source": [
    "new_df['tags']=new_df['tags'].apply(lambda x:x.lower()) "
   ]
  },
  {
   "cell_type": "code",
   "execution_count": 17,
   "id": "a1ffdbc9-e8cc-464a-8208-c467b46783f9",
   "metadata": {},
   "outputs": [
    {
     "data": {
      "text/plain": [
       "0        wing nuvobook v1 aluminium alloy metal bodi in...\n",
       "1        asu rog strix g15 amd ryzen 7 octa core 6800h ...\n",
       "2        appl 2020 macbook air appl m1 8 gb256 gb ssdma...\n",
       "3        lenovo yoga slim 6 intel evo intel core i5 12t...\n",
       "4        appl 2020 macbook air appl m1 8 gb256 gb ssdma...\n",
       "                               ...                        \n",
       "40075    volta 15 ton 3 star window ac white27990annu p...\n",
       "40076    realm techlif 2023 rang 1 ton 4 star split inv...\n",
       "40077    godrej 15 ton 3 star split invert ac white3249...\n",
       "40078    godrej 5in1 convert cool 2023 model 15 ton 3 s...\n",
       "40079    godrej 5in1 convert cool 2023 model 1 ton 3 st...\n",
       "Name: tags, Length: 40080, dtype: object"
      ]
     },
     "execution_count": 17,
     "metadata": {},
     "output_type": "execute_result"
    }
   ],
   "source": [
    "new_df['tags']"
   ]
  },
  {
   "cell_type": "code",
   "execution_count": 18,
   "id": "c0292975-46f8-4da6-bd1e-4900fe24237a",
   "metadata": {},
   "outputs": [],
   "source": [
    "from sklearn.feature_extraction.text import CountVectorizer\n",
    "cv = CountVectorizer(max_features=5000,stop_words='english')"
   ]
  },
  {
   "cell_type": "code",
   "execution_count": 19,
   "id": "b7c9f8c0-67f2-4523-96aa-b798a110bb08",
   "metadata": {},
   "outputs": [],
   "source": [
    "subset_df = new_df.head(30000)\n",
    "vectors = cv.fit_transform(subset_df['tags']).toarray()"
   ]
  },
  {
   "cell_type": "code",
   "execution_count": 20,
   "id": "859ba940-2ef6-4e82-9a83-c3939b229d8f",
   "metadata": {},
   "outputs": [
    {
     "data": {
      "text/plain": [
       "array([[ 0,  0,  0, ...,  0,  0,  0],\n",
       "       [ 0,  0,  0, ...,  0,  0,  0],\n",
       "       [ 0,  0,  0, ...,  0,  0,  0],\n",
       "       ...,\n",
       "       [ 0,  0, 23, ...,  0,  0,  0],\n",
       "       [ 0,  0, 23, ...,  0,  0,  0],\n",
       "       [ 0,  0, 23, ...,  0,  0,  0]], dtype=int64)"
      ]
     },
     "execution_count": 20,
     "metadata": {},
     "output_type": "execute_result"
    }
   ],
   "source": [
    "vectors"
   ]
  },
  {
   "cell_type": "code",
   "execution_count": 21,
   "id": "2f9a02b8-98f9-48d5-953d-35047b8065d7",
   "metadata": {},
   "outputs": [
    {
     "data": {
      "text/plain": [
       "array(['06', '08', '10', ..., 'youtub', 'zerobook', 'zl513'], dtype=object)"
      ]
     },
     "execution_count": 21,
     "metadata": {},
     "output_type": "execute_result"
    }
   ],
   "source": [
    "cv.get_feature_names_out()"
   ]
  },
  {
   "cell_type": "code",
   "execution_count": 22,
   "id": "4e04f8d3-f307-48bc-9655-52190121ce57",
   "metadata": {},
   "outputs": [],
   "source": [
    "from sklearn.metrics.pairwise import cosine_similarity"
   ]
  },
  {
   "cell_type": "code",
   "execution_count": 23,
   "id": "fd2e36e0-32a8-4e06-9cad-f849b86927a1",
   "metadata": {},
   "outputs": [
    {
     "data": {
      "text/plain": [
       "(30000, 30000)"
      ]
     },
     "execution_count": 23,
     "metadata": {},
     "output_type": "execute_result"
    }
   ],
   "source": [
    "cosine_similarity(vectors).shape"
   ]
  },
  {
   "cell_type": "code",
   "execution_count": 24,
   "id": "9d9dc383-429b-4089-8982-c95938829a23",
   "metadata": {},
   "outputs": [],
   "source": [
    "similarity = cosine_similarity(vectors)"
   ]
  },
  {
   "cell_type": "code",
   "execution_count": 25,
   "id": "c5842dd3-2ed9-47da-8772-9b2ccb7c153b",
   "metadata": {},
   "outputs": [
    {
     "name": "stdout",
     "output_type": "stream",
     "text": [
      "[(16, 0.9994762683967247), (160, 0.9994762683967247), (208, 0.9994762683967247), (304, 0.9994762683967247), (496, 0.9994762683967247), (544, 0.9994762683967247), (736, 0.9994762683967247), (784, 0.9994762683967247), (880, 0.9994762683967247), (928, 0.9994762683967247), (1024, 0.9994762683967247), (1072, 0.9994762683967247), (1312, 0.9994762683967247), (1360, 0.9994762683967247), (1408, 0.9994762683967247), (1456, 0.9994762683967247), (1552, 0.9994762683967247), (1600, 0.9994762683967247), (1648, 0.9994762683967247), (1696, 0.9994762683967247), (1744, 0.9994762683967247), (1840, 0.9994762683967247), (20, 0.9994107783641425), (21, 0.9994107783641425), (164, 0.9994107783641425), (165, 0.9994107783641425), (212, 0.9994107783641425), (213, 0.9994107783641425), (308, 0.9994107783641425), (309, 0.9994107783641425), (500, 0.9994107783641425), (501, 0.9994107783641425), (548, 0.9994107783641425), (549, 0.9994107783641425), (740, 0.9994107783641425), (741, 0.9994107783641425), (788, 0.9994107783641425), (789, 0.9994107783641425), (884, 0.9994107783641425), (885, 0.9994107783641425), (932, 0.9994107783641425), (933, 0.9994107783641425), (1028, 0.9994107783641425), (1029, 0.9994107783641425), (1076, 0.9994107783641425), (1077, 0.9994107783641425), (1316, 0.9994107783641425), (1317, 0.9994107783641425), (1364, 0.9994107783641425), (1365, 0.9994107783641425), (1412, 0.9994107783641425), (1413, 0.9994107783641425), (1460, 0.9994107783641425), (1461, 0.9994107783641425), (1556, 0.9994107783641425), (1557, 0.9994107783641425), (1604, 0.9994107783641425), (1605, 0.9994107783641425), (1652, 0.9994107783641425), (1653, 0.9994107783641425), (1700, 0.9994107783641425), (1701, 0.9994107783641425), (1748, 0.9994107783641425), (1749, 0.9994107783641425), (1844, 0.9994107783641425), (1845, 0.9994107783641425), (672, 0.9993452583044603), (688, 0.9993452583044603), (689, 0.9988211490603199), (673, 0.9987556160671269), (693, 0.9987556160671269), (15, 0.9986355746409677), (159, 0.9986355746409677), (207, 0.9986355746409677), (303, 0.9986355746409677), (495, 0.9986355746409677), (543, 0.9986355746409677), (735, 0.9986355746409677), (783, 0.9986355746409677), (879, 0.9986355746409677), (927, 0.9986355746409677), (1023, 0.9986355746409677), (1071, 0.9986355746409677), (1311, 0.9986355746409677), (1359, 0.9986355746409677), (1407, 0.9986355746409677), (1455, 0.9986355746409677), (1551, 0.9986355746409677), (1599, 0.9986355746409677), (1647, 0.9986355746409677), (1695, 0.9986355746409677), (1743, 0.9986355746409677), (1839, 0.9986355746409677), (8, 0.998507060733597), (152, 0.998507060733597), (200, 0.998507060733597), (296, 0.998507060733597), (488, 0.998507060733597), (536, 0.998507060733597), (728, 0.998507060733597)]\n"
     ]
    }
   ],
   "source": [
    "# Assuming 'similarity' is your similarity matrix\n",
    "result = sorted(enumerate(similarity[0]), reverse=True, key=lambda x: x[1])\n",
    "\n",
    "# Filter out tuples with similarity score 1.0\n",
    "filtered_result = [(index, score) for index, score in result if score < 1.0]\n",
    "\n",
    "# Take the top 100 tuples\n",
    "top_100 = filtered_result[:100]\n",
    "\n",
    "# Print the top 100 tuples\n",
    "print(top_100)"
   ]
  },
  {
   "cell_type": "code",
   "execution_count": 26,
   "id": "ea28c39b-7c81-407f-934e-2b45b8f8d87b",
   "metadata": {},
   "outputs": [],
   "source": [
    "def recommend(product):\n",
    "    product_index = new_df[new_df['product_name'] == product].index[0]\n",
    "    distances = similarity[product_index]\n",
    "    products_list = sorted(list(enumerate(distances)),reverse=True,key=lambda x:x[1])[1:10]\n",
    "    for i in products_list:\n",
    "        print(new_df.iloc[i[0]].product_name)"
   ]
  }
 ],
 "metadata": {
  "kernelspec": {
   "display_name": "Python 3 (ipykernel)",
   "language": "python",
   "name": "python3"
  },
  "language_info": {
   "codemirror_mode": {
    "name": "ipython",
    "version": 3
   },
   "file_extension": ".py",
   "mimetype": "text/x-python",
   "name": "python",
   "nbconvert_exporter": "python",
   "pygments_lexer": "ipython3",
   "version": "3.11.5"
  }
 },
 "nbformat": 4,
 "nbformat_minor": 5
}
