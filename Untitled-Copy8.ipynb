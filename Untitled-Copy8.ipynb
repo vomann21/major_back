{
 "cells": [
  {
   "cell_type": "code",
   "execution_count": 1,
   "id": "648f9f63-7b7c-4370-bdec-e9601377c6d4",
   "metadata": {},
   "outputs": [],
   "source": [
    "import numpy as np\n",
    "import pandas as pd"
   ]
  },
  {
   "cell_type": "code",
   "execution_count": 48,
   "id": "2d068431-9860-4425-bc19-2e5d67fecda3",
   "metadata": {},
   "outputs": [],
   "source": [
    "laptop_df = pd.read_csv('amaz_laptops.csv')\n",
    "phone_df = pd.read_csv('amaz_phones.csv')\n",
    "fridge_df = pd.read_csv('amaz_fridges.csv')\n",
    "tv_df = pd.read_csv('amaz_tv.csv')\n",
    "ac_df = pd.read_csv('amaz_ac.csv')\n",
    "laptopf_df = pd.read_csv('flip_laptop.csv')\n",
    "phonef_df = pd.read_csv('flip_phones.csv')\n",
    "fridgef_df = pd.read_csv('flip_fridgess.csv')\n",
    "tvf_df = pd.read_csv('flip_tv.csv')\n",
    "acf_df = pd.read_csv('flip_ac.csv')\n",
    "combined_df = pd.concat([laptop_df,phone_df,fridge_df,tv_df,ac_df,laptopf_df,phonef_df,fridgef_df,tvf_df,acf_df], axis=0, ignore_index=True)\n",
    "combined_df.to_csv('combined_flipkart_products.csv', index=False)"
   ]
  },
  {
   "cell_type": "code",
   "execution_count": 169,
   "id": "c25deace-9c31-4934-b8d6-e696106ba370",
   "metadata": {},
   "outputs": [
    {
     "name": "stdout",
     "output_type": "stream",
     "text": [
      "[49]\n"
     ]
    }
   ],
   "source": [
    "desired_title = 'Redmi 10 Power (Power'\n",
    "index_values = phone_df[phone_df['title'] == desired_title].index.tolist()\n",
    "print(index_values)"
   ]
  },
  {
   "cell_type": "code",
   "execution_count": 174,
   "id": "1d000013-cc17-4174-8da1-3400794de4bc",
   "metadata": {},
   "outputs": [
    {
     "name": "stdout",
     "output_type": "stream",
     "text": [
      "[475]\n"
     ]
    }
   ],
   "source": [
    "desired_title = 'Redmi 10 Power (Power'\n",
    "index_values = combined_df[combined_df['title'] == desired_title].index.tolist()\n",
    "print(index_values)"
   ]
  },
  {
   "cell_type": "code",
   "execution_count": 49,
   "id": "0dd21804-fe12-4373-8f08-00ebcac1f457",
   "metadata": {},
   "outputs": [
    {
     "name": "stdout",
     "output_type": "stream",
     "text": [
      "12066\n"
     ]
    }
   ],
   "source": [
    "\n",
    "num_rows_unique = combined_df.shape[0]\n",
    "print(num_rows_unique)"
   ]
  },
  {
   "cell_type": "code",
   "execution_count": 50,
   "id": "35502862-1ad2-42e3-913b-2db67659da2e",
   "metadata": {
    "scrolled": true
   },
   "outputs": [
    {
     "data": {
      "text/html": [
       "<div>\n",
       "<style scoped>\n",
       "    .dataframe tbody tr th:only-of-type {\n",
       "        vertical-align: middle;\n",
       "    }\n",
       "\n",
       "    .dataframe tbody tr th {\n",
       "        vertical-align: top;\n",
       "    }\n",
       "\n",
       "    .dataframe thead th {\n",
       "        text-align: right;\n",
       "    }\n",
       "</style>\n",
       "<table border=\"1\" class=\"dataframe\">\n",
       "  <thead>\n",
       "    <tr style=\"text-align: right;\">\n",
       "      <th></th>\n",
       "      <th>title</th>\n",
       "      <th>image</th>\n",
       "      <th>price</th>\n",
       "      <th>description</th>\n",
       "      <th>brand</th>\n",
       "      <th>platform</th>\n",
       "      <th>type</th>\n",
       "      <th>product_link</th>\n",
       "    </tr>\n",
       "  </thead>\n",
       "  <tbody>\n",
       "    <tr>\n",
       "      <th>0</th>\n",
       "      <td>Victus Gaming Laptop AMD</td>\n",
       "      <td>https://m.media-amazon.com/images/I/71ckDfWKZ8...</td>\n",
       "      <td>80,990</td>\n",
       "      <td>Gaming Laptop AMD Ryzen™ 7 7840HS, 40.9 cm (16...</td>\n",
       "      <td>Victus</td>\n",
       "      <td>Amazon</td>\n",
       "      <td>Laptops</td>\n",
       "      <td>/sspa/click?ie=UTF8&amp;spc=MTozODU0MTU5MDMyMTAzMD...</td>\n",
       "    </tr>\n",
       "    <tr>\n",
       "      <th>1</th>\n",
       "      <td>Laptop 15, 12th Gen</td>\n",
       "      <td>https://m.media-amazon.com/images/I/71RYak+fv6...</td>\n",
       "      <td>36,990</td>\n",
       "      <td>15, 12th Gen i3-1215U, 15.6-inch (39.6 cm), FH...</td>\n",
       "      <td>Laptop</td>\n",
       "      <td>Amazon</td>\n",
       "      <td>Laptops</td>\n",
       "      <td>/sspa/click?ie=UTF8&amp;spc=MTozODU0MTU5MDMyMTAzMD...</td>\n",
       "    </tr>\n",
       "    <tr>\n",
       "      <th>2</th>\n",
       "      <td>(Refurbished) Lenovo ThinkPad 7th</td>\n",
       "      <td>https://m.media-amazon.com/images/I/51nQX+UOPO...</td>\n",
       "      <td>17,899</td>\n",
       "      <td>Lenovo ThinkPad 7th Gen Intel Core i5 Thin &amp; L...</td>\n",
       "      <td>(Refurbished)</td>\n",
       "      <td>Amazon</td>\n",
       "      <td>Laptops</td>\n",
       "      <td>/Refurbished-Lenovo-ThinkPad-Bluetooth-Graphic...</td>\n",
       "    </tr>\n",
       "    <tr>\n",
       "      <th>3</th>\n",
       "      <td>Aspire Lite 12th Gen</td>\n",
       "      <td>https://m.media-amazon.com/images/I/71czGb00k5...</td>\n",
       "      <td>42,990</td>\n",
       "      <td>Lite 12th Gen Intel Core i5-1235U Thin and Lig...</td>\n",
       "      <td>Aspire</td>\n",
       "      <td>Amazon</td>\n",
       "      <td>Laptops</td>\n",
       "      <td>/Acer-i5-1235U-Windows-Graphics-AL15-52/dp/B0C...</td>\n",
       "    </tr>\n",
       "    <tr>\n",
       "      <th>4</th>\n",
       "      <td>15 Laptop, Intel Core</td>\n",
       "      <td>https://m.media-amazon.com/images/I/61TJSzvEsQ...</td>\n",
       "      <td>43,490</td>\n",
       "      <td>Laptop, Intel Core i5-1135G7 Processor/ 8GB/ 1...</td>\n",
       "      <td>15</td>\n",
       "      <td>Amazon</td>\n",
       "      <td>Laptops</td>\n",
       "      <td>/Dell-i5-1135G7-Processor-Spill-Resistant-Keyb...</td>\n",
       "    </tr>\n",
       "    <tr>\n",
       "      <th>...</th>\n",
       "      <td>...</td>\n",
       "      <td>...</td>\n",
       "      <td>...</td>\n",
       "      <td>...</td>\n",
       "      <td>...</td>\n",
       "      <td>...</td>\n",
       "      <td>...</td>\n",
       "      <td>...</td>\n",
       "    </tr>\n",
       "    <tr>\n",
       "      <th>12061</th>\n",
       "      <td>Blue Star Convertible 5</td>\n",
       "      <td>https://rukminim2.flixcart.com/image/312/312/x...</td>\n",
       "      <td>₹43,990</td>\n",
       "      <td>Annual Power Usage: 770.98 kWhRoom Size: 111 -...</td>\n",
       "      <td>Blue</td>\n",
       "      <td>Flipkart</td>\n",
       "      <td>Laptops</td>\n",
       "      <td>/blue-star-convertible-5-1-cooling-2023-model-...</td>\n",
       "    </tr>\n",
       "    <tr>\n",
       "      <th>12062</th>\n",
       "      <td>Panasonic Convertible 7-in-1 with</td>\n",
       "      <td>https://rukminim2.flixcart.com/image/312/312/x...</td>\n",
       "      <td>₹33,490</td>\n",
       "      <td>Annual Power Usage: 676.37 kWhRoom Size: 90 sq...</td>\n",
       "      <td>Panasonic</td>\n",
       "      <td>Flipkart</td>\n",
       "      <td>Laptops</td>\n",
       "      <td>/panasonic-convertible-7-in-1-additional-ai-mo...</td>\n",
       "    </tr>\n",
       "    <tr>\n",
       "      <th>12063</th>\n",
       "      <td>Blue Star Convertible 5</td>\n",
       "      <td>https://rukminim2.flixcart.com/image/312/312/x...</td>\n",
       "      <td>₹35,789</td>\n",
       "      <td>Annual Power Usage: 1002.84 kWhRoom Size: 111 ...</td>\n",
       "      <td>Blue</td>\n",
       "      <td>Flipkart</td>\n",
       "      <td>Laptops</td>\n",
       "      <td>/blue-star-convertible-5-1-cooling-2023-model-...</td>\n",
       "    </tr>\n",
       "    <tr>\n",
       "      <th>12064</th>\n",
       "      <td>CANDY 2023 Model 1.5</td>\n",
       "      <td>https://rukminim2.flixcart.com/image/312/312/x...</td>\n",
       "      <td>₹31,999</td>\n",
       "      <td>Annual Power Usage: 925.24 kWhRoom Size: 111 -...</td>\n",
       "      <td>CANDY</td>\n",
       "      <td>Flipkart</td>\n",
       "      <td>Laptops</td>\n",
       "      <td>/candy-2023-model-1-5-ton-3-star-split-inverte...</td>\n",
       "    </tr>\n",
       "    <tr>\n",
       "      <th>12065</th>\n",
       "      <td>MarQ by Flipkart 2024</td>\n",
       "      <td>https://rukminim2.flixcart.com/image/312/312/x...</td>\n",
       "      <td>₹26,499</td>\n",
       "      <td>Annual Power Usage: 1075 WRoom Size: 90 sqft o...</td>\n",
       "      <td>MarQ</td>\n",
       "      <td>Flipkart</td>\n",
       "      <td>Laptops</td>\n",
       "      <td>/marq-flipkart-2024-range-1-ton-3-star-split-i...</td>\n",
       "    </tr>\n",
       "  </tbody>\n",
       "</table>\n",
       "<p>12066 rows × 8 columns</p>\n",
       "</div>"
      ],
      "text/plain": [
       "                                   title  \\\n",
       "0               Victus Gaming Laptop AMD   \n",
       "1                    Laptop 15, 12th Gen   \n",
       "2      (Refurbished) Lenovo ThinkPad 7th   \n",
       "3                   Aspire Lite 12th Gen   \n",
       "4                  15 Laptop, Intel Core   \n",
       "...                                  ...   \n",
       "12061            Blue Star Convertible 5   \n",
       "12062  Panasonic Convertible 7-in-1 with   \n",
       "12063            Blue Star Convertible 5   \n",
       "12064               CANDY 2023 Model 1.5   \n",
       "12065              MarQ by Flipkart 2024   \n",
       "\n",
       "                                                   image    price  \\\n",
       "0      https://m.media-amazon.com/images/I/71ckDfWKZ8...   80,990   \n",
       "1      https://m.media-amazon.com/images/I/71RYak+fv6...   36,990   \n",
       "2      https://m.media-amazon.com/images/I/51nQX+UOPO...   17,899   \n",
       "3      https://m.media-amazon.com/images/I/71czGb00k5...   42,990   \n",
       "4      https://m.media-amazon.com/images/I/61TJSzvEsQ...   43,490   \n",
       "...                                                  ...      ...   \n",
       "12061  https://rukminim2.flixcart.com/image/312/312/x...  ₹43,990   \n",
       "12062  https://rukminim2.flixcart.com/image/312/312/x...  ₹33,490   \n",
       "12063  https://rukminim2.flixcart.com/image/312/312/x...  ₹35,789   \n",
       "12064  https://rukminim2.flixcart.com/image/312/312/x...  ₹31,999   \n",
       "12065  https://rukminim2.flixcart.com/image/312/312/x...  ₹26,499   \n",
       "\n",
       "                                             description          brand  \\\n",
       "0      Gaming Laptop AMD Ryzen™ 7 7840HS, 40.9 cm (16...         Victus   \n",
       "1      15, 12th Gen i3-1215U, 15.6-inch (39.6 cm), FH...         Laptop   \n",
       "2      Lenovo ThinkPad 7th Gen Intel Core i5 Thin & L...  (Refurbished)   \n",
       "3      Lite 12th Gen Intel Core i5-1235U Thin and Lig...         Aspire   \n",
       "4      Laptop, Intel Core i5-1135G7 Processor/ 8GB/ 1...             15   \n",
       "...                                                  ...            ...   \n",
       "12061  Annual Power Usage: 770.98 kWhRoom Size: 111 -...           Blue   \n",
       "12062  Annual Power Usage: 676.37 kWhRoom Size: 90 sq...      Panasonic   \n",
       "12063  Annual Power Usage: 1002.84 kWhRoom Size: 111 ...           Blue   \n",
       "12064  Annual Power Usage: 925.24 kWhRoom Size: 111 -...          CANDY   \n",
       "12065  Annual Power Usage: 1075 WRoom Size: 90 sqft o...           MarQ   \n",
       "\n",
       "       platform     type                                       product_link  \n",
       "0        Amazon  Laptops  /sspa/click?ie=UTF8&spc=MTozODU0MTU5MDMyMTAzMD...  \n",
       "1        Amazon  Laptops  /sspa/click?ie=UTF8&spc=MTozODU0MTU5MDMyMTAzMD...  \n",
       "2        Amazon  Laptops  /Refurbished-Lenovo-ThinkPad-Bluetooth-Graphic...  \n",
       "3        Amazon  Laptops  /Acer-i5-1235U-Windows-Graphics-AL15-52/dp/B0C...  \n",
       "4        Amazon  Laptops  /Dell-i5-1135G7-Processor-Spill-Resistant-Keyb...  \n",
       "...         ...      ...                                                ...  \n",
       "12061  Flipkart  Laptops  /blue-star-convertible-5-1-cooling-2023-model-...  \n",
       "12062  Flipkart  Laptops  /panasonic-convertible-7-in-1-additional-ai-mo...  \n",
       "12063  Flipkart  Laptops  /blue-star-convertible-5-1-cooling-2023-model-...  \n",
       "12064  Flipkart  Laptops  /candy-2023-model-1-5-ton-3-star-split-inverte...  \n",
       "12065  Flipkart  Laptops  /marq-flipkart-2024-range-1-ton-3-star-split-i...  \n",
       "\n",
       "[12066 rows x 8 columns]"
      ]
     },
     "execution_count": 50,
     "metadata": {},
     "output_type": "execute_result"
    }
   ],
   "source": [
    "combined_df"
   ]
  },
  {
   "cell_type": "code",
   "execution_count": 51,
   "id": "58519b34-4e1e-47f7-9c94-b3dd1eb2a023",
   "metadata": {},
   "outputs": [
    {
     "name": "stdout",
     "output_type": "stream",
     "text": [
      "<class 'pandas.core.frame.DataFrame'>\n",
      "RangeIndex: 12066 entries, 0 to 12065\n",
      "Data columns (total 8 columns):\n",
      " #   Column        Non-Null Count  Dtype \n",
      "---  ------        --------------  ----- \n",
      " 0   title         12066 non-null  object\n",
      " 1   image         12066 non-null  object\n",
      " 2   price         11574 non-null  object\n",
      " 3   description   12063 non-null  object\n",
      " 4   brand         12066 non-null  object\n",
      " 5   platform      12066 non-null  object\n",
      " 6   type          12066 non-null  object\n",
      " 7   product_link  12066 non-null  object\n",
      "dtypes: object(8)\n",
      "memory usage: 754.3+ KB\n"
     ]
    }
   ],
   "source": [
    "combined_df.info()"
   ]
  },
  {
   "cell_type": "code",
   "execution_count": 52,
   "id": "c25dbdb6-e5d3-4efa-bf42-39f0dc601725",
   "metadata": {},
   "outputs": [
    {
     "data": {
      "text/plain": [
       "title             0\n",
       "image             0\n",
       "price           492\n",
       "description       3\n",
       "brand             0\n",
       "platform          0\n",
       "type              0\n",
       "product_link      0\n",
       "dtype: int64"
      ]
     },
     "execution_count": 52,
     "metadata": {},
     "output_type": "execute_result"
    }
   ],
   "source": [
    "combined_df.isnull().sum()"
   ]
  },
  {
   "cell_type": "code",
   "execution_count": 114,
   "id": "ed3d86d4-e9a4-4ba2-96ef-85370a8ade1a",
   "metadata": {},
   "outputs": [],
   "source": [
    "combined_df['price'].fillna('33999', inplace=True)\n",
    "combined_df['price'] = combined_df['price'].astype(str)"
   ]
  },
  {
   "cell_type": "code",
   "execution_count": 177,
   "id": "da4b5924-68be-4fa3-9102-721fc67234f4",
   "metadata": {},
   "outputs": [],
   "source": [
    "new_df = pd.concat([laptop_df,phone_df,fridge_df,tv_df,ac_df,laptopf_df,phonef_df,fridgef_df,tvf_df,acf_df], axis=0, ignore_index=True)\n",
    "new_df.to_csv('new_flipkart_products.csv', index=False)\n",
    "new_df['price'] = new_df['price'].astype(str)\n",
    "new_df['description'] = new_df['description'].astype(str)"
   ]
  },
  {
   "cell_type": "code",
   "execution_count": 201,
   "id": "2a423d8d-ee0a-4363-9ff9-07a09671d170",
   "metadata": {},
   "outputs": [],
   "source": [
    "def remove_special_characters(text):\n",
    "    import re\n",
    "    # Replace all non-alphabetic characters and spaces with an empty string\n",
    "    return re.sub(r'[^a-zA-Z0-9\\s]', '', text)\n",
    "new_df['price'] = new_df['price'].apply(remove_special_characters)\n",
    "new_df['description'] = new_df['description'].apply(remove_special_characters)\n",
    "new_df['brand'] = new_df['brand'].apply(remove_special_characters)\n",
    "new_df['platform'] = new_df['platform'].apply(remove_special_characters)\n",
    "new_df['type'] = new_df['type'].apply(remove_special_characters)"
   ]
  },
  {
   "cell_type": "code",
   "execution_count": 202,
   "id": "0e56f46f-8882-454f-80dc-f00e67221b70",
   "metadata": {},
   "outputs": [
    {
     "data": {
      "text/html": [
       "<div>\n",
       "<style scoped>\n",
       "    .dataframe tbody tr th:only-of-type {\n",
       "        vertical-align: middle;\n",
       "    }\n",
       "\n",
       "    .dataframe tbody tr th {\n",
       "        vertical-align: top;\n",
       "    }\n",
       "\n",
       "    .dataframe thead th {\n",
       "        text-align: right;\n",
       "    }\n",
       "</style>\n",
       "<table border=\"1\" class=\"dataframe\">\n",
       "  <thead>\n",
       "    <tr style=\"text-align: right;\">\n",
       "      <th></th>\n",
       "      <th>title</th>\n",
       "      <th>image</th>\n",
       "      <th>price</th>\n",
       "      <th>description</th>\n",
       "      <th>brand</th>\n",
       "      <th>platform</th>\n",
       "      <th>type</th>\n",
       "      <th>product_link</th>\n",
       "      <th>tags</th>\n",
       "    </tr>\n",
       "  </thead>\n",
       "  <tbody>\n",
       "    <tr>\n",
       "      <th>0</th>\n",
       "      <td>Victus Gaming Laptop AMD</td>\n",
       "      <td>https://m.media-amazon.com/images/I/71ckDfWKZ8...</td>\n",
       "      <td>80990</td>\n",
       "      <td>Gaming Laptop AMD Ryzen 7 7840HS 409 cm 161inc...</td>\n",
       "      <td>Victus</td>\n",
       "      <td>Amazon</td>\n",
       "      <td>Laptops</td>\n",
       "      <td>/sspa/click?ie=UTF8&amp;spc=MTozODU0MTU5MDMyMTAzMD...</td>\n",
       "      <td>Victus Gaming Laptop AMD80990Gaming Laptop AMD...</td>\n",
       "    </tr>\n",
       "    <tr>\n",
       "      <th>1</th>\n",
       "      <td>Laptop 15 12th Gen</td>\n",
       "      <td>https://m.media-amazon.com/images/I/71RYak+fv6...</td>\n",
       "      <td>36990</td>\n",
       "      <td>15 12th Gen i31215U 156inch 396 cm FHD AntiGla...</td>\n",
       "      <td>Laptop</td>\n",
       "      <td>Amazon</td>\n",
       "      <td>Laptops</td>\n",
       "      <td>/sspa/click?ie=UTF8&amp;spc=MTozODU0MTU5MDMyMTAzMD...</td>\n",
       "      <td>Laptop 15 12th Gen3699015 12th Gen i31215U 156...</td>\n",
       "    </tr>\n",
       "    <tr>\n",
       "      <th>2</th>\n",
       "      <td>Refurbished Lenovo ThinkPad 7th</td>\n",
       "      <td>https://m.media-amazon.com/images/I/51nQX+UOPO...</td>\n",
       "      <td>17899</td>\n",
       "      <td>Lenovo ThinkPad 7th Gen Intel Core i5 Thin  Li...</td>\n",
       "      <td>Refurbished</td>\n",
       "      <td>Amazon</td>\n",
       "      <td>Laptops</td>\n",
       "      <td>/Refurbished-Lenovo-ThinkPad-Bluetooth-Graphic...</td>\n",
       "      <td>Refurbished Lenovo ThinkPad 7th17899Lenovo Thi...</td>\n",
       "    </tr>\n",
       "    <tr>\n",
       "      <th>3</th>\n",
       "      <td>Aspire Lite 12th Gen</td>\n",
       "      <td>https://m.media-amazon.com/images/I/71czGb00k5...</td>\n",
       "      <td>42990</td>\n",
       "      <td>Lite 12th Gen Intel Core i51235U Thin and Ligh...</td>\n",
       "      <td>Aspire</td>\n",
       "      <td>Amazon</td>\n",
       "      <td>Laptops</td>\n",
       "      <td>/Acer-i5-1235U-Windows-Graphics-AL15-52/dp/B0C...</td>\n",
       "      <td>Aspire Lite 12th Gen42990Lite 12th Gen Intel C...</td>\n",
       "    </tr>\n",
       "    <tr>\n",
       "      <th>4</th>\n",
       "      <td>15 Laptop Intel Core</td>\n",
       "      <td>https://m.media-amazon.com/images/I/61TJSzvEsQ...</td>\n",
       "      <td>43490</td>\n",
       "      <td>Laptop Intel Core i51135G7 Processor 8GB 1TB25...</td>\n",
       "      <td>15</td>\n",
       "      <td>Amazon</td>\n",
       "      <td>Laptops</td>\n",
       "      <td>/Dell-i5-1135G7-Processor-Spill-Resistant-Keyb...</td>\n",
       "      <td>15 Laptop Intel Core43490Laptop Intel Core i51...</td>\n",
       "    </tr>\n",
       "    <tr>\n",
       "      <th>...</th>\n",
       "      <td>...</td>\n",
       "      <td>...</td>\n",
       "      <td>...</td>\n",
       "      <td>...</td>\n",
       "      <td>...</td>\n",
       "      <td>...</td>\n",
       "      <td>...</td>\n",
       "      <td>...</td>\n",
       "      <td>...</td>\n",
       "    </tr>\n",
       "    <tr>\n",
       "      <th>12061</th>\n",
       "      <td>Blue Star Convertible 5</td>\n",
       "      <td>https://rukminim2.flixcart.com/image/312/312/x...</td>\n",
       "      <td>43990</td>\n",
       "      <td>Annual Power Usage 77098 kWhRoom Size 111  150...</td>\n",
       "      <td>Blue</td>\n",
       "      <td>Flipkart</td>\n",
       "      <td>Laptops</td>\n",
       "      <td>/blue-star-convertible-5-1-cooling-2023-model-...</td>\n",
       "      <td>Blue Star Convertible 543990Annual Power Usage...</td>\n",
       "    </tr>\n",
       "    <tr>\n",
       "      <th>12062</th>\n",
       "      <td>Panasonic Convertible 7in1 with</td>\n",
       "      <td>https://rukminim2.flixcart.com/image/312/312/x...</td>\n",
       "      <td>33490</td>\n",
       "      <td>Annual Power Usage 67637 kWhRoom Size 90 sqft ...</td>\n",
       "      <td>Panasonic</td>\n",
       "      <td>Flipkart</td>\n",
       "      <td>Laptops</td>\n",
       "      <td>/panasonic-convertible-7-in-1-additional-ai-mo...</td>\n",
       "      <td>Panasonic Convertible 7in1 with33490Annual Pow...</td>\n",
       "    </tr>\n",
       "    <tr>\n",
       "      <th>12063</th>\n",
       "      <td>Blue Star Convertible 5</td>\n",
       "      <td>https://rukminim2.flixcart.com/image/312/312/x...</td>\n",
       "      <td>35789</td>\n",
       "      <td>Annual Power Usage 100284 kWhRoom Size 111  15...</td>\n",
       "      <td>Blue</td>\n",
       "      <td>Flipkart</td>\n",
       "      <td>Laptops</td>\n",
       "      <td>/blue-star-convertible-5-1-cooling-2023-model-...</td>\n",
       "      <td>Blue Star Convertible 535789Annual Power Usage...</td>\n",
       "    </tr>\n",
       "    <tr>\n",
       "      <th>12064</th>\n",
       "      <td>CANDY 2023 Model 15</td>\n",
       "      <td>https://rukminim2.flixcart.com/image/312/312/x...</td>\n",
       "      <td>31999</td>\n",
       "      <td>Annual Power Usage 92524 kWhRoom Size 111  150...</td>\n",
       "      <td>CANDY</td>\n",
       "      <td>Flipkart</td>\n",
       "      <td>Laptops</td>\n",
       "      <td>/candy-2023-model-1-5-ton-3-star-split-inverte...</td>\n",
       "      <td>CANDY 2023 Model 1531999Annual Power Usage 925...</td>\n",
       "    </tr>\n",
       "    <tr>\n",
       "      <th>12065</th>\n",
       "      <td>MarQ by Flipkart 2024</td>\n",
       "      <td>https://rukminim2.flixcart.com/image/312/312/x...</td>\n",
       "      <td>26499</td>\n",
       "      <td>Annual Power Usage 1075 WRoom Size 90 sqft or ...</td>\n",
       "      <td>MarQ</td>\n",
       "      <td>Flipkart</td>\n",
       "      <td>Laptops</td>\n",
       "      <td>/marq-flipkart-2024-range-1-ton-3-star-split-i...</td>\n",
       "      <td>MarQ by Flipkart 202426499Annual Power Usage 1...</td>\n",
       "    </tr>\n",
       "  </tbody>\n",
       "</table>\n",
       "<p>12066 rows × 9 columns</p>\n",
       "</div>"
      ],
      "text/plain": [
       "                                 title  \\\n",
       "0             Victus Gaming Laptop AMD   \n",
       "1                   Laptop 15 12th Gen   \n",
       "2      Refurbished Lenovo ThinkPad 7th   \n",
       "3                 Aspire Lite 12th Gen   \n",
       "4                 15 Laptop Intel Core   \n",
       "...                                ...   \n",
       "12061          Blue Star Convertible 5   \n",
       "12062  Panasonic Convertible 7in1 with   \n",
       "12063          Blue Star Convertible 5   \n",
       "12064              CANDY 2023 Model 15   \n",
       "12065            MarQ by Flipkart 2024   \n",
       "\n",
       "                                                   image  price  \\\n",
       "0      https://m.media-amazon.com/images/I/71ckDfWKZ8...  80990   \n",
       "1      https://m.media-amazon.com/images/I/71RYak+fv6...  36990   \n",
       "2      https://m.media-amazon.com/images/I/51nQX+UOPO...  17899   \n",
       "3      https://m.media-amazon.com/images/I/71czGb00k5...  42990   \n",
       "4      https://m.media-amazon.com/images/I/61TJSzvEsQ...  43490   \n",
       "...                                                  ...    ...   \n",
       "12061  https://rukminim2.flixcart.com/image/312/312/x...  43990   \n",
       "12062  https://rukminim2.flixcart.com/image/312/312/x...  33490   \n",
       "12063  https://rukminim2.flixcart.com/image/312/312/x...  35789   \n",
       "12064  https://rukminim2.flixcart.com/image/312/312/x...  31999   \n",
       "12065  https://rukminim2.flixcart.com/image/312/312/x...  26499   \n",
       "\n",
       "                                             description        brand  \\\n",
       "0      Gaming Laptop AMD Ryzen 7 7840HS 409 cm 161inc...       Victus   \n",
       "1      15 12th Gen i31215U 156inch 396 cm FHD AntiGla...       Laptop   \n",
       "2      Lenovo ThinkPad 7th Gen Intel Core i5 Thin  Li...  Refurbished   \n",
       "3      Lite 12th Gen Intel Core i51235U Thin and Ligh...       Aspire   \n",
       "4      Laptop Intel Core i51135G7 Processor 8GB 1TB25...           15   \n",
       "...                                                  ...          ...   \n",
       "12061  Annual Power Usage 77098 kWhRoom Size 111  150...         Blue   \n",
       "12062  Annual Power Usage 67637 kWhRoom Size 90 sqft ...    Panasonic   \n",
       "12063  Annual Power Usage 100284 kWhRoom Size 111  15...         Blue   \n",
       "12064  Annual Power Usage 92524 kWhRoom Size 111  150...        CANDY   \n",
       "12065  Annual Power Usage 1075 WRoom Size 90 sqft or ...         MarQ   \n",
       "\n",
       "       platform     type                                       product_link  \\\n",
       "0        Amazon  Laptops  /sspa/click?ie=UTF8&spc=MTozODU0MTU5MDMyMTAzMD...   \n",
       "1        Amazon  Laptops  /sspa/click?ie=UTF8&spc=MTozODU0MTU5MDMyMTAzMD...   \n",
       "2        Amazon  Laptops  /Refurbished-Lenovo-ThinkPad-Bluetooth-Graphic...   \n",
       "3        Amazon  Laptops  /Acer-i5-1235U-Windows-Graphics-AL15-52/dp/B0C...   \n",
       "4        Amazon  Laptops  /Dell-i5-1135G7-Processor-Spill-Resistant-Keyb...   \n",
       "...         ...      ...                                                ...   \n",
       "12061  Flipkart  Laptops  /blue-star-convertible-5-1-cooling-2023-model-...   \n",
       "12062  Flipkart  Laptops  /panasonic-convertible-7-in-1-additional-ai-mo...   \n",
       "12063  Flipkart  Laptops  /blue-star-convertible-5-1-cooling-2023-model-...   \n",
       "12064  Flipkart  Laptops  /candy-2023-model-1-5-ton-3-star-split-inverte...   \n",
       "12065  Flipkart  Laptops  /marq-flipkart-2024-range-1-ton-3-star-split-i...   \n",
       "\n",
       "                                                    tags  \n",
       "0      Victus Gaming Laptop AMD80990Gaming Laptop AMD...  \n",
       "1      Laptop 15 12th Gen3699015 12th Gen i31215U 156...  \n",
       "2      Refurbished Lenovo ThinkPad 7th17899Lenovo Thi...  \n",
       "3      Aspire Lite 12th Gen42990Lite 12th Gen Intel C...  \n",
       "4      15 Laptop Intel Core43490Laptop Intel Core i51...  \n",
       "...                                                  ...  \n",
       "12061  Blue Star Convertible 543990Annual Power Usage...  \n",
       "12062  Panasonic Convertible 7in1 with33490Annual Pow...  \n",
       "12063  Blue Star Convertible 535789Annual Power Usage...  \n",
       "12064  CANDY 2023 Model 1531999Annual Power Usage 925...  \n",
       "12065  MarQ by Flipkart 202426499Annual Power Usage 1...  \n",
       "\n",
       "[12066 rows x 9 columns]"
      ]
     },
     "execution_count": 202,
     "metadata": {},
     "output_type": "execute_result"
    }
   ],
   "source": [
    "new_df"
   ]
  },
  {
   "cell_type": "code",
   "execution_count": 203,
   "id": "b61b0c2c-236e-4dcb-96bd-c603eb5275a2",
   "metadata": {},
   "outputs": [
    {
     "data": {
      "text/plain": [
       "0          Amazon\n",
       "1          Amazon\n",
       "2          Amazon\n",
       "3          Amazon\n",
       "4          Amazon\n",
       "           ...   \n",
       "12061    Flipkart\n",
       "12062    Flipkart\n",
       "12063    Flipkart\n",
       "12064    Flipkart\n",
       "12065    Flipkart\n",
       "Name: platform, Length: 12066, dtype: object"
      ]
     },
     "execution_count": 203,
     "metadata": {},
     "output_type": "execute_result"
    }
   ],
   "source": [
    "new_df['tags'] = new_df['title']+new_df['price']+new_df['description']+new_df['brand']+new_df['type']\n",
    "new_df.head()\n",
    "new_df['platform']"
   ]
  },
  {
   "cell_type": "code",
   "execution_count": 204,
   "id": "bf5fb88e-dbd3-4f21-b9d9-12c094286c91",
   "metadata": {},
   "outputs": [
    {
     "name": "stdout",
     "output_type": "stream",
     "text": [
      "[]\n"
     ]
    }
   ],
   "source": [
    "desired_title = 'Redmi 10 Power (Power'\n",
    "index_values = new_df[new_df['title'] == desired_title].index.tolist()\n",
    "print(index_values)"
   ]
  },
  {
   "cell_type": "code",
   "execution_count": 205,
   "id": "3d03c84e-0371-4ab6-b8d1-da6010b86160",
   "metadata": {},
   "outputs": [
    {
     "name": "stdout",
     "output_type": "stream",
     "text": [
      "[]\n"
     ]
    }
   ],
   "source": [
    "index_value = new_df[new_df['title'] == 'Redmi 10 Power (Power'].index.tolist()\n",
    "print(index_value)"
   ]
  },
  {
   "cell_type": "code",
   "execution_count": 206,
   "id": "fdf4f495-c3b2-4013-8935-e85ad98bb10e",
   "metadata": {},
   "outputs": [],
   "source": [
    "new_df = new_df[['title','description','brand','platform','type','tags']]"
   ]
  },
  {
   "cell_type": "code",
   "execution_count": 207,
   "id": "73f57c75-7a8c-4384-ab5c-2a3cc9cd1ef0",
   "metadata": {},
   "outputs": [],
   "source": [
    "# result_df = new_df[new_df['title'] == 'Infinix Y1 Plus Neo']\n",
    "# print(result_df)"
   ]
  },
  {
   "cell_type": "code",
   "execution_count": 208,
   "id": "da338b6d-8cc8-44af-aac0-2a78b837a9d1",
   "metadata": {},
   "outputs": [],
   "source": [
    "# print(new_df.iloc[0])"
   ]
  },
  {
   "cell_type": "code",
   "execution_count": 209,
   "id": "41968edd-cf05-4c86-a6d9-70e2fd385085",
   "metadata": {},
   "outputs": [],
   "source": [
    "# print(new_df.iloc[37])"
   ]
  },
  {
   "cell_type": "code",
   "execution_count": 210,
   "id": "de0eb50d-a23d-41c3-8707-2dd62dc43eb7",
   "metadata": {},
   "outputs": [],
   "source": [
    "# import pandas as pd\n",
    "\n",
    "# # Assuming you have a DataFrame named 'df'\n",
    "# # df = pd.DataFrame({...})\n",
    "\n",
    "# # Check for duplicate rows\n",
    "# duplicate_rows = new_df[new_df.duplicated()]\n",
    "\n",
    "# # Display the duplicate rows\n",
    "# print(\"Duplicate Rows except first occurrence:\")\n",
    "# print(duplicate_rows)\n",
    "# print(len(\n",
    "\n",
    "# # If you want to keep only the first occurrence of each duplicate row, you can use the keep parameter\n",
    "# # For example:\n",
    "# # df_no_duplicates = df.drop_duplicates(keep='first')\n",
    "\n",
    "# # If you want to keep only the last occurrence of each duplicate row, you can use keep='last'\n",
    "# # For example:\n",
    "# # df_no_duplicates = df.drop_duplicates(keep='last')\n"
   ]
  },
  {
   "cell_type": "code",
   "execution_count": 211,
   "id": "e6155ec8-e1f2-4804-ac32-e342373fd8a3",
   "metadata": {},
   "outputs": [],
   "source": [
    "# import pandas as pd\n",
    "\n",
    "# # Assuming you have a DataFrame named 'df'\n",
    "# # df = pd.DataFrame({...})\n",
    "\n",
    "# # Remove duplicate rows and keep only the first occurrence\n",
    "# df_2 = new_df.drop_duplicates(keep='first')\n",
    "\n",
    "# # Display the DataFrame without duplicates\n",
    "# print(df_2)\n",
    "# print(len(df_2))"
   ]
  },
  {
   "cell_type": "code",
   "execution_count": 212,
   "id": "0c8ffedc-4565-4f26-84ed-c87f27a6ee96",
   "metadata": {},
   "outputs": [],
   "source": [
    "# import pandas as pd\n",
    "\n",
    "# # Assuming you have a DataFrame named 'df' with a column named 'id'\n",
    "# # df = pd.DataFrame({...})\n",
    "\n",
    "# # Identify duplicate rows based on the 'id' column\n",
    "# duplicate_mask = new_df.duplicated(subset=['title'], keep='first')\n",
    "\n",
    "# # Extract duplicate rows and original rows using boolean indexing\n",
    "# duplicate_rows = new_df[duplicate_mask]\n",
    "# original_rows = new_df[~duplicate_mask]\n",
    "\n",
    "# # Display duplicate rows\n",
    "# print(\"Duplicate Rows:\")\n",
    "# print(duplicate_rows)\n",
    "\n",
    "# # Display original rows\n",
    "# print(\"\\nOriginal Rows:\")\n",
    "# print(original_rows)\n"
   ]
  },
  {
   "cell_type": "code",
   "execution_count": 213,
   "id": "ccbabb0f-eb89-4874-9990-39f233548bdf",
   "metadata": {},
   "outputs": [],
   "source": [
    "import nltk\n",
    "from nltk.stem.porter import PorterStemmer\n",
    "ps = PorterStemmer()"
   ]
  },
  {
   "cell_type": "code",
   "execution_count": 214,
   "id": "10e05716-791b-42b0-8476-6af8e7e84a70",
   "metadata": {},
   "outputs": [],
   "source": [
    "def stem(text):\n",
    "    y = []\n",
    "    for i in text.split():\n",
    "        y.append(ps.stem(i))\n",
    "    return \" \".join(y)"
   ]
  },
  {
   "cell_type": "code",
   "execution_count": 215,
   "id": "9ead5f72-4de3-444a-9984-55a6828f3f59",
   "metadata": {},
   "outputs": [
    {
     "name": "stderr",
     "output_type": "stream",
     "text": [
      "C:\\Users\\tvoma\\AppData\\Local\\Temp\\ipykernel_17856\\3514595201.py:1: SettingWithCopyWarning: \n",
      "A value is trying to be set on a copy of a slice from a DataFrame.\n",
      "Try using .loc[row_indexer,col_indexer] = value instead\n",
      "\n",
      "See the caveats in the documentation: https://pandas.pydata.org/pandas-docs/stable/user_guide/indexing.html#returning-a-view-versus-a-copy\n",
      "  new_df['tags']=new_df['tags'].apply(stem)\n"
     ]
    }
   ],
   "source": [
    "new_df['tags']=new_df['tags'].apply(stem)"
   ]
  },
  {
   "cell_type": "code",
   "execution_count": 216,
   "id": "0fa2de7c-0fa5-400d-aac9-2b0503371d8f",
   "metadata": {},
   "outputs": [
    {
     "name": "stderr",
     "output_type": "stream",
     "text": [
      "C:\\Users\\tvoma\\AppData\\Local\\Temp\\ipykernel_17856\\3612689905.py:1: SettingWithCopyWarning: \n",
      "A value is trying to be set on a copy of a slice from a DataFrame.\n",
      "Try using .loc[row_indexer,col_indexer] = value instead\n",
      "\n",
      "See the caveats in the documentation: https://pandas.pydata.org/pandas-docs/stable/user_guide/indexing.html#returning-a-view-versus-a-copy\n",
      "  new_df['tags']=new_df['tags'].apply(lambda x:x.lower())\n"
     ]
    }
   ],
   "source": [
    "new_df['tags']=new_df['tags'].apply(lambda x:x.lower()) "
   ]
  },
  {
   "cell_type": "code",
   "execution_count": 217,
   "id": "a1ffdbc9-e8cc-464a-8208-c467b46783f9",
   "metadata": {},
   "outputs": [
    {
     "data": {
      "text/plain": [
       "0        victu game laptop amd80990gam laptop amd ryzen...\n",
       "1        laptop 15 12th gen3699015 12th gen i31215u 156...\n",
       "2        refurbish lenovo thinkpad 7th17899lenovo think...\n",
       "3        aspir lite 12th gen42990lit 12th gen intel cor...\n",
       "4        15 laptop intel core43490laptop intel core i51...\n",
       "                               ...                        \n",
       "12061    blue star convert 543990annual power usag 7709...\n",
       "12062    panason convert 7in1 with33490annu power usag ...\n",
       "12063    blue star convert 535789annual power usag 1002...\n",
       "12064    candi 2023 model 1531999annual power usag 9252...\n",
       "12065    marq by flipkart 202426499annual power usag 10...\n",
       "Name: tags, Length: 12066, dtype: object"
      ]
     },
     "execution_count": 217,
     "metadata": {},
     "output_type": "execute_result"
    }
   ],
   "source": [
    "new_df['tags']"
   ]
  },
  {
   "cell_type": "code",
   "execution_count": 218,
   "id": "c0292975-46f8-4da6-bd1e-4900fe24237a",
   "metadata": {},
   "outputs": [],
   "source": [
    "from sklearn.feature_extraction.text import CountVectorizer\n",
    "cv = CountVectorizer(max_features=5000,stop_words='english')"
   ]
  },
  {
   "cell_type": "code",
   "execution_count": 219,
   "id": "b7c9f8c0-67f2-4523-96aa-b798a110bb08",
   "metadata": {},
   "outputs": [],
   "source": [
    "vectors = cv.fit_transform(new_df['tags']).toarray()"
   ]
  },
  {
   "cell_type": "code",
   "execution_count": 220,
   "id": "859ba940-2ef6-4e82-9a83-c3939b229d8f",
   "metadata": {},
   "outputs": [
    {
     "data": {
      "text/plain": [
       "array([[0, 0, 0, ..., 0, 0, 0],\n",
       "       [0, 0, 0, ..., 0, 0, 0],\n",
       "       [0, 0, 0, ..., 0, 0, 0],\n",
       "       ...,\n",
       "       [0, 0, 0, ..., 0, 0, 0],\n",
       "       [0, 0, 0, ..., 0, 0, 0],\n",
       "       [0, 0, 0, ..., 0, 0, 0]], dtype=int64)"
      ]
     },
     "execution_count": 220,
     "metadata": {},
     "output_type": "execute_result"
    }
   ],
   "source": [
    "vectors"
   ]
  },
  {
   "cell_type": "code",
   "execution_count": 221,
   "id": "2f9a02b8-98f9-48d5-953d-35047b8065d7",
   "metadata": {},
   "outputs": [
    {
     "data": {
      "text/plain": [
       "array(['01', '06', '0623999annual', ..., 'zone', 'zones164tv',\n",
       "       'zoneshisensetv'], dtype=object)"
      ]
     },
     "execution_count": 221,
     "metadata": {},
     "output_type": "execute_result"
    }
   ],
   "source": [
    "cv.get_feature_names_out()"
   ]
  },
  {
   "cell_type": "code",
   "execution_count": 222,
   "id": "4e04f8d3-f307-48bc-9655-52190121ce57",
   "metadata": {},
   "outputs": [],
   "source": [
    "from sklearn.metrics.pairwise import cosine_similarity"
   ]
  },
  {
   "cell_type": "code",
   "execution_count": 223,
   "id": "fd2e36e0-32a8-4e06-9cad-f849b86927a1",
   "metadata": {},
   "outputs": [
    {
     "data": {
      "text/plain": [
       "(12066, 12066)"
      ]
     },
     "execution_count": 223,
     "metadata": {},
     "output_type": "execute_result"
    }
   ],
   "source": [
    "cosine_similarity(vectors).shape"
   ]
  },
  {
   "cell_type": "code",
   "execution_count": 224,
   "id": "9d9dc383-429b-4089-8982-c95938829a23",
   "metadata": {},
   "outputs": [],
   "source": [
    "similarity = cosine_similarity(vectors)"
   ]
  },
  {
   "cell_type": "code",
   "execution_count": 225,
   "id": "1563e8ee-136e-4f9a-8091-dffabd67a3a4",
   "metadata": {},
   "outputs": [
    {
     "data": {
      "text/plain": [
       "array([0.        , 0.        , 0.11826248, ..., 0.        , 0.        ,\n",
       "       0.        ])"
      ]
     },
     "execution_count": 225,
     "metadata": {},
     "output_type": "execute_result"
    }
   ],
   "source": [
    "similarity[449]"
   ]
  },
  {
   "cell_type": "code",
   "execution_count": 226,
   "id": "4acf0544-a671-40f3-b932-a2b1636a4ffd",
   "metadata": {},
   "outputs": [],
   "source": [
    "# def recommend(title):\n",
    "#     product_index = new_df[new_df['title']==title].index[0]\n",
    "#     distances = similarity[product_index]\n",
    "#     product_list = sorted(list(enumerate(distances)),reverse=True,key=lambda x:x[1])[1:90]\n",
    "\n",
    "#     for i in product_list:\n",
    "#         print(i[0],new_df.iloc[i[0]].title,combined_df.iloc[i[0]].price,combined_df.iloc[i[0]].image,combined_df.iloc[i[0]].product_link,new_df.iloc[i[0]].brand,new_df.iloc[i[0]].platform)\n",
    "        \n",
    "# # def recommend(title):\n",
    "# #     product_index = new_df[new_df['title'] == title].index[0]\n",
    "# #     distances = similarity[product_index]\n",
    "# #     product_list = sorted(list(enumerate(distances)), reverse=True, key=lambda x: x[1])[1:90]\n",
    "    \n",
    "# #     for i in product_list:\n",
    "# #         if i[1] < 1:  # Change the threshold as needed\n",
    "# #             if(new_df.iloc[i[0]].image != image && new_df.iloc[i[0]].price\n",
    "# #             print(i[0], new_df.iloc[i[0]].title, combined_df.iloc[i[0]].price,\n",
    "# #                   combined_df.iloc[i[0]].image, combined_df.iloc[i[0]].product_link,\n",
    "# #                   new_df.iloc[i[0]].brand, new_df.iloc[i[0]].platform)\n",
    "\n",
    "def recommend(title, top_n=20):\n",
    "    product_index = new_df[new_df['title'] == title].index[0]\n",
    "    distances = similarity[product_index]\n",
    "    product_list = sorted(list(enumerate(distances)), reverse=True, key=lambda x: x[1])[1:90]\n",
    "\n",
    "    unique_products = set()\n",
    "    count = 0\n",
    "\n",
    "    for i in product_list:\n",
    "        if count >= top_n:\n",
    "            break\n",
    "\n",
    "        product_details = combined_df.iloc[i[0]].description\n",
    "\n",
    "        # Check if the product details are not already in the set\n",
    "        if product_details not in unique_products:\n",
    "            product_details = combined_df.iloc[i[0]].description\n",
    "            # Add the product details to the set to ensure uniqueness\n",
    "            unique_products.add(product_details)\n",
    "            count += 1\n",
    "            return i[0],new_df.iloc[i[0]].title,combined_df.iloc[i[0]].price,combined_df.iloc[i[0]].image,combined_df.iloc[i[0]].product_link,new_df.iloc[i[0]].brand,new_df.iloc[i[0]].platform\n",
    "\n",
    "\n"
   ]
  },
  {
   "cell_type": "code",
   "execution_count": 227,
   "id": "541bb460-7bf1-4b84-bb79-216bb3a065d9",
   "metadata": {},
   "outputs": [
    {
     "name": "stdout",
     "output_type": "stream",
     "text": [
      "448 Apple iPhone 13 128GB 52,999 https://m.media-amazon.com/images/I/61VuVU94RnL._AC_UY218_.jpg /sspa/click?ie=UTF8&spc=MToyODU5MDU5OTQyODgwMDE5OjE3MDU3ODA2NTE6c3BfYXRmX25leHQ6MjAwNzk2ODI4NTExMDM6OjA6Og&url=%2FApple-iPhone-13-128GB-Midnight%2Fdp%2FB09G9HD6PD%2Fref%3Dsr_1_17_sspa%3Fcrid%3D2W72KX37PBXF%26dib%3DeyJ2IjoiMSJ9.BqD4OsZCE9HzEELOnBoRAa0SvEg2FB9NmoIIfdjNaeOAWxzmV6FnbRxGgaxcznwJCYp6XX7fk_xYweVLVc0NOpBEDJtFQzhoszBMT4k8mMtyHwPhcchAlkVzh3V00q4dcBE5S2rnxN1bhUavYtunh9VtQoP1ufSXPCBKpB6SorRKy5LvJcvVLL9RCgQyT-MvLlv2eOz1YLXe3b-GuHwJJub507onA9UxT6RIAzbZxOk.i6QWfrV5tlfCWZszUh6GdA-U2kna5Qs6Vww5lIaDndA%26dib_tag%3Dse%26keywords%3Dphones%26qid%3D1705780651%26sprefix%3D%252Caps%252C311%26sr%3D8-17-spons%26sp_csd%3Dd2lkZ2V0TmFtZT1zcF9hdGZfbmV4dA%26psc%3D1 Apple Amazon\n",
      "602 Apple iPhone 13 128GB 52,999 https://m.media-amazon.com/images/I/71GLMJ7TQiL._AC_UY218_.jpg /sspa/click?ie=UTF8&spc=MTo3NDcwNzE4MDEzNTc4MDE5OjE3MDU3ODA2NTk6c3BfYXRmX25leHQ6MjAwNzk2ODI4NTEzMDM6OjA6Og&url=%2FApple-iPhone-13-128GB-Starlight%2Fdp%2FB09G9D8KRQ%2Fref%3Dsr_1_129_sspa%3Fcrid%3D2W72KX37PBXF%26dib%3DeyJ2IjoiMSJ9.q2cQVX7s1bwG9lxJ9eha3j8iCM-5anOiCgLnJwubZNo5uX1wJdFlvyit4AyLbOf-5KhsCDMZnCWfLApSeMA54yrWWi1EZLzRjt0VnUluh6w-g1HxhZRiyDCzOiEeqjDJLLfOUKt1T7FyqlwyOxP9J8PVjWWsxBQRiEm8q_HNr6AKSVk35Q-WhTTJNNaWUIrFHTEXo9-81a_hcnkyfSFIzcO9t9UOgU1aRTzXst7xUXE.W9DfACP7Kckq-LUdVFif1V-oJIquMqr9rPzWdlgt4ug%26dib_tag%3Dse%26keywords%3Dphones%26qid%3D1705780659%26sprefix%3D%252Caps%252C311%26sr%3D8-129-spons%26sp_csd%3Dd2lkZ2V0TmFtZT1zcF9hdGZfbmV4dA%26psc%3D1 Apple Amazon\n",
      "621 Apple iPhone 13 128GB 52,999 https://m.media-amazon.com/images/I/71gm8v4uPBL._AC_UY218_.jpg /Apple-iPhone-13-128GB-Product/dp/B09G99CW2N/ref=sr_1_148?crid=2W72KX37PBXF&dib=eyJ2IjoiMSJ9.q2cQVX7s1bwG9lxJ9eha3j8iCM-5anOiCgLnJwubZNo5uX1wJdFlvyit4AyLbOf-5KhsCDMZnCWfLApSeMA54yrWWi1EZLzRjt0VnUluh6w-g1HxhZRiyDCzOiEeqjDJLLfOUKt1T7FyqlwyOxP9J8PVjWWsxBQRiEm8q_HNr6AKSVk35Q-WhTTJNNaWUIrFHTEXo9-81a_hcnkyfSFIzcO9t9UOgU1aRTzXst7xUXE.W9DfACP7Kckq-LUdVFif1V-oJIquMqr9rPzWdlgt4ug&dib_tag=se&keywords=phones&qid=1705780659&sprefix=%2Caps%2C311&sr=8-148 Apple Amazon\n",
      "660 iPhone 13 128GB  52,999 https://m.media-amazon.com/images/I/61l9ppRIiqL._AC_UY218_.jpg /Apple-iPhone-13-128GB-Pink/dp/B09G9FPGTN/ref=sr_1_175?crid=2W72KX37PBXF&dib=eyJ2IjoiMSJ9.DZYOvpMOe--uw_1ajJLth09mZXT5B8QDSFznYIhLrp5NW06a1Xi0eHqPmemKKnWce5trQPzQOwKfvvb9P25PR_JSCP3rDXitEbTYSWQxDjKgKHLQ-lXemETQd261Hn8ZSbmgcAD_0zG-hf53JFGynJSjPD_iMkT2xpgeuQDZp10vtESW1U4MNV-AWRQm6joQjvbidDCxFePYrgCbgtlhiqPjm6ZAFp_Weaa2GGIytaY._dXzJqRhlICfPXhJGK2sRLqtKQmM9Ur9rrpLrmCAY5Q&dib_tag=se&keywords=phones&qid=1705780661&sprefix=%2Caps%2C311&sr=8-175 iPhone Amazon\n",
      "470 iPhone 13 128GB  52,999 https://m.media-amazon.com/images/I/61VuVU94RnL._AC_UY218_.jpg /sspa/click?ie=UTF8&spc=MTozMTM1NzE0MTUwNzc2MDE5OjE3MDU3ODA2NTI6c3BfYXRmX25leHQ6MjAwNzk2ODI4NTExMDM6OjA6Og&url=%2FApple-iPhone-13-128GB-Midnight%2Fdp%2FB09G9HD6PD%2Fref%3Dsr_1_33_sspa%3Fcrid%3D2W72KX37PBXF%26dib%3DeyJ2IjoiMSJ9.a1Ayc_2iojb4Vu42HHvHtyERqQB8OrldzGIdW4EcbypMNdeFbcyw5i5g4Ag0wKfpH0i8YsA9h4LUIWA_h9deDE73GVPDtk0fJM_NGDxjun5vH2sueesl4MEGjMDfcodL_HHDGaiA2Gx0Vfj3mKdePTNxX5FxMQZPkQcc8sBUf4ki5gvOqrn-JedXCnuOg1OjAHPShkd_R7yGGdZWEonoEmTeLw45gqpIYYlnnozNeTc.h_-L8hibA4918S5M6Fw-FnBMJrepOlGINP7u0FfufuQ%26dib_tag%3Dse%26keywords%3Dphones%26qid%3D1705780652%26sprefix%3D%252Caps%252C311%26sr%3D8-33-spons%26sp_csd%3Dd2lkZ2V0TmFtZT1zcF9hdGZfbmV4dA%26psc%3D1 iPhone Amazon\n",
      "624 iPhone 13 128GB  52,999 https://m.media-amazon.com/images/I/71GLMJ7TQiL._AC_UY218_.jpg /sspa/click?ie=UTF8&spc=MToyOTY2ODA3MTYyMDEwMTk6MTcwNTc4MDY2MDpzcF9hdGZfbmV4dDoyMDA3OTY4Mjg1MTMwMzo6MDo6&url=%2FApple-iPhone-13-128GB-Starlight%2Fdp%2FB09G9D8KRQ%2Fref%3Dsr_1_145_sspa%3Fcrid%3D2W72KX37PBXF%26dib%3DeyJ2IjoiMSJ9.eh1lwZTwbcQ4eE0w-wFClzDxEqeL0BtVd7tskRqvcOax5_hO1sumnE7ZFfqHrvpZ1HNgp7i-CgmkGyJx3hs-4EoNHj4-Y3xmia27l6ILD6K6FOjBly4mgA7rLlKvIH8mqJ8fm1Na8RjwOWRYXFHaXQPGd80ditYUPczVEDwGEL7ZI6McN_zYAIl6fkwSTcRj2jHiafzx7Lq3LSWH6UagieVJPMEsv5D8-i3ZetUI7yE.HamSZ8i9PbNGSgCtMtZ90uXeHvOUcSIGbQIBVdzzE8E%26dib_tag%3Dse%26keywords%3Dphones%26qid%3D1705780660%26sprefix%3D%252Caps%252C311%26sr%3D8-145-spons%26sp_csd%3Dd2lkZ2V0TmFtZT1zcF9hdGZfbmV4dA%26psc%3D1 iPhone Amazon\n",
      "538 iPhone 13 128GB  52,999 https://m.media-amazon.com/images/I/71gm8v4uPBL._AC_UY218_.jpg /Apple-iPhone-13-128GB-Product/dp/B09G99CW2N/ref=sr_1_83?crid=2W72KX37PBXF&dib=eyJ2IjoiMSJ9.nzkdiyrHqKDMR6tjtn-Mggkn2ZJ-LvleEuH-MC6hAEL2PdUIlMihyL7iAClSmEuIl-Z4aQVoYs3aQnZSatYCZUb7DAnBkcymx124laB7ohiceTLIX4HPiqsPUQX58UvpqU8afGmiys4h2NxC2Zp0e-gLB976qFToLFCe5C37RbUvKuN6jVQ4xvMXDevIoZTzzM1vv7MhQhsHdMgflQSFR6Ebm8WFRaXt7L0MY9-gi9Y.ytMHajz9OZNoOtslciHVsvp1OScD3VJid2fqLuDoK84&dib_tag=se&keywords=phones&qid=1705780655&sprefix=%2Caps%2C311&sr=8-83 iPhone Amazon\n",
      "608 Redmi Note 13 5G 17,999 https://m.media-amazon.com/images/I/71NnrsYP63L._AC_UY218_.jpg /Redmi-Stealth-Storage-Dimensity-Slimmest/dp/B0CQPHMWR3/ref=sr_1_135?crid=2W72KX37PBXF&dib=eyJ2IjoiMSJ9.q2cQVX7s1bwG9lxJ9eha3j8iCM-5anOiCgLnJwubZNo5uX1wJdFlvyit4AyLbOf-5KhsCDMZnCWfLApSeMA54yrWWi1EZLzRjt0VnUluh6w-g1HxhZRiyDCzOiEeqjDJLLfOUKt1T7FyqlwyOxP9J8PVjWWsxBQRiEm8q_HNr6AKSVk35Q-WhTTJNNaWUIrFHTEXo9-81a_hcnkyfSFIzcO9t9UOgU1aRTzXst7xUXE.W9DfACP7Kckq-LUdVFif1V-oJIquMqr9rPzWdlgt4ug&dib_tag=se&keywords=phones&qid=1705780659&sprefix=%2Caps%2C311&sr=8-135 Redmi Amazon\n",
      "612 Apple iPhone 14 128 58,999 https://m.media-amazon.com/images/I/61cwywLZR-L._AC_UY218_.jpg /sspa/click?ie=UTF8&spc=MTo3NDcwNzE4MDEzNTc4MDE5OjE3MDU3ODA2NTk6c3BfbXRmOjIwMTExMjExMjQ3OTk4OjowOjo&url=%2FApple-iPhone-14-128GB-Midnight%2Fdp%2FB0BDHX8Z63%2Fref%3Dsr_1_139_sspa%3Fcrid%3D2W72KX37PBXF%26dib%3DeyJ2IjoiMSJ9.q2cQVX7s1bwG9lxJ9eha3j8iCM-5anOiCgLnJwubZNo5uX1wJdFlvyit4AyLbOf-5KhsCDMZnCWfLApSeMA54yrWWi1EZLzRjt0VnUluh6w-g1HxhZRiyDCzOiEeqjDJLLfOUKt1T7FyqlwyOxP9J8PVjWWsxBQRiEm8q_HNr6AKSVk35Q-WhTTJNNaWUIrFHTEXo9-81a_hcnkyfSFIzcO9t9UOgU1aRTzXst7xUXE.W9DfACP7Kckq-LUdVFif1V-oJIquMqr9rPzWdlgt4ug%26dib_tag%3Dse%26keywords%3Dphones%26qid%3D1705780659%26sprefix%3D%252Caps%252C311%26sr%3D8-139-spons%26sp_csd%3Dd2lkZ2V0TmFtZT1zcF9tdGY%26psc%3D1 Apple Amazon\n",
      "429 Redmi Note 13 5G 19,999 https://m.media-amazon.com/images/I/71VW8LmqqPL._AC_UY218_.jpg /Redmi-Arctic-Storage-Dimensity-Slimmest/dp/B0CQPDGYLD/ref=sr_1_4?crid=2W72KX37PBXF&dib=eyJ2IjoiMSJ9.kZCNl65ruj0FsK19NAeVFKJfl7xBEh4C8y4L5b1v62pcRj_FrO8SftDwPyZ2lQFpw9eXazzTDz6mW5TIY_rLe1VuFyepUQMcl4T8GEAFr0UUUMxGSK_0RngyyXDcZ3xvEoHFgJnEEoQlZHMUvhNLx2XY1EnPpfu2CBEISWK2XyiF4JH4keqJX4CPPyDF4X7nAD9FRK4R6EAP7VVVCeQPWlsuXaPK1e99q8rQIVJ4F0Q.R1hEPYWY6xCTJyn2a0DZhjanY5yUZJq0CDGjG1KjH3c&dib_tag=se&keywords=phones&qid=1705780650&sprefix=%2Caps%2C311&sr=8-4 Redmi Amazon\n",
      "815 Redmi Note 13 5G 19,999 https://m.media-amazon.com/images/I/71NnrsYP63L._AC_UY218_.jpg /Redmi-Stealth-Storage-Dimensity-Slimmest/dp/B0CQPGF6SY/ref=sr_1_288?crid=2W72KX37PBXF&dib=eyJ2IjoiMSJ9.Dqeoaqbaas6U7vWz9pbWRhzng36EUd36uAsVc6yzD2bSq1axSoqzIN9Ec9Foi6XzWiN_ERv0AIePf9NWd30P6RspNtAiuwYQZfzCSvF1kgFKTobnNc68MlcV4-h03cuHV720lyrKBGOpe38fC4dN9TnU-OyPTtpfl-rhHRVWpTIE3y98MAQ80Tnp_PbSjRVJQCU31FUAbeBE3ALs4QsNztWzopbyWn92-Wi02igNfw4.0e7dotlKE6S9V9150gEjCxIBOtBk8MxgHVcGyc4vcpg&dib_tag=se&keywords=phones&qid=1705780669&sprefix=%2Caps%2C311&sr=8-288 Redmi Amazon\n",
      "427 Apple iPhone 14 128 69,900 https://m.media-amazon.com/images/I/619f09kK7tL._AC_UY218_.jpg /sspa/click?ie=UTF8&spc=MTo0ODY0ODk1NjE2MDQ5MDE5OjE3MDU3ODA2NTA6c3BfYXRmOjIwMTExMjExMjQ4Mjk4OjowOjo&url=%2FApple-iPhone-14-128GB-Purple%2Fdp%2FB0BDJ213TX%2Fref%3Dsr_1_2_sspa%3Fcrid%3D2W72KX37PBXF%26dib%3DeyJ2IjoiMSJ9.kZCNl65ruj0FsK19NAeVFKJfl7xBEh4C8y4L5b1v62pcRj_FrO8SftDwPyZ2lQFpw9eXazzTDz6mW5TIY_rLe1VuFyepUQMcl4T8GEAFr0UUUMxGSK_0RngyyXDcZ3xvEoHFgJnEEoQlZHMUvhNLx2XY1EnPpfu2CBEISWK2XyiF4JH4keqJX4CPPyDF4X7nAD9FRK4R6EAP7VVVCeQPWlsuXaPK1e99q8rQIVJ4F0Q.R1hEPYWY6xCTJyn2a0DZhjanY5yUZJq0CDGjG1KjH3c%26dib_tag%3Dse%26keywords%3Dphones%26qid%3D1705780650%26sprefix%3D%252Caps%252C311%26sr%3D8-2-spons%26sp_csd%3Dd2lkZ2V0TmFtZT1zcF9hdGY%26psc%3D1 Apple Amazon\n",
      "613 Apple iPhone 15 512 1,02,999 https://m.media-amazon.com/images/I/71657TiFeHL._AC_UY218_.jpg /sspa/click?ie=UTF8&spc=MTo3NDcwNzE4MDEzNTc4MDE5OjE3MDU3ODA2NTk6c3BfbXRmOjMwMDA1NzU5NDUzODYzMjo6MDo6&url=%2FApple-iPhone-15-512-GB%2Fdp%2FB0CHX9MF1L%2Fref%3Dsr_1_140_sspa%3Fcrid%3D2W72KX37PBXF%26dib%3DeyJ2IjoiMSJ9.q2cQVX7s1bwG9lxJ9eha3j8iCM-5anOiCgLnJwubZNo5uX1wJdFlvyit4AyLbOf-5KhsCDMZnCWfLApSeMA54yrWWi1EZLzRjt0VnUluh6w-g1HxhZRiyDCzOiEeqjDJLLfOUKt1T7FyqlwyOxP9J8PVjWWsxBQRiEm8q_HNr6AKSVk35Q-WhTTJNNaWUIrFHTEXo9-81a_hcnkyfSFIzcO9t9UOgU1aRTzXst7xUXE.W9DfACP7Kckq-LUdVFif1V-oJIquMqr9rPzWdlgt4ug%26dib_tag%3Dse%26keywords%3Dphones%26qid%3D1705780659%26sprefix%3D%252Caps%252C311%26sr%3D8-140-spons%26sp_csd%3Dd2lkZ2V0TmFtZT1zcF9tdGY%26psc%3D1 Apple Amazon\n",
      "437 Apple iPhone 14 Plus 66,999 https://m.media-amazon.com/images/I/61b7Ew7kjYL._AC_UY218_.jpg /sspa/click?ie=UTF8&spc=MTo0ODY0ODk1NjE2MDQ5MDE5OjE3MDU3ODA2NTA6c3BfbXRmOjIwMTExMjExMjQ0Mzk4OjowOjo&url=%2FApple-iPhone-Plus-128GB-Starlight%2Fdp%2FB0BDJFTGK6%2Fref%3Dsr_1_12_sspa%3Fcrid%3D2W72KX37PBXF%26dib%3DeyJ2IjoiMSJ9.kZCNl65ruj0FsK19NAeVFKJfl7xBEh4C8y4L5b1v62pcRj_FrO8SftDwPyZ2lQFpw9eXazzTDz6mW5TIY_rLe1VuFyepUQMcl4T8GEAFr0UUUMxGSK_0RngyyXDcZ3xvEoHFgJnEEoQlZHMUvhNLx2XY1EnPpfu2CBEISWK2XyiF4JH4keqJX4CPPyDF4X7nAD9FRK4R6EAP7VVVCeQPWlsuXaPK1e99q8rQIVJ4F0Q.R1hEPYWY6xCTJyn2a0DZhjanY5yUZJq0CDGjG1KjH3c%26dib_tag%3Dse%26keywords%3Dphones%26qid%3D1705780650%26sprefix%3D%252Caps%252C311%26sr%3D8-12-spons%26sp_csd%3Dd2lkZ2V0TmFtZT1zcF9tdGY%26psc%3D1 Apple Amazon\n",
      "447 Apple iPhone 15 Plus 99,900 https://m.media-amazon.com/images/I/71zFRCcMS2L._AC_UY218_.jpg /sspa/click?ie=UTF8&spc=MTo0ODY0ODk1NjE2MDQ5MDE5OjE3MDU3ODA2NTA6c3BfYnRmOjMwMDA1NzU5NDU0MDYzMjo6MDo6&url=%2FApple-iPhone-15-Plus-256%2Fdp%2FB0CHX488V6%2Fref%3Dsr_1_22_sspa%3Fcrid%3D2W72KX37PBXF%26dib%3DeyJ2IjoiMSJ9.kZCNl65ruj0FsK19NAeVFKJfl7xBEh4C8y4L5b1v62pcRj_FrO8SftDwPyZ2lQFpw9eXazzTDz6mW5TIY_rLe1VuFyepUQMcl4T8GEAFr0UUUMxGSK_0RngyyXDcZ3xvEoHFgJnEEoQlZHMUvhNLx2XY1EnPpfu2CBEISWK2XyiF4JH4keqJX4CPPyDF4X7nAD9FRK4R6EAP7VVVCeQPWlsuXaPK1e99q8rQIVJ4F0Q.R1hEPYWY6xCTJyn2a0DZhjanY5yUZJq0CDGjG1KjH3c%26dib_tag%3Dse%26keywords%3Dphones%26qid%3D1705780650%26sprefix%3D%252Caps%252C311%26sr%3D8-22-spons%26sp_csd%3Dd2lkZ2V0TmFtZT1zcF9idGY%26psc%3D1 Apple Amazon\n",
      "801 Apple iPhone 14 Plus 1,02,900 https://m.media-amazon.com/images/I/61BGE6iu4AL._AC_UY218_.jpg /sspa/click?ie=UTF8&spc=MTo4NzYyNjY1ODM5NzcyMDE5OjE3MDU3ODA2NzA6c3BfYXRmX25leHQ6MjAxMTEyMTEyNDM2OTg6OjA6Og&url=%2FApple-iPhone-Plus-512GB-Blue%2Fdp%2FB0BDJ55SNV%2Fref%3Dsr_1_274_sspa%3Fcrid%3D2W72KX37PBXF%26dib%3DeyJ2IjoiMSJ9.Dqeoaqbaas6U7vWz9pbWRhzng36EUd36uAsVc6yzD2bSq1axSoqzIN9Ec9Foi6XzWiN_ERv0AIePf9NWd30P6RspNtAiuwYQZfzCSvF1kgFKTobnNc68MlcV4-h03cuHV720lyrKBGOpe38fC4dN9TnU-OyPTtpfl-rhHRVWpTIE3y98MAQ80Tnp_PbSjRVJQCU31FUAbeBE3ALs4QsNztWzopbyWn92-Wi02igNfw4.0e7dotlKE6S9V9150gEjCxIBOtBk8MxgHVcGyc4vcpg%26dib_tag%3Dse%26keywords%3Dphones%26qid%3D1705780669%26sprefix%3D%252Caps%252C311%26sr%3D8-274-spons%26sp_csd%3Dd2lkZ2V0TmFtZT1zcF9hdGZfbmV4dA%26psc%3D1 Apple Amazon\n",
      "824 Apple iPhone 14 Plus 70,990 https://m.media-amazon.com/images/I/716fAVud8PL._AC_UY218_.jpg /Apple-iPhone-Plus-128GB-Product/dp/B0BDK2FSZ5/ref=sr_1_291?crid=2W72KX37PBXF&dib=eyJ2IjoiMSJ9.mEptoDOZXGwdqO7s2W1_36wis_kL0CaH9hI0A8WUASO_Wq91xkxP8Zs5H9Zm3n-HF9ZWYcsoZyT_lJEz-T1dC0mJ8RLlaA0JTiSSfqhVTwsqKd2bc73M0EJglWMOqFjTmlaz-_VA430qTQpXGANJ9ggJI6buyYm-hDd6K4z6IbEJDa44Css3U-lr7MkX8U4Zc4o007SF8BiE4tvEk9pbhD2_Os6zQtutNsgsaskdrmU.TSkRTlCt8IbOORjPbqIHdH-CpzD0vHG76QY6M6CysvQ&dib_tag=se&keywords=phones&qid=1705780671&sprefix=%2Caps%2C311&sr=8-291 Apple Amazon\n",
      "513 Apple iPhone 15 Pro 1,30,990 https://m.media-amazon.com/images/I/81SigpJN1KL._AC_UY218_.jpg /sspa/click?ie=UTF8&spc=MTozODk1MDM1NDkyOTY2MDE5OjE3MDU3ODA2NTM6c3BfYnRmOjMwMDA1NzU5NDUzODMzMjo6MDo6&url=%2FApple-iPhone-15-Pro-128%2Fdp%2FB0CHX2DRGV%2Fref%3Dsr_1_70_sspa%3Fcrid%3D2W72KX37PBXF%26dib%3DeyJ2IjoiMSJ9.wjjiMfsB4GL7DouCrBCS1znP3BeBaImYrwY5CxFsIDkmGSnzffv1DgiJvlO39uaQOuHYeYvnFZQGgZ6Uu80RGaCOGDpq-kVqtyM11Oku1KCB2kuSmaPBU_f6nvMx2f1GgO5f9tlzj8ZlMOvE3uJAOWMdSEL1Qwz17NdPLA2qcVC1c0WkIijddfoLYawdM0WBykDwp3y_q9v4s008uzld-7ozAO3BhPiHsfL4dANEJ3c.636qN7R81r4TFQtllInucSTvkk6jyonZcVbRlz7S1gU%26dib_tag%3Dse%26keywords%3Dphones%26qid%3D1705780653%26sprefix%3D%252Caps%252C311%26sr%3D8-70-spons%26sp_csd%3Dd2lkZ2V0TmFtZT1zcF9idGY%26psc%3D1 Apple Amazon\n",
      "821 Apple iPhone 15 Pro 1,30,990 https://m.media-amazon.com/images/I/81qlME2wWmL._AC_UY218_.jpg /sspa/click?ie=UTF8&spc=MTo4NzYyNjY1ODM5NzcyMDE5OjE3MDU3ODA2NzA6c3BfYnRmOjMwMDA1NzU5NDUzODQzMjo6MDo6&url=%2FApple-iPhone-15-Pro-128%2Fdp%2FB0CHX9N436%2Fref%3Dsr_1_294_sspa%3Fcrid%3D2W72KX37PBXF%26dib%3DeyJ2IjoiMSJ9.Dqeoaqbaas6U7vWz9pbWRhzng36EUd36uAsVc6yzD2bSq1axSoqzIN9Ec9Foi6XzWiN_ERv0AIePf9NWd30P6RspNtAiuwYQZfzCSvF1kgFKTobnNc68MlcV4-h03cuHV720lyrKBGOpe38fC4dN9TnU-OyPTtpfl-rhHRVWpTIE3y98MAQ80Tnp_PbSjRVJQCU31FUAbeBE3ALs4QsNztWzopbyWn92-Wi02igNfw4.0e7dotlKE6S9V9150gEjCxIBOtBk8MxgHVcGyc4vcpg%26dib_tag%3Dse%26keywords%3Dphones%26qid%3D1705780669%26sprefix%3D%252Caps%252C311%26sr%3D8-294-spons%26sp_csd%3Dd2lkZ2V0TmFtZT1zcF9idGY%26psc%3D1 Apple Amazon\n",
      "2306 Infinix ZEROBOOK 13 Intel ₹59,990 https://rukminim2.flixcart.com/image/312/312/xif0q/computer/7/d/i/zl12-business-laptop-infinix-original-imagm83gc6xr8sau.jpeg?q=70 /infinix-zerobook-13-intel-core-i9-13th-gen-13900h-32-gb-1-tb-ssd-windows-11-home-zl513-thin-light-laptop/p/itm53866eeb21b65?pid=COMGRFPGYCKFSGZG&lid=LSTCOMGRFPGYCKFSGZGMBU4DX&marketplace=FLIPKART&q=laptops&store=6bo%2Fb5g&srno=s_2_33&otracker=search&otracker1=search&fm=organic&iid=f0caca77-a6a8-4e88-abb5-209c4494659d.COMGRFPGYCKFSGZG.SEARCH&ppt=None&ppn=None&ssid=l6sl7tzk8w0000001705833803713&qH=c06ea84a1e3dc3c6 Infinix Flipkart\n"
     ]
    }
   ],
   "source": [
    "recommend('Apple iPhone 13 128GB')"
   ]
  },
  {
   "cell_type": "code",
   "execution_count": null,
   "id": "44bf93a0-094e-4f9d-8e15-5b68173f09c5",
   "metadata": {},
   "outputs": [],
   "source": [
    "# def recommend(title):\n",
    "#     if title not in new_df['title'].values:\n",
    "#         print(f\"Title '{title}' not found in the DataFrame.\")\n",
    "#         return\n",
    "#     product_index = new_df[new_df['title'] == title].index[0]\n",
    "#     print(product_index)\n",
    "#     # rest of your code\n",
    "# recommend('ASUS ROG Strix G15')"
   ]
  },
  {
   "cell_type": "code",
   "execution_count": null,
   "id": "b9420a74-436b-4a7f-a76a-76607c1eaebd",
   "metadata": {},
   "outputs": [],
   "source": [
    "print(new_df.iloc[99])"
   ]
  },
  {
   "cell_type": "code",
   "execution_count": null,
   "id": "89fa5864-fd0c-4443-8d62-ef5b3502289f",
   "metadata": {},
   "outputs": [],
   "source": [
    "print(new_df.iloc[50])"
   ]
  },
  {
   "cell_type": "code",
   "execution_count": null,
   "id": "3f9b436d-0c7c-4f54-95d5-e6ad8a8e3237",
   "metadata": {},
   "outputs": [],
   "source": [
    "print(len(new_df))"
   ]
  },
  {
   "cell_type": "code",
   "execution_count": null,
   "id": "86b88704-8afb-4873-a069-0adc9f8e0a83",
   "metadata": {},
   "outputs": [],
   "source": [
    "# Remove duplicate rows and keep only the first occurrence\n",
    "df_2 = new_df.drop_duplicates(keep='first')\n",
    "\n",
    "# Display the DataFrame without duplicates\n",
    "print(df_2)\n",
    "print(len(df_2))"
   ]
  },
  {
   "cell_type": "code",
   "execution_count": null,
   "id": "c5842dd3-2ed9-47da-8772-9b2ccb7c153b",
   "metadata": {},
   "outputs": [],
   "source": [
    "# Assuming 'similarity' is your similarity matrix\n",
    "result = sorted(enumerate(similarity[0]), reverse=True, key=lambda x: x[1])\n",
    "\n",
    "# Filter out tuples with similarity score 1.0\n",
    "filtered_result = [(index, score) for index, score in result if score < 1.0]\n",
    "\n",
    "# Take the top 100 tuples\n",
    "top_100 = filtered_result[:100]\n",
    "\n",
    "# Print the top 100 tuples\n",
    "print(top_100)"
   ]
  },
  {
   "cell_type": "code",
   "execution_count": null,
   "id": "ea28c39b-7c81-407f-934e-2b45b8f8d87b",
   "metadata": {},
   "outputs": [],
   "source": [
    "# def recommend(product):\n",
    "#     product_index = new_df[new_df['product_name'] == product].index[0]\n",
    "#     distances = similarity[product_index]\n",
    "#     products_list = sorted(list(enumerate(distances)),reverse=True,key=lambda x:x[1])[1:10]\n",
    "#     for i in products_list:\n",
    "#         print(new_df.iloc[i[0]].product_name)"
   ]
  }
 ],
 "metadata": {
  "kernelspec": {
   "display_name": "Python 3 (ipykernel)",
   "language": "python",
   "name": "python3"
  },
  "language_info": {
   "codemirror_mode": {
    "name": "ipython",
    "version": 3
   },
   "file_extension": ".py",
   "mimetype": "text/x-python",
   "name": "python",
   "nbconvert_exporter": "python",
   "pygments_lexer": "ipython3",
   "version": "3.11.5"
  }
 },
 "nbformat": 4,
 "nbformat_minor": 5
}
