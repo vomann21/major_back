{
 "cells": [
  {
   "cell_type": "code",
   "execution_count": 1,
   "id": "648f9f63-7b7c-4370-bdec-e9601377c6d4",
   "metadata": {},
   "outputs": [],
   "source": [
    "import numpy as np\n",
    "import pandas as pd"
   ]
  },
  {
   "cell_type": "code",
   "execution_count": 2,
   "id": "2d068431-9860-4425-bc19-2e5d67fecda3",
   "metadata": {},
   "outputs": [],
   "source": [
    "laptop_df = pd.read_csv('amaz_laptops.csv')\n",
    "phone_df = pd.read_csv('amaz_phones.csv')\n",
    "fridge_df = pd.read_csv('amaz_fridges.csv')\n",
    "tv_df = pd.read_csv('amaz_tv.csv')\n",
    "ac_df = pd.read_csv('amaz_ac.csv')\n",
    "laptopf_df = pd.read_csv('flip_laptop.csv')\n",
    "phonef_df = pd.read_csv('flip_phones.csv')\n",
    "fridgef_df = pd.read_csv('flip_fridgess.csv')\n",
    "tvf_df = pd.read_csv('flip_tv.csv')\n",
    "acf_df = pd.read_csv('flip_ac.csv')\n",
    "combined_df = pd.concat([laptop_df,phone_df,fridge_df,tv_df,ac_df,laptopf_df,phonef_df,fridgef_df,tvf_df,acf_df], axis=0, ignore_index=True)\n",
    "combined_df.to_csv('combined_flipkart_products.csv', index=False)"
   ]
  },
  {
   "cell_type": "code",
   "execution_count": 3,
   "id": "c25deace-9c31-4934-b8d6-e696106ba370",
   "metadata": {},
   "outputs": [
    {
     "name": "stdout",
     "output_type": "stream",
     "text": [
      "[49]\n"
     ]
    }
   ],
   "source": [
    "desired_title = 'Redmi 10 Power (Power'\n",
    "index_values = phone_df[phone_df['title'] == desired_title].index.tolist()\n",
    "print(index_values)"
   ]
  },
  {
   "cell_type": "code",
   "execution_count": 4,
   "id": "1d000013-cc17-4174-8da1-3400794de4bc",
   "metadata": {},
   "outputs": [
    {
     "name": "stdout",
     "output_type": "stream",
     "text": [
      "[475]\n"
     ]
    }
   ],
   "source": [
    "desired_title = 'Redmi 10 Power (Power'\n",
    "index_values = combined_df[combined_df['title'] == desired_title].index.tolist()\n",
    "print(index_values)"
   ]
  },
  {
   "cell_type": "code",
   "execution_count": 5,
   "id": "0dd21804-fe12-4373-8f08-00ebcac1f457",
   "metadata": {},
   "outputs": [
    {
     "name": "stdout",
     "output_type": "stream",
     "text": [
      "12066\n"
     ]
    }
   ],
   "source": [
    "\n",
    "num_rows_unique = combined_df.shape[0]\n",
    "print(num_rows_unique)"
   ]
  },
  {
   "cell_type": "code",
   "execution_count": 6,
   "id": "35502862-1ad2-42e3-913b-2db67659da2e",
   "metadata": {
    "scrolled": true
   },
   "outputs": [
    {
     "data": {
      "text/html": [
       "<div>\n",
       "<style scoped>\n",
       "    .dataframe tbody tr th:only-of-type {\n",
       "        vertical-align: middle;\n",
       "    }\n",
       "\n",
       "    .dataframe tbody tr th {\n",
       "        vertical-align: top;\n",
       "    }\n",
       "\n",
       "    .dataframe thead th {\n",
       "        text-align: right;\n",
       "    }\n",
       "</style>\n",
       "<table border=\"1\" class=\"dataframe\">\n",
       "  <thead>\n",
       "    <tr style=\"text-align: right;\">\n",
       "      <th></th>\n",
       "      <th>title</th>\n",
       "      <th>image</th>\n",
       "      <th>price</th>\n",
       "      <th>description</th>\n",
       "      <th>brand</th>\n",
       "      <th>platform</th>\n",
       "      <th>type</th>\n",
       "      <th>product_link</th>\n",
       "    </tr>\n",
       "  </thead>\n",
       "  <tbody>\n",
       "    <tr>\n",
       "      <th>0</th>\n",
       "      <td>Victus Gaming Laptop AMD</td>\n",
       "      <td>https://m.media-amazon.com/images/I/71ckDfWKZ8...</td>\n",
       "      <td>80,990</td>\n",
       "      <td>Gaming Laptop AMD Ryzen™ 7 7840HS, 40.9 cm (16...</td>\n",
       "      <td>Victus</td>\n",
       "      <td>Amazon</td>\n",
       "      <td>Laptops</td>\n",
       "      <td>/sspa/click?ie=UTF8&amp;spc=MTozODU0MTU5MDMyMTAzMD...</td>\n",
       "    </tr>\n",
       "    <tr>\n",
       "      <th>1</th>\n",
       "      <td>Laptop 15, 12th Gen</td>\n",
       "      <td>https://m.media-amazon.com/images/I/71RYak+fv6...</td>\n",
       "      <td>36,990</td>\n",
       "      <td>15, 12th Gen i3-1215U, 15.6-inch (39.6 cm), FH...</td>\n",
       "      <td>Laptop</td>\n",
       "      <td>Amazon</td>\n",
       "      <td>Laptops</td>\n",
       "      <td>/sspa/click?ie=UTF8&amp;spc=MTozODU0MTU5MDMyMTAzMD...</td>\n",
       "    </tr>\n",
       "    <tr>\n",
       "      <th>2</th>\n",
       "      <td>(Refurbished) Lenovo ThinkPad 7th</td>\n",
       "      <td>https://m.media-amazon.com/images/I/51nQX+UOPO...</td>\n",
       "      <td>17,899</td>\n",
       "      <td>Lenovo ThinkPad 7th Gen Intel Core i5 Thin &amp; L...</td>\n",
       "      <td>(Refurbished)</td>\n",
       "      <td>Amazon</td>\n",
       "      <td>Laptops</td>\n",
       "      <td>/Refurbished-Lenovo-ThinkPad-Bluetooth-Graphic...</td>\n",
       "    </tr>\n",
       "    <tr>\n",
       "      <th>3</th>\n",
       "      <td>Aspire Lite 12th Gen</td>\n",
       "      <td>https://m.media-amazon.com/images/I/71czGb00k5...</td>\n",
       "      <td>42,990</td>\n",
       "      <td>Lite 12th Gen Intel Core i5-1235U Thin and Lig...</td>\n",
       "      <td>Aspire</td>\n",
       "      <td>Amazon</td>\n",
       "      <td>Laptops</td>\n",
       "      <td>/Acer-i5-1235U-Windows-Graphics-AL15-52/dp/B0C...</td>\n",
       "    </tr>\n",
       "    <tr>\n",
       "      <th>4</th>\n",
       "      <td>15 Laptop, Intel Core</td>\n",
       "      <td>https://m.media-amazon.com/images/I/61TJSzvEsQ...</td>\n",
       "      <td>43,490</td>\n",
       "      <td>Laptop, Intel Core i5-1135G7 Processor/ 8GB/ 1...</td>\n",
       "      <td>15</td>\n",
       "      <td>Amazon</td>\n",
       "      <td>Laptops</td>\n",
       "      <td>/Dell-i5-1135G7-Processor-Spill-Resistant-Keyb...</td>\n",
       "    </tr>\n",
       "    <tr>\n",
       "      <th>...</th>\n",
       "      <td>...</td>\n",
       "      <td>...</td>\n",
       "      <td>...</td>\n",
       "      <td>...</td>\n",
       "      <td>...</td>\n",
       "      <td>...</td>\n",
       "      <td>...</td>\n",
       "      <td>...</td>\n",
       "    </tr>\n",
       "    <tr>\n",
       "      <th>12061</th>\n",
       "      <td>Blue Star Convertible 5</td>\n",
       "      <td>https://rukminim2.flixcart.com/image/312/312/x...</td>\n",
       "      <td>₹43,990</td>\n",
       "      <td>Annual Power Usage: 770.98 kWhRoom Size: 111 -...</td>\n",
       "      <td>Blue</td>\n",
       "      <td>Flipkart</td>\n",
       "      <td>Laptops</td>\n",
       "      <td>/blue-star-convertible-5-1-cooling-2023-model-...</td>\n",
       "    </tr>\n",
       "    <tr>\n",
       "      <th>12062</th>\n",
       "      <td>Panasonic Convertible 7-in-1 with</td>\n",
       "      <td>https://rukminim2.flixcart.com/image/312/312/x...</td>\n",
       "      <td>₹33,490</td>\n",
       "      <td>Annual Power Usage: 676.37 kWhRoom Size: 90 sq...</td>\n",
       "      <td>Panasonic</td>\n",
       "      <td>Flipkart</td>\n",
       "      <td>Laptops</td>\n",
       "      <td>/panasonic-convertible-7-in-1-additional-ai-mo...</td>\n",
       "    </tr>\n",
       "    <tr>\n",
       "      <th>12063</th>\n",
       "      <td>Blue Star Convertible 5</td>\n",
       "      <td>https://rukminim2.flixcart.com/image/312/312/x...</td>\n",
       "      <td>₹35,789</td>\n",
       "      <td>Annual Power Usage: 1002.84 kWhRoom Size: 111 ...</td>\n",
       "      <td>Blue</td>\n",
       "      <td>Flipkart</td>\n",
       "      <td>Laptops</td>\n",
       "      <td>/blue-star-convertible-5-1-cooling-2023-model-...</td>\n",
       "    </tr>\n",
       "    <tr>\n",
       "      <th>12064</th>\n",
       "      <td>CANDY 2023 Model 1.5</td>\n",
       "      <td>https://rukminim2.flixcart.com/image/312/312/x...</td>\n",
       "      <td>₹31,999</td>\n",
       "      <td>Annual Power Usage: 925.24 kWhRoom Size: 111 -...</td>\n",
       "      <td>CANDY</td>\n",
       "      <td>Flipkart</td>\n",
       "      <td>Laptops</td>\n",
       "      <td>/candy-2023-model-1-5-ton-3-star-split-inverte...</td>\n",
       "    </tr>\n",
       "    <tr>\n",
       "      <th>12065</th>\n",
       "      <td>MarQ by Flipkart 2024</td>\n",
       "      <td>https://rukminim2.flixcart.com/image/312/312/x...</td>\n",
       "      <td>₹26,499</td>\n",
       "      <td>Annual Power Usage: 1075 WRoom Size: 90 sqft o...</td>\n",
       "      <td>MarQ</td>\n",
       "      <td>Flipkart</td>\n",
       "      <td>Laptops</td>\n",
       "      <td>/marq-flipkart-2024-range-1-ton-3-star-split-i...</td>\n",
       "    </tr>\n",
       "  </tbody>\n",
       "</table>\n",
       "<p>12066 rows × 8 columns</p>\n",
       "</div>"
      ],
      "text/plain": [
       "                                   title  \\\n",
       "0               Victus Gaming Laptop AMD   \n",
       "1                    Laptop 15, 12th Gen   \n",
       "2      (Refurbished) Lenovo ThinkPad 7th   \n",
       "3                   Aspire Lite 12th Gen   \n",
       "4                  15 Laptop, Intel Core   \n",
       "...                                  ...   \n",
       "12061            Blue Star Convertible 5   \n",
       "12062  Panasonic Convertible 7-in-1 with   \n",
       "12063            Blue Star Convertible 5   \n",
       "12064               CANDY 2023 Model 1.5   \n",
       "12065              MarQ by Flipkart 2024   \n",
       "\n",
       "                                                   image    price  \\\n",
       "0      https://m.media-amazon.com/images/I/71ckDfWKZ8...   80,990   \n",
       "1      https://m.media-amazon.com/images/I/71RYak+fv6...   36,990   \n",
       "2      https://m.media-amazon.com/images/I/51nQX+UOPO...   17,899   \n",
       "3      https://m.media-amazon.com/images/I/71czGb00k5...   42,990   \n",
       "4      https://m.media-amazon.com/images/I/61TJSzvEsQ...   43,490   \n",
       "...                                                  ...      ...   \n",
       "12061  https://rukminim2.flixcart.com/image/312/312/x...  ₹43,990   \n",
       "12062  https://rukminim2.flixcart.com/image/312/312/x...  ₹33,490   \n",
       "12063  https://rukminim2.flixcart.com/image/312/312/x...  ₹35,789   \n",
       "12064  https://rukminim2.flixcart.com/image/312/312/x...  ₹31,999   \n",
       "12065  https://rukminim2.flixcart.com/image/312/312/x...  ₹26,499   \n",
       "\n",
       "                                             description          brand  \\\n",
       "0      Gaming Laptop AMD Ryzen™ 7 7840HS, 40.9 cm (16...         Victus   \n",
       "1      15, 12th Gen i3-1215U, 15.6-inch (39.6 cm), FH...         Laptop   \n",
       "2      Lenovo ThinkPad 7th Gen Intel Core i5 Thin & L...  (Refurbished)   \n",
       "3      Lite 12th Gen Intel Core i5-1235U Thin and Lig...         Aspire   \n",
       "4      Laptop, Intel Core i5-1135G7 Processor/ 8GB/ 1...             15   \n",
       "...                                                  ...            ...   \n",
       "12061  Annual Power Usage: 770.98 kWhRoom Size: 111 -...           Blue   \n",
       "12062  Annual Power Usage: 676.37 kWhRoom Size: 90 sq...      Panasonic   \n",
       "12063  Annual Power Usage: 1002.84 kWhRoom Size: 111 ...           Blue   \n",
       "12064  Annual Power Usage: 925.24 kWhRoom Size: 111 -...          CANDY   \n",
       "12065  Annual Power Usage: 1075 WRoom Size: 90 sqft o...           MarQ   \n",
       "\n",
       "       platform     type                                       product_link  \n",
       "0        Amazon  Laptops  /sspa/click?ie=UTF8&spc=MTozODU0MTU5MDMyMTAzMD...  \n",
       "1        Amazon  Laptops  /sspa/click?ie=UTF8&spc=MTozODU0MTU5MDMyMTAzMD...  \n",
       "2        Amazon  Laptops  /Refurbished-Lenovo-ThinkPad-Bluetooth-Graphic...  \n",
       "3        Amazon  Laptops  /Acer-i5-1235U-Windows-Graphics-AL15-52/dp/B0C...  \n",
       "4        Amazon  Laptops  /Dell-i5-1135G7-Processor-Spill-Resistant-Keyb...  \n",
       "...         ...      ...                                                ...  \n",
       "12061  Flipkart  Laptops  /blue-star-convertible-5-1-cooling-2023-model-...  \n",
       "12062  Flipkart  Laptops  /panasonic-convertible-7-in-1-additional-ai-mo...  \n",
       "12063  Flipkart  Laptops  /blue-star-convertible-5-1-cooling-2023-model-...  \n",
       "12064  Flipkart  Laptops  /candy-2023-model-1-5-ton-3-star-split-inverte...  \n",
       "12065  Flipkart  Laptops  /marq-flipkart-2024-range-1-ton-3-star-split-i...  \n",
       "\n",
       "[12066 rows x 8 columns]"
      ]
     },
     "execution_count": 6,
     "metadata": {},
     "output_type": "execute_result"
    }
   ],
   "source": [
    "combined_df"
   ]
  },
  {
   "cell_type": "code",
   "execution_count": 7,
   "id": "58519b34-4e1e-47f7-9c94-b3dd1eb2a023",
   "metadata": {},
   "outputs": [
    {
     "name": "stdout",
     "output_type": "stream",
     "text": [
      "<class 'pandas.core.frame.DataFrame'>\n",
      "RangeIndex: 12066 entries, 0 to 12065\n",
      "Data columns (total 8 columns):\n",
      " #   Column        Non-Null Count  Dtype \n",
      "---  ------        --------------  ----- \n",
      " 0   title         12066 non-null  object\n",
      " 1   image         12066 non-null  object\n",
      " 2   price         11574 non-null  object\n",
      " 3   description   12063 non-null  object\n",
      " 4   brand         12066 non-null  object\n",
      " 5   platform      12066 non-null  object\n",
      " 6   type          12066 non-null  object\n",
      " 7   product_link  12066 non-null  object\n",
      "dtypes: object(8)\n",
      "memory usage: 754.3+ KB\n"
     ]
    }
   ],
   "source": [
    "combined_df.info()"
   ]
  },
  {
   "cell_type": "code",
   "execution_count": 8,
   "id": "c25dbdb6-e5d3-4efa-bf42-39f0dc601725",
   "metadata": {},
   "outputs": [
    {
     "data": {
      "text/plain": [
       "title             0\n",
       "image             0\n",
       "price           492\n",
       "description       3\n",
       "brand             0\n",
       "platform          0\n",
       "type              0\n",
       "product_link      0\n",
       "dtype: int64"
      ]
     },
     "execution_count": 8,
     "metadata": {},
     "output_type": "execute_result"
    }
   ],
   "source": [
    "combined_df.isnull().sum()"
   ]
  },
  {
   "cell_type": "code",
   "execution_count": 9,
   "id": "ed3d86d4-e9a4-4ba2-96ef-85370a8ade1a",
   "metadata": {},
   "outputs": [],
   "source": [
    "combined_df['price'].fillna('33999', inplace=True)\n",
    "combined_df['price'] = combined_df['price'].astype(str)"
   ]
  },
  {
   "cell_type": "code",
   "execution_count": 10,
   "id": "da4b5924-68be-4fa3-9102-721fc67234f4",
   "metadata": {},
   "outputs": [],
   "source": [
    "new_df = pd.concat([laptop_df,phone_df,fridge_df,tv_df,ac_df,laptopf_df,phonef_df,fridgef_df,tvf_df,acf_df], axis=0, ignore_index=True)\n",
    "new_df.to_csv('new_flipkart_products.csv', index=False)\n",
    "new_df['price'] = new_df['price'].astype(str)\n",
    "new_df['description'] = new_df['description'].astype(str)"
   ]
  },
  {
   "cell_type": "code",
   "execution_count": 11,
   "id": "2a423d8d-ee0a-4363-9ff9-07a09671d170",
   "metadata": {},
   "outputs": [],
   "source": [
    "def remove_special_characters(text):\n",
    "    import re\n",
    "    # Replace all non-alphabetic characters and spaces with an empty string\n",
    "    return re.sub(r'[^a-zA-Z0-9\\s]', '', text)\n",
    "new_df['price'] = new_df['price'].apply(remove_special_characters)\n",
    "new_df['description'] = new_df['description'].apply(remove_special_characters)\n",
    "new_df['brand'] = new_df['brand'].apply(remove_special_characters)\n",
    "new_df['platform'] = new_df['platform'].apply(remove_special_characters)\n",
    "new_df['type'] = new_df['type'].apply(remove_special_characters)"
   ]
  },
  {
   "cell_type": "code",
   "execution_count": 12,
   "id": "0e56f46f-8882-454f-80dc-f00e67221b70",
   "metadata": {},
   "outputs": [
    {
     "data": {
      "text/html": [
       "<div>\n",
       "<style scoped>\n",
       "    .dataframe tbody tr th:only-of-type {\n",
       "        vertical-align: middle;\n",
       "    }\n",
       "\n",
       "    .dataframe tbody tr th {\n",
       "        vertical-align: top;\n",
       "    }\n",
       "\n",
       "    .dataframe thead th {\n",
       "        text-align: right;\n",
       "    }\n",
       "</style>\n",
       "<table border=\"1\" class=\"dataframe\">\n",
       "  <thead>\n",
       "    <tr style=\"text-align: right;\">\n",
       "      <th></th>\n",
       "      <th>title</th>\n",
       "      <th>image</th>\n",
       "      <th>price</th>\n",
       "      <th>description</th>\n",
       "      <th>brand</th>\n",
       "      <th>platform</th>\n",
       "      <th>type</th>\n",
       "      <th>product_link</th>\n",
       "    </tr>\n",
       "  </thead>\n",
       "  <tbody>\n",
       "    <tr>\n",
       "      <th>0</th>\n",
       "      <td>Victus Gaming Laptop AMD</td>\n",
       "      <td>https://m.media-amazon.com/images/I/71ckDfWKZ8...</td>\n",
       "      <td>80990</td>\n",
       "      <td>Gaming Laptop AMD Ryzen 7 7840HS 409 cm 161inc...</td>\n",
       "      <td>Victus</td>\n",
       "      <td>Amazon</td>\n",
       "      <td>Laptops</td>\n",
       "      <td>/sspa/click?ie=UTF8&amp;spc=MTozODU0MTU5MDMyMTAzMD...</td>\n",
       "    </tr>\n",
       "    <tr>\n",
       "      <th>1</th>\n",
       "      <td>Laptop 15, 12th Gen</td>\n",
       "      <td>https://m.media-amazon.com/images/I/71RYak+fv6...</td>\n",
       "      <td>36990</td>\n",
       "      <td>15 12th Gen i31215U 156inch 396 cm FHD AntiGla...</td>\n",
       "      <td>Laptop</td>\n",
       "      <td>Amazon</td>\n",
       "      <td>Laptops</td>\n",
       "      <td>/sspa/click?ie=UTF8&amp;spc=MTozODU0MTU5MDMyMTAzMD...</td>\n",
       "    </tr>\n",
       "    <tr>\n",
       "      <th>2</th>\n",
       "      <td>(Refurbished) Lenovo ThinkPad 7th</td>\n",
       "      <td>https://m.media-amazon.com/images/I/51nQX+UOPO...</td>\n",
       "      <td>17899</td>\n",
       "      <td>Lenovo ThinkPad 7th Gen Intel Core i5 Thin  Li...</td>\n",
       "      <td>Refurbished</td>\n",
       "      <td>Amazon</td>\n",
       "      <td>Laptops</td>\n",
       "      <td>/Refurbished-Lenovo-ThinkPad-Bluetooth-Graphic...</td>\n",
       "    </tr>\n",
       "    <tr>\n",
       "      <th>3</th>\n",
       "      <td>Aspire Lite 12th Gen</td>\n",
       "      <td>https://m.media-amazon.com/images/I/71czGb00k5...</td>\n",
       "      <td>42990</td>\n",
       "      <td>Lite 12th Gen Intel Core i51235U Thin and Ligh...</td>\n",
       "      <td>Aspire</td>\n",
       "      <td>Amazon</td>\n",
       "      <td>Laptops</td>\n",
       "      <td>/Acer-i5-1235U-Windows-Graphics-AL15-52/dp/B0C...</td>\n",
       "    </tr>\n",
       "    <tr>\n",
       "      <th>4</th>\n",
       "      <td>15 Laptop, Intel Core</td>\n",
       "      <td>https://m.media-amazon.com/images/I/61TJSzvEsQ...</td>\n",
       "      <td>43490</td>\n",
       "      <td>Laptop Intel Core i51135G7 Processor 8GB 1TB25...</td>\n",
       "      <td>15</td>\n",
       "      <td>Amazon</td>\n",
       "      <td>Laptops</td>\n",
       "      <td>/Dell-i5-1135G7-Processor-Spill-Resistant-Keyb...</td>\n",
       "    </tr>\n",
       "    <tr>\n",
       "      <th>...</th>\n",
       "      <td>...</td>\n",
       "      <td>...</td>\n",
       "      <td>...</td>\n",
       "      <td>...</td>\n",
       "      <td>...</td>\n",
       "      <td>...</td>\n",
       "      <td>...</td>\n",
       "      <td>...</td>\n",
       "    </tr>\n",
       "    <tr>\n",
       "      <th>12061</th>\n",
       "      <td>Blue Star Convertible 5</td>\n",
       "      <td>https://rukminim2.flixcart.com/image/312/312/x...</td>\n",
       "      <td>43990</td>\n",
       "      <td>Annual Power Usage 77098 kWhRoom Size 111  150...</td>\n",
       "      <td>Blue</td>\n",
       "      <td>Flipkart</td>\n",
       "      <td>Laptops</td>\n",
       "      <td>/blue-star-convertible-5-1-cooling-2023-model-...</td>\n",
       "    </tr>\n",
       "    <tr>\n",
       "      <th>12062</th>\n",
       "      <td>Panasonic Convertible 7-in-1 with</td>\n",
       "      <td>https://rukminim2.flixcart.com/image/312/312/x...</td>\n",
       "      <td>33490</td>\n",
       "      <td>Annual Power Usage 67637 kWhRoom Size 90 sqft ...</td>\n",
       "      <td>Panasonic</td>\n",
       "      <td>Flipkart</td>\n",
       "      <td>Laptops</td>\n",
       "      <td>/panasonic-convertible-7-in-1-additional-ai-mo...</td>\n",
       "    </tr>\n",
       "    <tr>\n",
       "      <th>12063</th>\n",
       "      <td>Blue Star Convertible 5</td>\n",
       "      <td>https://rukminim2.flixcart.com/image/312/312/x...</td>\n",
       "      <td>35789</td>\n",
       "      <td>Annual Power Usage 100284 kWhRoom Size 111  15...</td>\n",
       "      <td>Blue</td>\n",
       "      <td>Flipkart</td>\n",
       "      <td>Laptops</td>\n",
       "      <td>/blue-star-convertible-5-1-cooling-2023-model-...</td>\n",
       "    </tr>\n",
       "    <tr>\n",
       "      <th>12064</th>\n",
       "      <td>CANDY 2023 Model 1.5</td>\n",
       "      <td>https://rukminim2.flixcart.com/image/312/312/x...</td>\n",
       "      <td>31999</td>\n",
       "      <td>Annual Power Usage 92524 kWhRoom Size 111  150...</td>\n",
       "      <td>CANDY</td>\n",
       "      <td>Flipkart</td>\n",
       "      <td>Laptops</td>\n",
       "      <td>/candy-2023-model-1-5-ton-3-star-split-inverte...</td>\n",
       "    </tr>\n",
       "    <tr>\n",
       "      <th>12065</th>\n",
       "      <td>MarQ by Flipkart 2024</td>\n",
       "      <td>https://rukminim2.flixcart.com/image/312/312/x...</td>\n",
       "      <td>26499</td>\n",
       "      <td>Annual Power Usage 1075 WRoom Size 90 sqft or ...</td>\n",
       "      <td>MarQ</td>\n",
       "      <td>Flipkart</td>\n",
       "      <td>Laptops</td>\n",
       "      <td>/marq-flipkart-2024-range-1-ton-3-star-split-i...</td>\n",
       "    </tr>\n",
       "  </tbody>\n",
       "</table>\n",
       "<p>12066 rows × 8 columns</p>\n",
       "</div>"
      ],
      "text/plain": [
       "                                   title  \\\n",
       "0               Victus Gaming Laptop AMD   \n",
       "1                    Laptop 15, 12th Gen   \n",
       "2      (Refurbished) Lenovo ThinkPad 7th   \n",
       "3                   Aspire Lite 12th Gen   \n",
       "4                  15 Laptop, Intel Core   \n",
       "...                                  ...   \n",
       "12061            Blue Star Convertible 5   \n",
       "12062  Panasonic Convertible 7-in-1 with   \n",
       "12063            Blue Star Convertible 5   \n",
       "12064               CANDY 2023 Model 1.5   \n",
       "12065              MarQ by Flipkart 2024   \n",
       "\n",
       "                                                   image  price  \\\n",
       "0      https://m.media-amazon.com/images/I/71ckDfWKZ8...  80990   \n",
       "1      https://m.media-amazon.com/images/I/71RYak+fv6...  36990   \n",
       "2      https://m.media-amazon.com/images/I/51nQX+UOPO...  17899   \n",
       "3      https://m.media-amazon.com/images/I/71czGb00k5...  42990   \n",
       "4      https://m.media-amazon.com/images/I/61TJSzvEsQ...  43490   \n",
       "...                                                  ...    ...   \n",
       "12061  https://rukminim2.flixcart.com/image/312/312/x...  43990   \n",
       "12062  https://rukminim2.flixcart.com/image/312/312/x...  33490   \n",
       "12063  https://rukminim2.flixcart.com/image/312/312/x...  35789   \n",
       "12064  https://rukminim2.flixcart.com/image/312/312/x...  31999   \n",
       "12065  https://rukminim2.flixcart.com/image/312/312/x...  26499   \n",
       "\n",
       "                                             description        brand  \\\n",
       "0      Gaming Laptop AMD Ryzen 7 7840HS 409 cm 161inc...       Victus   \n",
       "1      15 12th Gen i31215U 156inch 396 cm FHD AntiGla...       Laptop   \n",
       "2      Lenovo ThinkPad 7th Gen Intel Core i5 Thin  Li...  Refurbished   \n",
       "3      Lite 12th Gen Intel Core i51235U Thin and Ligh...       Aspire   \n",
       "4      Laptop Intel Core i51135G7 Processor 8GB 1TB25...           15   \n",
       "...                                                  ...          ...   \n",
       "12061  Annual Power Usage 77098 kWhRoom Size 111  150...         Blue   \n",
       "12062  Annual Power Usage 67637 kWhRoom Size 90 sqft ...    Panasonic   \n",
       "12063  Annual Power Usage 100284 kWhRoom Size 111  15...         Blue   \n",
       "12064  Annual Power Usage 92524 kWhRoom Size 111  150...        CANDY   \n",
       "12065  Annual Power Usage 1075 WRoom Size 90 sqft or ...         MarQ   \n",
       "\n",
       "       platform     type                                       product_link  \n",
       "0        Amazon  Laptops  /sspa/click?ie=UTF8&spc=MTozODU0MTU5MDMyMTAzMD...  \n",
       "1        Amazon  Laptops  /sspa/click?ie=UTF8&spc=MTozODU0MTU5MDMyMTAzMD...  \n",
       "2        Amazon  Laptops  /Refurbished-Lenovo-ThinkPad-Bluetooth-Graphic...  \n",
       "3        Amazon  Laptops  /Acer-i5-1235U-Windows-Graphics-AL15-52/dp/B0C...  \n",
       "4        Amazon  Laptops  /Dell-i5-1135G7-Processor-Spill-Resistant-Keyb...  \n",
       "...         ...      ...                                                ...  \n",
       "12061  Flipkart  Laptops  /blue-star-convertible-5-1-cooling-2023-model-...  \n",
       "12062  Flipkart  Laptops  /panasonic-convertible-7-in-1-additional-ai-mo...  \n",
       "12063  Flipkart  Laptops  /blue-star-convertible-5-1-cooling-2023-model-...  \n",
       "12064  Flipkart  Laptops  /candy-2023-model-1-5-ton-3-star-split-inverte...  \n",
       "12065  Flipkart  Laptops  /marq-flipkart-2024-range-1-ton-3-star-split-i...  \n",
       "\n",
       "[12066 rows x 8 columns]"
      ]
     },
     "execution_count": 12,
     "metadata": {},
     "output_type": "execute_result"
    }
   ],
   "source": [
    "new_df"
   ]
  },
  {
   "cell_type": "code",
   "execution_count": 13,
   "id": "b61b0c2c-236e-4dcb-96bd-c603eb5275a2",
   "metadata": {},
   "outputs": [
    {
     "data": {
      "text/plain": [
       "0          Amazon\n",
       "1          Amazon\n",
       "2          Amazon\n",
       "3          Amazon\n",
       "4          Amazon\n",
       "           ...   \n",
       "12061    Flipkart\n",
       "12062    Flipkart\n",
       "12063    Flipkart\n",
       "12064    Flipkart\n",
       "12065    Flipkart\n",
       "Name: platform, Length: 12066, dtype: object"
      ]
     },
     "execution_count": 13,
     "metadata": {},
     "output_type": "execute_result"
    }
   ],
   "source": [
    "new_df['tags'] = new_df['title']+new_df['description']+new_df['brand']+new_df['type']\n",
    "new_df.head()\n",
    "new_df['platform']"
   ]
  },
  {
   "cell_type": "code",
   "execution_count": 14,
   "id": "bf5fb88e-dbd3-4f21-b9d9-12c094286c91",
   "metadata": {},
   "outputs": [
    {
     "name": "stdout",
     "output_type": "stream",
     "text": [
      "[475]\n"
     ]
    }
   ],
   "source": [
    "desired_title = 'Redmi 10 Power (Power'\n",
    "index_values = new_df[new_df['title'] == desired_title].index.tolist()\n",
    "print(index_values)"
   ]
  },
  {
   "cell_type": "code",
   "execution_count": 15,
   "id": "3d03c84e-0371-4ab6-b8d1-da6010b86160",
   "metadata": {},
   "outputs": [
    {
     "name": "stdout",
     "output_type": "stream",
     "text": [
      "[475]\n"
     ]
    }
   ],
   "source": [
    "index_value = new_df[new_df['title'] == 'Redmi 10 Power (Power'].index.tolist()\n",
    "print(index_value)"
   ]
  },
  {
   "cell_type": "code",
   "execution_count": 16,
   "id": "fdf4f495-c3b2-4013-8935-e85ad98bb10e",
   "metadata": {},
   "outputs": [],
   "source": [
    "new_df = new_df[['title','description','brand','platform','type','tags']]"
   ]
  },
  {
   "cell_type": "code",
   "execution_count": 17,
   "id": "73f57c75-7a8c-4384-ab5c-2a3cc9cd1ef0",
   "metadata": {},
   "outputs": [],
   "source": [
    "# result_df = new_df[new_df['title'] == 'Infinix Y1 Plus Neo']\n",
    "# print(result_df)"
   ]
  },
  {
   "cell_type": "code",
   "execution_count": 18,
   "id": "da338b6d-8cc8-44af-aac0-2a78b837a9d1",
   "metadata": {},
   "outputs": [],
   "source": [
    "# print(new_df.iloc[0])"
   ]
  },
  {
   "cell_type": "code",
   "execution_count": 19,
   "id": "41968edd-cf05-4c86-a6d9-70e2fd385085",
   "metadata": {},
   "outputs": [],
   "source": [
    "# print(new_df.iloc[37])"
   ]
  },
  {
   "cell_type": "code",
   "execution_count": 20,
   "id": "de0eb50d-a23d-41c3-8707-2dd62dc43eb7",
   "metadata": {},
   "outputs": [],
   "source": [
    "# import pandas as pd\n",
    "\n",
    "# # Assuming you have a DataFrame named 'df'\n",
    "# # df = pd.DataFrame({...})\n",
    "\n",
    "# # Check for duplicate rows\n",
    "# duplicate_rows = new_df[new_df.duplicated()]\n",
    "\n",
    "# # Display the duplicate rows\n",
    "# print(\"Duplicate Rows except first occurrence:\")\n",
    "# print(duplicate_rows)\n",
    "# print(len(\n",
    "\n",
    "# # If you want to keep only the first occurrence of each duplicate row, you can use the keep parameter\n",
    "# # For example:\n",
    "# # df_no_duplicates = df.drop_duplicates(keep='first')\n",
    "\n",
    "# # If you want to keep only the last occurrence of each duplicate row, you can use keep='last'\n",
    "# # For example:\n",
    "# # df_no_duplicates = df.drop_duplicates(keep='last')\n"
   ]
  },
  {
   "cell_type": "code",
   "execution_count": 21,
   "id": "e6155ec8-e1f2-4804-ac32-e342373fd8a3",
   "metadata": {},
   "outputs": [],
   "source": [
    "# import pandas as pd\n",
    "\n",
    "# # Assuming you have a DataFrame named 'df'\n",
    "# # df = pd.DataFrame({...})\n",
    "\n",
    "# # Remove duplicate rows and keep only the first occurrence\n",
    "# df_2 = new_df.drop_duplicates(keep='first')\n",
    "\n",
    "# # Display the DataFrame without duplicates\n",
    "# print(df_2)\n",
    "# print(len(df_2))"
   ]
  },
  {
   "cell_type": "code",
   "execution_count": 22,
   "id": "0c8ffedc-4565-4f26-84ed-c87f27a6ee96",
   "metadata": {},
   "outputs": [],
   "source": [
    "# import pandas as pd\n",
    "\n",
    "# # Assuming you have a DataFrame named 'df' with a column named 'id'\n",
    "# # df = pd.DataFrame({...})\n",
    "\n",
    "# # Identify duplicate rows based on the 'id' column\n",
    "# duplicate_mask = new_df.duplicated(subset=['title'], keep='first')\n",
    "\n",
    "# # Extract duplicate rows and original rows using boolean indexing\n",
    "# duplicate_rows = new_df[duplicate_mask]\n",
    "# original_rows = new_df[~duplicate_mask]\n",
    "\n",
    "# # Display duplicate rows\n",
    "# print(\"Duplicate Rows:\")\n",
    "# print(duplicate_rows)\n",
    "\n",
    "# # Display original rows\n",
    "# print(\"\\nOriginal Rows:\")\n",
    "# print(original_rows)\n"
   ]
  },
  {
   "cell_type": "code",
   "execution_count": 23,
   "id": "ccbabb0f-eb89-4874-9990-39f233548bdf",
   "metadata": {},
   "outputs": [],
   "source": [
    "import nltk\n",
    "from nltk.stem.porter import PorterStemmer\n",
    "ps = PorterStemmer()"
   ]
  },
  {
   "cell_type": "code",
   "execution_count": 24,
   "id": "10e05716-791b-42b0-8476-6af8e7e84a70",
   "metadata": {},
   "outputs": [],
   "source": [
    "def stem(text):\n",
    "    y = []\n",
    "    for i in text.split():\n",
    "        y.append(ps.stem(i))\n",
    "    return \" \".join(y)"
   ]
  },
  {
   "cell_type": "code",
   "execution_count": 25,
   "id": "9ead5f72-4de3-444a-9984-55a6828f3f59",
   "metadata": {},
   "outputs": [
    {
     "name": "stderr",
     "output_type": "stream",
     "text": [
      "C:\\Users\\tvoma\\AppData\\Local\\Temp\\ipykernel_5332\\3514595201.py:1: SettingWithCopyWarning: \n",
      "A value is trying to be set on a copy of a slice from a DataFrame.\n",
      "Try using .loc[row_indexer,col_indexer] = value instead\n",
      "\n",
      "See the caveats in the documentation: https://pandas.pydata.org/pandas-docs/stable/user_guide/indexing.html#returning-a-view-versus-a-copy\n",
      "  new_df['tags']=new_df['tags'].apply(stem)\n"
     ]
    }
   ],
   "source": [
    "new_df['tags']=new_df['tags'].apply(stem)"
   ]
  },
  {
   "cell_type": "code",
   "execution_count": 26,
   "id": "0fa2de7c-0fa5-400d-aac9-2b0503371d8f",
   "metadata": {},
   "outputs": [
    {
     "name": "stderr",
     "output_type": "stream",
     "text": [
      "C:\\Users\\tvoma\\AppData\\Local\\Temp\\ipykernel_5332\\3612689905.py:1: SettingWithCopyWarning: \n",
      "A value is trying to be set on a copy of a slice from a DataFrame.\n",
      "Try using .loc[row_indexer,col_indexer] = value instead\n",
      "\n",
      "See the caveats in the documentation: https://pandas.pydata.org/pandas-docs/stable/user_guide/indexing.html#returning-a-view-versus-a-copy\n",
      "  new_df['tags']=new_df['tags'].apply(lambda x:x.lower())\n"
     ]
    }
   ],
   "source": [
    "new_df['tags']=new_df['tags'].apply(lambda x:x.lower()) "
   ]
  },
  {
   "cell_type": "code",
   "execution_count": 27,
   "id": "a1ffdbc9-e8cc-464a-8208-c467b46783f9",
   "metadata": {},
   "outputs": [
    {
     "data": {
      "text/plain": [
       "0        victu game laptop amdgam laptop amd ryzen 7 78...\n",
       "1        laptop 15, 12th gen15 12th gen i31215u 156inch...\n",
       "2        (refurbished) lenovo thinkpad 7thlenovo thinkp...\n",
       "3        aspir lite 12th genlit 12th gen intel core i51...\n",
       "4        15 laptop, intel corelaptop intel core i51135g...\n",
       "                               ...                        \n",
       "12061    blue star convert 5annual power usag 77098 kwh...\n",
       "12062    panason convert 7-in-1 withannu power usag 676...\n",
       "12063    blue star convert 5annual power usag 100284 kw...\n",
       "12064    candi 2023 model 1.5annual power usag 92524 kw...\n",
       "12065    marq by flipkart 2024annual power usag 1075 wr...\n",
       "Name: tags, Length: 12066, dtype: object"
      ]
     },
     "execution_count": 27,
     "metadata": {},
     "output_type": "execute_result"
    }
   ],
   "source": [
    "new_df['tags']"
   ]
  },
  {
   "cell_type": "code",
   "execution_count": 28,
   "id": "c0292975-46f8-4da6-bd1e-4900fe24237a",
   "metadata": {},
   "outputs": [],
   "source": [
    "from sklearn.feature_extraction.text import CountVectorizer\n",
    "cv = CountVectorizer(max_features=5000,stop_words='english')"
   ]
  },
  {
   "cell_type": "code",
   "execution_count": 29,
   "id": "b7c9f8c0-67f2-4523-96aa-b798a110bb08",
   "metadata": {},
   "outputs": [],
   "source": [
    "vectors = cv.fit_transform(new_df['tags']).toarray()"
   ]
  },
  {
   "cell_type": "code",
   "execution_count": 30,
   "id": "859ba940-2ef6-4e82-9a83-c3939b229d8f",
   "metadata": {},
   "outputs": [
    {
     "data": {
      "text/plain": [
       "array([[0, 0, 0, ..., 0, 0, 0],\n",
       "       [0, 0, 0, ..., 0, 0, 0],\n",
       "       [0, 0, 0, ..., 0, 0, 0],\n",
       "       ...,\n",
       "       [0, 0, 0, ..., 0, 0, 0],\n",
       "       [0, 0, 0, ..., 0, 0, 0],\n",
       "       [0, 0, 0, ..., 0, 0, 0]], dtype=int64)"
      ]
     },
     "execution_count": 30,
     "metadata": {},
     "output_type": "execute_result"
    }
   ],
   "source": [
    "vectors"
   ]
  },
  {
   "cell_type": "code",
   "execution_count": 31,
   "id": "2f9a02b8-98f9-48d5-953d-35047b8065d7",
   "metadata": {},
   "outputs": [
    {
     "data": {
      "text/plain": [
       "array(['01', '02', '04', ..., 'zone', 'zones164tv', 'zoneshisensetv'],\n",
       "      dtype=object)"
      ]
     },
     "execution_count": 31,
     "metadata": {},
     "output_type": "execute_result"
    }
   ],
   "source": [
    "cv.get_feature_names_out()"
   ]
  },
  {
   "cell_type": "code",
   "execution_count": 32,
   "id": "4e04f8d3-f307-48bc-9655-52190121ce57",
   "metadata": {},
   "outputs": [],
   "source": [
    "from sklearn.metrics.pairwise import cosine_similarity"
   ]
  },
  {
   "cell_type": "code",
   "execution_count": 33,
   "id": "fd2e36e0-32a8-4e06-9cad-f849b86927a1",
   "metadata": {},
   "outputs": [
    {
     "data": {
      "text/plain": [
       "(12066, 12066)"
      ]
     },
     "execution_count": 33,
     "metadata": {},
     "output_type": "execute_result"
    }
   ],
   "source": [
    "cosine_similarity(vectors).shape"
   ]
  },
  {
   "cell_type": "code",
   "execution_count": 34,
   "id": "9d9dc383-429b-4089-8982-c95938829a23",
   "metadata": {},
   "outputs": [],
   "source": [
    "similarity = cosine_similarity(vectors)"
   ]
  },
  {
   "cell_type": "code",
   "execution_count": 35,
   "id": "1563e8ee-136e-4f9a-8091-dffabd67a3a4",
   "metadata": {},
   "outputs": [
    {
     "data": {
      "text/plain": [
       "array([0.        , 0.        , 0.11605177, ..., 0.        , 0.        ,\n",
       "       0.        ])"
      ]
     },
     "execution_count": 35,
     "metadata": {},
     "output_type": "execute_result"
    }
   ],
   "source": [
    "similarity[449]"
   ]
  },
  {
   "cell_type": "code",
   "execution_count": 36,
   "id": "4acf0544-a671-40f3-b932-a2b1636a4ffd",
   "metadata": {},
   "outputs": [],
   "source": [
    "# def recommend(title):\n",
    "#     product_index = new_df[new_df['title']==title].index[0]\n",
    "#     distances = similarity[product_index]\n",
    "#     product_list = sorted(list(enumerate(distances)),reverse=True,key=lambda x:x[1])[1:90]\n",
    "\n",
    "#     for i in product_list:\n",
    "#         print(i[0],new_df.iloc[i[0]].title,combined_df.iloc[i[0]].price,combined_df.iloc[i[0]].image,combined_df.iloc[i[0]].product_link,new_df.iloc[i[0]].brand,new_df.iloc[i[0]].platform)\n",
    "        \n",
    "# def recommend(title):\n",
    "#     product_index = new_df[new_df['title'] == title].index[0]\n",
    "#     distances = similarity[product_index]\n",
    "#     product_list = sorted(list(enumerate(distances)), reverse=True, key=lambda x: x[1])[1:90]\n",
    "    \n",
    "#     for i in product_list:\n",
    "#         if i[1] < 1:  # Change the threshold as needed\n",
    "#             if(new_df.iloc[i[0]].image != image and combined_df.iloc[i[0]].price):\n",
    "#                   print(i[0], new_df.iloc[i[0]].title, combined_df.iloc[i[0]].price,\n",
    "#                   combined_df.iloc[i[0]].image, combined_df.iloc[i[0]].product_link,\n",
    "#                   new_df.iloc[i[0]].brand, new_df.iloc[i[0]].platform)\n",
    "def recommend(title, num_products=50):\n",
    "    product_index = new_df[new_df['title'] == title].index[0]\n",
    "    distances = similarity[product_index]\n",
    "    product_list = sorted(list(enumerate(distances)), reverse=True, key=lambda x: x[1])[1:90]\n",
    "\n",
    "    unique_products = set()\n",
    "    count = 0\n",
    "\n",
    "    for i in product_list:\n",
    "        product_details = combined_df.iloc[i[0]].description\n",
    "\n",
    "        # Check if the product details are not already in the set\n",
    "        if product_details not in unique_products:\n",
    "            unique_products.add(product_details)\n",
    "            print(i[0], new_df.iloc[i[0]].title, combined_df.iloc[i[0]].price, combined_df.iloc[i[0]].image, combined_df.iloc[i[0]].product_link, new_df.iloc[i[0]].brand, new_df.iloc[i[0]].platform)\n",
    "            count += 1\n",
    "\n",
    "            if count >= num_products:\n",
    "                break\n",
    "\n",
    "\n",
    "\n",
    "# Usage\n",
    "# recommended_products = recommend(\"Your Product Title\", top_n=20)\n",
    "# for product in recommended_products:\n",
    "#     print(product)\n",
    "\n",
    "# from flask import Flask,jsonify\n",
    "# def recommend(title):\n",
    "#     top_n = 100\n",
    "#     product_index = new_df[new_df['title'] == title].index[0]\n",
    "#     distances = similarity[product_index]\n",
    "#     product_list = sorted(list(enumerate(distances)), reverse=True, key=lambda x: x[1])[1:90]\n",
    "\n",
    "#     result = []\n",
    "#     unique_products = set()\n",
    "#     count = 0\n",
    "\n",
    "    # for i in product_list:\n",
    "    #     if count >= top_n:\n",
    "    #         break\n",
    "\n",
    "    #     product_details = combined_df.iloc[i[0]].description\n",
    "\n",
    "    #     # Check if the product details are not already in the set\n",
    "    #     if product_details not in unique_products:\n",
    "    #         product_details = combined_df.iloc[i[0]].description\n",
    "    #         # Add the product details to the set to ensure uniqueness\n",
    "    #         unique_products.add(product_details)\n",
    "    #         count += 1\n",
    "    #         temp = {\n",
    "    #             \"index\" : i[0],\n",
    "    #             \"title\" : new_df.iloc[i[0]].title,\n",
    "    #             \"price\" : combined_df.iloc[i[0]].price,\n",
    "    #             \"image\" : combined_df.iloc[i[0]].image,\n",
    "    #             \"product_link\": combined_df.iloc[i[0]].product_link,\n",
    "    #             \"brand\" : new_df.iloc[i[0]].brand,\n",
    "    #             \"platform\" : new_df.iloc[i[0]].platform,\n",
    "    #             #\"description\" : new_df.iloc[i[0]].description\n",
    "    #         }\n",
    "    #         print(temp)\n",
    "    #         result.append(temp)\n",
    "\n",
    "    # ans = {\n",
    "    #     \"recommended_products\": result\n",
    "    # }        \n",
    "    # #return jsonify(ans)\n",
    "\n"
   ]
  },
  {
   "cell_type": "code",
   "execution_count": 37,
   "id": "541bb460-7bf1-4b84-bb79-216bb3a065d9",
   "metadata": {},
   "outputs": [
    {
     "name": "stdout",
     "output_type": "stream",
     "text": [
      "983 Haier 165 L 1 10,990 https://m.media-amazon.com/images/I/51LGKnrcXCL._AC_UY218_.jpg /sspa/click?ie=UTF8&spc=MToyMjQ5MTI1NzUyNDQwMDE5OjE3MDU3ODA4Mjk6c3BfYnRmOjMwMDA2Nzg2OTQ0MTQzMjo6MDo6&url=%2FHaier-Direct-Single-Refrigerator-HED-171RS-P%2Fdp%2FB0BTHLCK15%2Fref%3Dsr_1_102_sspa%3Fcrid%3D2W72KX37PBXF%26keywords%3Dfridges%26qid%3D1705780829%26sprefix%3D%252Caps%252C311%26sr%3D8-102-spons%26sp_csd%3Dd2lkZ2V0TmFtZT1zcF9idGY%26psc%3D1 Haier Amazon\n",
      "895 165 L 1 Star 10,990 https://m.media-amazon.com/images/I/51LGKnrcXCL._AC_UY218_.jpg /sspa/click?ie=UTF8&spc=MTo2NzIxOTI1MzIzMzkzMDE5OjE3MDU3ODA4MjQ6c3BfYnRmOjMwMDA2Nzg2OTQ0MTQzMjo6MDo6&url=%2FHaier-Direct-Single-Refrigerator-HED-171RS-P%2Fdp%2FB0BTHLCK15%2Fref%3Dsr_1_38_sspa%3Fcrid%3D2W72KX37PBXF%26keywords%3Dfridges%26qid%3D1705780824%26sprefix%3D%252Caps%252C311%26sr%3D8-38-spons%26sp_csd%3Dd2lkZ2V0TmFtZT1zcF9idGY%26psc%3D1 165 Amazon\n",
      "861 Haier 190 L 5 15,290 https://m.media-amazon.com/images/I/51FkYi5cLeL._AC_UY218_.jpg /Haier-Direct-Refrigerator-HRD-2203BS-Brushline/dp/B08KH7VF4Q/ref=sr_1_10?crid=2W72KX37PBXF&keywords=fridges&qid=1705780823&sprefix=%2Caps%2C311&sr=8-10 Haier Amazon\n",
      "963 Haier 190 L 4 14,490 https://m.media-amazon.com/images/I/51YoxGAgWoL._AC_UY218_.jpg /sspa/click?ie=UTF8&spc=MToyMjQ5MTI1NzUyNDQwMDE5OjE3MDU3ODA4Mjk6c3BfYXRmX25leHQ6MzAwMDY3ODY5NDQxNTMyOjowOjo&url=%2FHaier-Direct-Single-Refrigerator-HED-204DS-P%2Fdp%2FB0BTHLMS39%2Fref%3Dsr_1_82_sspa%3Fcrid%3D2W72KX37PBXF%26keywords%3Dfridges%26qid%3D1705780829%26sprefix%3D%252Caps%252C311%26sr%3D8-82-spons%26sp_csd%3Dd2lkZ2V0TmFtZT1zcF9hdGZfbmV4dA%26psc%3D1 Haier Amazon\n",
      "883 175 L 2 Star 11,676 https://m.media-amazon.com/images/I/61TMs6hqh-L._AC_UY218_.jpg /Haier-Direct-Single-Refrigerator-HED-182ME-N/dp/B0BTHKBVRD/ref=sr_1_26?crid=2W72KX37PBXF&keywords=fridges&qid=1705780824&sprefix=%2Caps%2C311&sr=8-26 175 Amazon\n",
      "887 190 L 4 Star 14,490 https://m.media-amazon.com/images/I/51YoxGAgWoL._AC_UY218_.jpg /Haier-Direct-Single-Refrigerator-HED-204DS-P/dp/B0BTHLMS39/ref=sr_1_30?crid=2W72KX37PBXF&keywords=fridges&qid=1705780824&sprefix=%2Caps%2C311&sr=8-30 190 Amazon\n",
      "892 190 L 5 Star 16,490 https://m.media-amazon.com/images/I/81TMW0cVF6L._AC_UY218_.jpg /Haier-Direct-Single-Refrigerator-HED-205MFB-P/dp/B0BTHLGZ1Q/ref=sr_1_35?crid=2W72KX37PBXF&keywords=fridges&qid=1705780824&sprefix=%2Caps%2C311&sr=8-35 190 Amazon\n",
      "970 Haier 215L 5 Star 18,990 https://m.media-amazon.com/images/I/81H6dLlFeJL._AC_UY218_.jpg /Haier-Inverter-Refrigerator-Appliance-HED-225RFB-P/dp/B0C23J45GP/ref=sr_1_89?crid=2W72KX37PBXF&keywords=fridges&qid=1705780829&sprefix=%2Caps%2C311&sr=8-89 Haier Amazon\n",
      "1121 188L 1 Star Single 14,490 https://m.media-amazon.com/images/I/41rbs9d6UeL._AC_UY218_.jpg /Voltas-Beko-Single-Direct-Refrigerator/dp/B0C3MV69LC/ref=sr_1_198?crid=2W72KX37PBXF&dib=eyJ2IjoiMSJ9.XXKSxcAI_Qr3RZGwhCD35I5al9hqowbsQjzVYkfwKbLhHzR87kbqyMUbqU88GKRPsjF96yx3XWmYQQSS5fYs57oLj_darV1rZVBXSRkc7UGC8l4398AuS2gCw2qYgGAWkBhmncKN4AnE8OoEG4TW6usdjLTz2mabTjrJF1XadW99QdguJ6U4-PiwUgkA58uCihJIDbOAN0LiS3sz33-yow1xNYU-iuZYjxrdn2LZZvo.zVP_Ien76qATv6EsPhUyeLYvL2pw0rPHLNMIcMFAxR4&dib_tag=se&keywords=fridges&qid=1705780837&sprefix=%2Caps%2C311&sr=8-198 188L Amazon\n",
      "1130 200L 3 Star Single 15,790 https://m.media-amazon.com/images/I/41ZfwwBXVxL._AC_UY218_.jpg /Voltas-Beko-Refrigerator-RDC220C54-XWEXXXXXG/dp/B0C4LZRPHZ/ref=sr_1_207?crid=2W72KX37PBXF&dib=eyJ2IjoiMSJ9.XXKSxcAI_Qr3RZGwhCD35I5al9hqowbsQjzVYkfwKbLhHzR87kbqyMUbqU88GKRPsjF96yx3XWmYQQSS5fYs57oLj_darV1rZVBXSRkc7UGC8l4398AuS2gCw2qYgGAWkBhmncKN4AnE8OoEG4TW6usdjLTz2mabTjrJF1XadW99QdguJ6U4-PiwUgkA58uCihJIDbOAN0LiS3sz33-yow1xNYU-iuZYjxrdn2LZZvo.zVP_Ien76qATv6EsPhUyeLYvL2pw0rPHLNMIcMFAxR4&dib_tag=se&keywords=fridges&qid=1705780837&sprefix=%2Caps%2C311&sr=8-207 200L Amazon\n",
      "987 192 L 2 Star 13,300 https://m.media-amazon.com/images/I/71ZJ4WcJgoL._AC_UY218_.jpg /Samsung-Refrigerator-RR20A11CBRH-HL-SCARLET/dp/B08SVXJY5L/ref=sr_1_100?crid=2W72KX37PBXF&dib=eyJ2IjoiMSJ9.CzJq9yNO2bZ8cAo44acFw8YmOOaWGnc-E3O_oPiV4sq3CyAY7trHdmj84440p1JTbDWPiFcrAve7gF__HcDpp4WuPd8xzxvyTWjNDPpuMQIhBU7Jwx_f1Mk-qKRr1yQAjuJhGrr_T089mOdiuhO6p4yeeFyqccbbbwW1d0TkQ3m0gFO_koYDdtFdhor4qGRtK8b4ESTBNtGv3lEu0DsoBh80r6eTx-3PeupOJ_wpKyA.yPJYJIgFEGuBdwHvAwi3yt781W39eFumyuHW0cqGq5I&dib_tag=se&keywords=fridges&qid=1705780830&sprefix=%2Caps%2C311&sr=8-100 192 Amazon\n",
      "898 180 L 5 Star 15,590 https://m.media-amazon.com/images/I/71T-TPBD83L._AC_UY218_.jpg /Godrej-Refrigerator-EDGENEO-207E-THF/dp/B0CGZYMNQP/ref=sr_1_35?crid=2W72KX37PBXF&dib=eyJ2IjoiMSJ9.ZUIMy6qYiolbIhbxxpmBBZEyAGgEPwHt2L9MsBkcZQ3zHM6FxtxbztppbddB0x_rYR6j2Cl1jV3U-eJMjkx6GxBkEefGvKo-iH6yU2P6EJTomKuvapK9zkx-aXwOomgOoRNaOisPPqRPXa626xuv7U-VtwbEV8RmP5idsBaTBZ61VFcAyVvL10MClLIOg5Er83Kh-Z_T8pJWslZ8hL31a0bKNljtrBt2a6e5yyfqrd8.6bVTfdw8q7uk2oLyM_KHn-RkAlVmrPGZhrBSHHIm0mU&dib_tag=se&keywords=fridges&qid=1705780825&sprefix=%2Caps%2C311&sr=8-35 180 Amazon\n",
      "949 Godrej 180 L 5 15,590 https://m.media-amazon.com/images/I/71T-TPBD83L._AC_UY218_.jpg /Godrej-Refrigerator-EDGENEO-207E-THF/dp/B0CGZYMNQP/ref=sr_1_74?crid=2W72KX37PBXF&keywords=fridges&qid=1705780827&sprefix=%2Caps%2C311&sr=8-74 Godrej Amazon\n",
      "905 184 Litre 3 Star 15,449 https://m.media-amazon.com/images/I/41mIxA1tkPL._AC_UY218_.jpg /Whirlpool-Direct-Single-Refrigerator-Steel-Z/dp/B0C3D4YDZ8/ref=sr_1_42?crid=2W72KX37PBXF&dib=eyJ2IjoiMSJ9.ZUIMy6qYiolbIhbxxpmBBZEyAGgEPwHt2L9MsBkcZQ3zHM6FxtxbztppbddB0x_rYR6j2Cl1jV3U-eJMjkx6GxBkEefGvKo-iH6yU2P6EJTomKuvapK9zkx-aXwOomgOoRNaOisPPqRPXa626xuv7U-VtwbEV8RmP5idsBaTBZ61VFcAyVvL10MClLIOg5Er83Kh-Z_T8pJWslZ8hL31a0bKNljtrBt2a6e5yyfqrd8.6bVTfdw8q7uk2oLyM_KHn-RkAlVmrPGZhrBSHHIm0mU&dib_tag=se&keywords=fridges&qid=1705780825&sprefix=%2Caps%2C311&sr=8-42 184 Amazon\n",
      "973 Haier 240 L 2 20,990 https://m.media-amazon.com/images/I/71n3gFbqVrL._AC_UY218_.jpg /sspa/click?ie=UTF8&spc=MToyMjQ5MTI1NzUyNDQwMDE5OjE3MDU3ODA4Mjk6c3BfbXRmOjIwMTUzMDEzNzYzMTk4OjowOjo&url=%2FHaier-Double-Refrigerator-HEF-252EGS-P-Silver%2Fdp%2FB0BTHLGVQ6%2Fref%3Dsr_1_92_sspa%3Fcrid%3D2W72KX37PBXF%26keywords%3Dfridges%26qid%3D1705780829%26sprefix%3D%252Caps%252C311%26sr%3D8-92-spons%26sp_csd%3Dd2lkZ2V0TmFtZT1zcF9tdGY%26psc%3D1 Haier Amazon\n",
      "976 Haier 445 L 2 50,974 https://m.media-amazon.com/images/I/71XAp9xzmZL._AC_UY218_.jpg /Haier-Litres-Convertible-Inverter-Refrigerator/dp/B0C49LZJSG/ref=sr_1_95?crid=2W72KX37PBXF&keywords=fridges&qid=1705780829&sprefix=%2Caps%2C311&sr=8-95 Haier Amazon\n",
      "889 189 L, 5 Star, 24,980 https://m.media-amazon.com/images/I/71p5BgL+QnL._AC_UY218_.jpg /Samsung-Direct-Cool-Digi-Touch-Refrigerator-RR21C2F25NJ/dp/B0BXDM2V1L/ref=sr_1_32?crid=2W72KX37PBXF&keywords=fridges&qid=1705780824&sprefix=%2Caps%2C311&sr=8-32 189 Amazon\n",
      "908 215 L, 4 Star, 19,990 https://m.media-amazon.com/images/I/71p5BgL+QnL._AC_UY218_.jpg /Samsung-Direct-Cool-Digi-Touch-Refrigerator-RR23C2F24NJ/dp/B0BXDHNT6D/ref=sr_1_45?crid=2W72KX37PBXF&dib=eyJ2IjoiMSJ9.ZUIMy6qYiolbIhbxxpmBBZEyAGgEPwHt2L9MsBkcZQ3zHM6FxtxbztppbddB0x_rYR6j2Cl1jV3U-eJMjkx6GxBkEefGvKo-iH6yU2P6EJTomKuvapK9zkx-aXwOomgOoRNaOisPPqRPXa626xuv7U-VtwbEV8RmP5idsBaTBZ61VFcAyVvL10MClLIOg5Er83Kh-Z_T8pJWslZ8hL31a0bKNljtrBt2a6e5yyfqrd8.6bVTfdw8q7uk2oLyM_KHn-RkAlVmrPGZhrBSHHIm0mU&dib_tag=se&keywords=fridges&qid=1705780825&sprefix=%2Caps%2C311&sr=8-45 215 Amazon\n",
      "891 Havells 93 L 1 10,990 https://m.media-amazon.com/images/I/61V6JmLOTNL._AC_UY218_.jpg /Lloyd-Havells-Direct-Cool-Refrigerator-GLDC111CBST1GC/dp/B0CD5YFPJ9/ref=sr_1_34?crid=2W72KX37PBXF&keywords=fridges&qid=1705780824&sprefix=%2Caps%2C311&sr=8-34 Havells Amazon\n",
      "1045 178L 3Star Direct Cool 13,990 https://m.media-amazon.com/images/I/71eslqmWmCL._AC_UY218_.jpg /LLYOD-Direct-Single-Refrigerator-BLUE-GLDC193SCBT4JC/dp/B0C1RZ753S/ref=sr_1_146?crid=2W72KX37PBXF&keywords=fridges&qid=1705780833&sprefix=%2Caps%2C311&sr=8-146 178L Amazon\n",
      "1078 Lloyd 255 L 3 20,50019,000 https://m.media-amazon.com/images/I/619jJfF4+WL._AC_UY218_.jpg /Lloyd-Inverter-Refrigerator-GLDF273SSWT2PB-Stellata/dp/B0914M5YCD/ref=sr_1_167_mod_primary_new?crid=2W72KX37PBXF&keywords=fridges&qid=1705780835&sbo=RZvfv%2F%2FHxDF%2BO5021pAnSA%3D%3D&sprefix=%2Caps%2C311&sr=8-167 Lloyd Amazon\n",
      "993 223L 3 Star Inverter 20,200 https://m.media-amazon.com/images/I/71VpuPTDn2L._AC_UY218_.jpg /Samsung-Direct-Cool-Refrigerator-RR24C2823CU-NL/dp/B0BXDHK79G/ref=sr_1_106?crid=2W72KX37PBXF&dib=eyJ2IjoiMSJ9.CzJq9yNO2bZ8cAo44acFw8YmOOaWGnc-E3O_oPiV4sq3CyAY7trHdmj84440p1JTbDWPiFcrAve7gF__HcDpp4WuPd8xzxvyTWjNDPpuMQIhBU7Jwx_f1Mk-qKRr1yQAjuJhGrr_T089mOdiuhO6p4yeeFyqccbbbwW1d0TkQ3m0gFO_koYDdtFdhor4qGRtK8b4ESTBNtGv3lEu0DsoBh80r6eTx-3PeupOJ_wpKyA.yPJYJIgFEGuBdwHvAwi3yt781W39eFumyuHW0cqGq5I&dib_tag=se&keywords=fridges&qid=1705780830&sprefix=%2Caps%2C311&sr=8-106 223L Amazon\n",
      "1035 189L 5 Star Inverter 17,994 https://m.media-amazon.com/images/I/619xuNVks4L._AC_UY218_.jpg /Samsung-Direct-Cool-Refrigerator-RR21C2H25DX-HL/dp/B0BXDK5FKL/ref=sr_1_136?crid=2W72KX37PBXF&keywords=fridges&qid=1705780833&sprefix=%2Caps%2C311&sr=8-136 189L Amazon\n",
      "1037 246L 3 Star Inverter 24,600 https://m.media-amazon.com/images/I/71CQUXZ-5XL._AC_UY218_.jpg /Samsung-Direct-Cool-Refrigerator-RR26C3893CU-HL/dp/B0BXDM5J2N/ref=sr_1_138?crid=2W72KX37PBXF&keywords=fridges&qid=1705780833&sprefix=%2Caps%2C311&sr=8-138 246L Amazon\n",
      "1154 220 L 3 Star 33999 https://m.media-amazon.com/images/I/61030eF48ZL._AC_UY218_.jpg /Haier-Single-Refrigerator-Technology-HRD-2203PMC/dp/B0B8ZNFV6K/ref=sr_1_225?crid=2W72KX37PBXF&keywords=fridges&qid=1705780838&sprefix=%2Caps%2C311&sr=8-225 220 Amazon\n",
      "882 223 L, 3 Star, 18,690 https://m.media-amazon.com/images/I/61bPKSegaGL._AC_UY218_.jpg /Samsung-Inverter-Refrigerator-RR24C2Z23CR-NL/dp/B0BR3VLL5C/ref=sr_1_25?crid=2W72KX37PBXF&keywords=fridges&qid=1705780824&sprefix=%2Caps%2C311&sr=8-25 223 Amazon\n",
      "1218 Haier Refrigerator DC 185 12,990 https://m.media-amazon.com/images/I/41O6ryJU9HL._AC_UY218_.jpg /Haier-Refrigerator-Single-Rating-HRD-2052BBR-P/dp/B0C8BFQG3K/ref=sr_1_271?crid=2W72KX37PBXF&keywords=fridges&qid=1705780841&sprefix=%2Caps%2C311&sr=8-271 Haier Amazon\n",
      "1041 234 L 3 Star 17,490 https://m.media-amazon.com/images/I/61oib5Z4XgL._AC_UY218_.jpg /Godrej-Refrigerator-EDGEPRO-240C-TDF/dp/B0CCYHRMYY/ref=sr_1_142?crid=2W72KX37PBXF&keywords=fridges&qid=1705780833&sprefix=%2Caps%2C311&sr=8-142 234 Amazon\n",
      "933 Midea 93 L Direct 10,490 https://m.media-amazon.com/images/I/8128smfBXmL._AC_UY218_.jpg /Midea-Direct-Single-Refrigerator-MDRD142FGF03/dp/B08XBC1D2P/ref=sr_1_64?crid=2W72KX37PBXF&keywords=fridges&qid=1705780826&sprefix=%2Caps%2C311&sr=8-64 Midea Amazon\n",
      "956 Whirlpool 184 Litre 3 15,449 https://m.media-amazon.com/images/I/41mIxA1tkPL._AC_UY218_.jpg /Whirlpool-Direct-Single-Refrigerator-Steel-Z/dp/B0C3D4YDZ8/ref=sr_1_81?crid=2W72KX37PBXF&keywords=fridges&qid=1705780827&sprefix=%2Caps%2C311&sr=8-81 Whirlpool Amazon\n",
      "1117 240 L 2 Star 20,990 https://m.media-amazon.com/images/I/71n3gFbqVrL._AC_UY218_.jpg /sspa/click?ie=UTF8&spc=MTo0MDMzMDU5ODA3NDg0MDE5OjE3MDU3ODA4Mzc6c3BfYXRmX25leHQ6MzAwMDY3OTEzMDk1NzMyOjowOjo&url=%2FHaier-Double-Refrigerator-HEF-252EGS-P-Silver%2Fdp%2FB0BTHLGVQ6%2Fref%3Dsr_1_194_sspa%3Fcrid%3D2W72KX37PBXF%26dib%3DeyJ2IjoiMSJ9.XXKSxcAI_Qr3RZGwhCD35I5al9hqowbsQjzVYkfwKbLhHzR87kbqyMUbqU88GKRPsjF96yx3XWmYQQSS5fYs57oLj_darV1rZVBXSRkc7UGC8l4398AuS2gCw2qYgGAWkBhmncKN4AnE8OoEG4TW6usdjLTz2mabTjrJF1XadW99QdguJ6U4-PiwUgkA58uCihJIDbOAN0LiS3sz33-yow1xNYU-iuZYjxrdn2LZZvo.zVP_Ien76qATv6EsPhUyeLYvL2pw0rPHLNMIcMFAxR4%26dib_tag%3Dse%26keywords%3Dfridges%26qid%3D1705780837%26sprefix%3D%252Caps%252C311%26sr%3D8-194-spons%26sp_csd%3Dd2lkZ2V0TmFtZT1zcF9hdGZfbmV4dA%26psc%3D1 240 Amazon\n",
      "1223 LLOYD - Refrigerator Single 14,900 https://m.media-amazon.com/images/I/51Hj5oqJfjL._AC_UY218_.jpg /Havells-Havells-LLOYD-Refrigerator-Begonia-GLDC213SBWT1PB/dp/B0BR744XV1/ref=sr_1_276?crid=2W72KX37PBXF&keywords=fridges&qid=1705780841&sprefix=%2Caps%2C311&sr=8-276 LLOYD Amazon\n",
      "953 Samsung 215 L, 4 19,990 https://m.media-amazon.com/images/I/71p5BgL+QnL._AC_UY218_.jpg /Samsung-Direct-Cool-Digi-Touch-Refrigerator-RR23C2F24NJ/dp/B0BXDHNT6D/ref=sr_1_78?crid=2W72KX37PBXF&keywords=fridges&qid=1705780827&sprefix=%2Caps%2C311&sr=8-78 Samsung Amazon\n",
      "996 343 L 3 Star 44,990 https://m.media-amazon.com/images/I/61dxco4xGvL._AC_UY218_.jpg /LG-Frost-Free-Refrigerator-GL-T382TPZX-Convertible/dp/B0C1P4HHT5/ref=sr_1_109?crid=2W72KX37PBXF&dib=eyJ2IjoiMSJ9.CzJq9yNO2bZ8cAo44acFw8YmOOaWGnc-E3O_oPiV4sq3CyAY7trHdmj84440p1JTbDWPiFcrAve7gF__HcDpp4WuPd8xzxvyTWjNDPpuMQIhBU7Jwx_f1Mk-qKRr1yQAjuJhGrr_T089mOdiuhO6p4yeeFyqccbbbwW1d0TkQ3m0gFO_koYDdtFdhor4qGRtK8b4ESTBNtGv3lEu0DsoBh80r6eTx-3PeupOJ_wpKyA.yPJYJIgFEGuBdwHvAwi3yt781W39eFumyuHW0cqGq5I&dib_tag=se&keywords=fridges&qid=1705780830&sprefix=%2Caps%2C311&sr=8-109 343 Amazon\n",
      "6133 Haier 190 L Direct ₹15,490 https://rukminim2.flixcart.com/image/312/312/xif0q/refrigerator-new/7/t/g/-original-imagrt58ahjdmdwm.jpeg?q=70 /haier-190-l-direct-cool-single-door-4-star-refrigerator-base-drawer/p/itm2d9dd48541891?pid=RFRGHQAFZSRKU86P&lid=LSTRFRGHQAFZSRKU86PGGM2GR&marketplace=FLIPKART&q=fridges&store=j9e%2Fabm%2Fhzg&srno=s_1_20&otracker=search&otracker1=search&fm=organic&iid=5e2011c2-0442-4d95-a468-b3db82eba3a6.RFRGHQAFZSRKU86P.SEARCH&ppt=None&ppn=None&ssid=s7sqv2abr40000001705835578084&qH=9f6f8a5586e56d28 Haier Flipkart\n"
     ]
    }
   ],
   "source": [
    "recommend(\"Haier 165 L 1\")"
   ]
  },
  {
   "cell_type": "code",
   "execution_count": 38,
   "id": "44bf93a0-094e-4f9d-8e15-5b68173f09c5",
   "metadata": {},
   "outputs": [],
   "source": [
    "# def recommend(title):\n",
    "#     if title not in new_df['title'].values:\n",
    "#         print(f\"Title '{title}' not found in the DataFrame.\")\n",
    "#         return\n",
    "#     product_index = new_df[new_df['title'] == title].index[0]\n",
    "#     print(product_index)\n",
    "#     # rest of your code\n",
    "# recommend('ASUS ROG Strix G15')"
   ]
  },
  {
   "cell_type": "code",
   "execution_count": 39,
   "id": "b9420a74-436b-4a7f-a76a-76607c1eaebd",
   "metadata": {},
   "outputs": [
    {
     "name": "stdout",
     "output_type": "stream",
     "text": [
      "title                                      15 Laptop, Intel Core\n",
      "description    Laptop Intel Core i51135G7 Processor 8GB DDR4 ...\n",
      "brand                                                         15\n",
      "platform                                                  Amazon\n",
      "type                                                     Laptops\n",
      "tags           15 laptop, intel corelaptop intel core i51135g...\n",
      "Name: 99, dtype: object\n"
     ]
    }
   ],
   "source": [
    "print(new_df.iloc[99])"
   ]
  },
  {
   "cell_type": "code",
   "execution_count": 40,
   "id": "89fa5864-fd0c-4443-8d62-ef5b3502289f",
   "metadata": {},
   "outputs": [
    {
     "name": "stdout",
     "output_type": "stream",
     "text": [
      "title                                HP [SmartChoice] 15s, Ryzen\n",
      "description    SmartChoice 15s Ryzen 55500U 16GB RAM512GB SSD...\n",
      "brand                                                         HP\n",
      "platform                                                  Amazon\n",
      "type                                                     Laptops\n",
      "tags           hp [smartchoice] 15s, ryzensmartchoic 15 ryzen...\n",
      "Name: 50, dtype: object\n"
     ]
    }
   ],
   "source": [
    "print(new_df.iloc[50])"
   ]
  },
  {
   "cell_type": "code",
   "execution_count": 41,
   "id": "3f9b436d-0c7c-4f54-95d5-e6ad8a8e3237",
   "metadata": {},
   "outputs": [
    {
     "name": "stdout",
     "output_type": "stream",
     "text": [
      "12066\n"
     ]
    }
   ],
   "source": [
    "print(len(new_df))"
   ]
  },
  {
   "cell_type": "code",
   "execution_count": 42,
   "id": "86b88704-8afb-4873-a069-0adc9f8e0a83",
   "metadata": {},
   "outputs": [
    {
     "name": "stdout",
     "output_type": "stream",
     "text": [
      "                                    title  \\\n",
      "0                Victus Gaming Laptop AMD   \n",
      "1                     Laptop 15, 12th Gen   \n",
      "2       (Refurbished) Lenovo ThinkPad 7th   \n",
      "3                    Aspire Lite 12th Gen   \n",
      "4                   15 Laptop, Intel Core   \n",
      "...                                   ...   \n",
      "10572   Panasonic Convertible 7-in-1 with   \n",
      "11701                          LG 1 Ton 5   \n",
      "11702     IFB FastCool Convertible 8-in-1   \n",
      "11703             Hitachi Ice Clean Frost   \n",
      "11704  SAMSUNG Convertible 5-in-1 Cooling   \n",
      "\n",
      "                                             description        brand  \\\n",
      "0      Gaming Laptop AMD Ryzen 7 7840HS 409 cm 161inc...       Victus   \n",
      "1      15 12th Gen i31215U 156inch 396 cm FHD AntiGla...       Laptop   \n",
      "2      Lenovo ThinkPad 7th Gen Intel Core i5 Thin  Li...  Refurbished   \n",
      "3      Lite 12th Gen Intel Core i51235U Thin and Ligh...       Aspire   \n",
      "4      Laptop Intel Core i51135G7 Processor 8GB 1TB25...           15   \n",
      "...                                                  ...          ...   \n",
      "10572  Annual Power Usage 52315 kWhRoom Size 90 sqft ...    Panasonic   \n",
      "11701  Annual Power Usage 5212 WRoom Size 90 sqft or ...           LG   \n",
      "11702  Annual Power Usage 124828 kWhRoom Size 151  20...          IFB   \n",
      "11703  Annual Power Usage 1251 kWhRoom Size 151  200 ...      Hitachi   \n",
      "11704  Annual Power Usage 114522 kWhRoom Size 151  20...      SAMSUNG   \n",
      "\n",
      "       platform     type                                               tags  \n",
      "0        Amazon  Laptops  victu game laptop amdgam laptop amd ryzen 7 78...  \n",
      "1        Amazon  Laptops  laptop 15, 12th gen15 12th gen i31215u 156inch...  \n",
      "2        Amazon  Laptops  (refurbished) lenovo thinkpad 7thlenovo thinkp...  \n",
      "3        Amazon  Laptops  aspir lite 12th genlit 12th gen intel core i51...  \n",
      "4        Amazon  Laptops  15 laptop, intel corelaptop intel core i51135g...  \n",
      "...         ...      ...                                                ...  \n",
      "10572  Flipkart  Laptops  panason convert 7-in-1 withannu power usag 523...  \n",
      "11701  Flipkart  Laptops  lg 1 ton 5annual power usag 5212 wroom size 90...  \n",
      "11702  Flipkart  Laptops  ifb fastcool convert 8-in-1annu power usag 124...  \n",
      "11703  Flipkart  Laptops  hitachi ice clean frostannu power usag 1251 kw...  \n",
      "11704  Flipkart  Laptops  samsung convert 5-in-1 coolingannu power usag ...  \n",
      "\n",
      "[1726 rows x 6 columns]\n",
      "1726\n"
     ]
    }
   ],
   "source": [
    "# Remove duplicate rows and keep only the first occurrence\n",
    "df_2 = new_df.drop_duplicates(keep='first')\n",
    "\n",
    "# Display the DataFrame without duplicates\n",
    "print(df_2)\n",
    "print(len(df_2))"
   ]
  },
  {
   "cell_type": "code",
   "execution_count": 43,
   "id": "c5842dd3-2ed9-47da-8772-9b2ccb7c153b",
   "metadata": {},
   "outputs": [
    {
     "name": "stdout",
     "output_type": "stream",
     "text": [
      "[(0, 0.9999999999999998), (123, 0.8853648783083362), (234, 0.50709255283711), (388, 0.47387910220727386), (338, 0.4507489358552089), (191, 0.3944053188733077), (346, 0.38502677054341), (104, 0.37527767497325676), (83, 0.36018013511259855), (205, 0.3508232077228116), (259, 0.3508232077228116), (201, 0.34442336009683217), (289, 0.34442336009683217), (97, 0.33946736991660215), (326, 0.3380617018914066), (413, 0.3347193406976015), (38, 0.33333333333333326), (43, 0.33333333333333326), (321, 0.32791291789197646), (377, 0.32791291789197646), (61, 0.32274861218395134), (122, 0.32274861218395134), (215, 0.32274861218395134), (37, 0.3222516933177448), (96, 0.3178208630818641), (184, 0.3136462716817105), (288, 0.3136462716817105), (144, 0.31311214554257466), (179, 0.31311214554257466), (314, 0.31311214554257466), (366, 0.31052950170405935), (271, 0.30626532551433744), (415, 0.30626532551433744), (183, 0.30512857662936466), (270, 0.30512857662936466), (309, 0.30512857662936466), (353, 0.30512857662936466), (375, 0.30512857662936466), (128, 0.3045547950507524), (148, 0.3045547950507524), (115, 0.30429030972509225), (411, 0.29999999999999993), (10, 0.29814239699997197), (203, 0.29235267310234303), (225, 0.29235267310234303), (239, 0.29235267310234303), (41, 0.2921186973360886), (294, 0.2904737509655562), (382, 0.2904737509655562), (82, 0.28603877677367767), (283, 0.28603877677367767), (337, 0.28603877677367767), (281, 0.2810913475705226), (34, 0.2777460299317654), (59, 0.2777460299317654), (194, 0.27602622373694163), (226, 0.27602622373694163), (227, 0.27602622373694163), (256, 0.27602622373694163), (322, 0.27602622373694163), (334, 0.27602622373694163), (420, 0.27602622373694163), (265, 0.2666666666666666), (287, 0.2666666666666666), (331, 0.2666666666666666), (397, 0.2666666666666666), (422, 0.2666666666666666), (266, 0.25980762113533157), (347, 0.25980762113533157), (206, 0.2566196768304905), (254, 0.2566196768304905), (272, 0.2566196768304905), (299, 0.2566196768304905), (354, 0.25425669046549126), (369, 0.25425669046549126), (156, 0.2506402059138015), (238, 0.2506402059138015), (305, 0.2506402059138015), (189, 0.24688535993934702), (235, 0.24688535993934702), (324, 0.24688535993934702), (46, 0.2459549291242073), (398, 0.2459549291242073), (40, 0.2449489742783178), (379, 0.2449489742783178), (389, 0.2434322477800738), (182, 0.24152294576982392), (12, 0.24012009007506568), (78, 0.23904572186687872), (345, 0.23904572186687872), (410, 0.23904572186687872), (279, 0.2373222262672836), (320, 0.2373222262672836), (161, 0.2338821384818744), (301, 0.2338821384818744), (24, 0.23354968324845687), (50, 0.23354968324845687), (135, 0.23354968324845687), (267, 0.23354968324845687), (298, 0.23354968324845687)]\n"
     ]
    }
   ],
   "source": [
    "# Assuming 'similarity' is your similarity matrix\n",
    "result = sorted(enumerate(similarity[0]), reverse=True, key=lambda x: x[1])\n",
    "\n",
    "# Filter out tuples with similarity score 1.0\n",
    "filtered_result = [(index, score) for index, score in result if score < 1.0]\n",
    "\n",
    "# Take the top 100 tuples\n",
    "top_100 = filtered_result[:100]\n",
    "\n",
    "# Print the top 100 tuples\n",
    "print(top_100)"
   ]
  },
  {
   "cell_type": "code",
   "execution_count": 44,
   "id": "ea28c39b-7c81-407f-934e-2b45b8f8d87b",
   "metadata": {},
   "outputs": [],
   "source": [
    "# def recommend(product):\n",
    "#     product_index = new_df[new_df['product_name'] == product].index[0]\n",
    "#     distances = similarity[product_index]\n",
    "#     products_list = sorted(list(enumerate(distances)),reverse=True,key=lambda x:x[1])[1:10]\n",
    "#     for i in products_list:\n",
    "#         print(new_df.iloc[i[0]].product_name)"
   ]
  },
  {
   "cell_type": "code",
   "execution_count": null,
   "id": "698da640-5810-44bc-856c-ef40c91eb15b",
   "metadata": {},
   "outputs": [],
   "source": []
  }
 ],
 "metadata": {
  "kernelspec": {
   "display_name": "Python 3 (ipykernel)",
   "language": "python",
   "name": "python3"
  },
  "language_info": {
   "codemirror_mode": {
    "name": "ipython",
    "version": 3
   },
   "file_extension": ".py",
   "mimetype": "text/x-python",
   "name": "python",
   "nbconvert_exporter": "python",
   "pygments_lexer": "ipython3",
   "version": "3.11.5"
  }
 },
 "nbformat": 4,
 "nbformat_minor": 5
}
